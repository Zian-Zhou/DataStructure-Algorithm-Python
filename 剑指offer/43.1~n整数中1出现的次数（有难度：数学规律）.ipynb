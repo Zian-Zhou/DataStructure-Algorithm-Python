{
 "cells": [
  {
   "cell_type": "markdown",
   "metadata": {},
   "source": [
    "# 题目：$1\\sim n$整数中$1$出现的次数\n",
    "输入一个整数n求$1\\sim n$这$n$个整数的十进制表示中$1$出现的次数。例如输入$12$，那么$1\\sim 12$中包含1的整数有$1、10、11、12$，$1$一共出现了$5$次。\n",
    "\n",
    "## 思路：\n",
    "1.遍历一遍$1\\sim n$，每个整数都求1出现的次数，最后累加得到结果。时间复杂度高达$O(nlog_{10}{n})$。\n",
    "\n",
    "2.采用数学的办法，找规律。参照博客：https://blog.csdn.net/yi_afly/article/details/52012593 \n"
   ]
  },
  {
   "cell_type": "code",
   "execution_count": 61,
   "metadata": {},
   "outputs": [],
   "source": [
    "class Solution1:\n",
    "    def countDigitOne(self,n):\n",
    "        if n==0:\n",
    "            return 0\n",
    "        count = 0\n",
    "        for num in range(1,n+1):\n",
    "            num_str = list(str(num))\n",
    "            for s in num_str:\n",
    "                if s=='1':\n",
    "                    count+=1\n",
    "        return count"
   ]
  },
  {
   "cell_type": "code",
   "execution_count": 120,
   "metadata": {},
   "outputs": [
    {
     "data": {
      "text/plain": [
       "14578006"
      ]
     },
     "execution_count": 120,
     "metadata": {},
     "output_type": "execute_result"
    }
   ],
   "source": [
    "Solution1().countDigitOne(14111153)"
   ]
  },
  {
   "cell_type": "code",
   "execution_count": 118,
   "metadata": {},
   "outputs": [],
   "source": [
    "class Solution2:\n",
    "    def countDigitOne(self,n):\n",
    "        if n==0:\n",
    "            return 0\n",
    "        n_str = str(n)\n",
    "        length=len(n_str)#最高位数\n",
    "        if length==1:#一位数\n",
    "            return 1\n",
    "        count=0\n",
    "        #个位出现1的次数\n",
    "        if int(n_str[length-1])>0:\n",
    "            count+=int(n_str[:(length-1)])+1\n",
    "        else:\n",
    "            count+=int(n_str[:(length-1)])\n",
    "        \n",
    "        #从十位开始计数,到次高位（比如123，就到十位数）\n",
    "        for i in range(2,length):\n",
    "            base=10**(i-1)\n",
    "            high=int(n_str[:(length-i)])\n",
    "            low=int(n_str[(length-i+1):])\n",
    "            this=int(n_str[length-i])\n",
    "            if this==0:\n",
    "                count+=high*base\n",
    "            elif this==1:\n",
    "                count+=high*base+low+1\n",
    "            else:\n",
    "                count+=high*base+base\n",
    "        #最高位出现1的次数\n",
    "        base=10**(length-1)\n",
    "        this=int(n_str[0])\n",
    "        low=int(n_str[1:])\n",
    "        if this==1:\n",
    "            count+=low+1\n",
    "        else:\n",
    "            count+=base\n",
    "            \n",
    "        return count"
   ]
  },
  {
   "cell_type": "code",
   "execution_count": 121,
   "metadata": {},
   "outputs": [
    {
     "data": {
      "text/plain": [
       "14578006"
      ]
     },
     "execution_count": 121,
     "metadata": {},
     "output_type": "execute_result"
    }
   ],
   "source": [
    "Solution2().countDigitOne(14111153)"
   ]
  },
  {
   "cell_type": "code",
   "execution_count": null,
   "metadata": {},
   "outputs": [],
   "source": []
  }
 ],
 "metadata": {
  "kernelspec": {
   "display_name": "Python 3",
   "language": "python",
   "name": "python3"
  },
  "language_info": {
   "codemirror_mode": {
    "name": "ipython",
    "version": 3
   },
   "file_extension": ".py",
   "mimetype": "text/x-python",
   "name": "python",
   "nbconvert_exporter": "python",
   "pygments_lexer": "ipython3",
   "version": "3.6.5"
  }
 },
 "nbformat": 4,
 "nbformat_minor": 2
}
