{
 "cells": [
  {
   "cell_type": "markdown",
   "metadata": {},
   "source": [
    "# 题目：\n",
    "链接：https://www.nowcoder.com/questionTerminal/1277c681251b4372bdef344468e4f26e?commentTags=Python  \n",
    "来源：牛客网\n",
    "\n",
    "将一个字符串转换成一个整数，要求不能使用字符串转换整数的库函数。 数值为0或者字符串不是一个合法的数值则返回0\n",
    "\n",
    "输入描述:  \n",
    "输入一个字符串,包括数字字母符号,可以为空  \n",
    "输出描述:  \n",
    "如果是合法的数值表达则返回该数字，否则返回0  "
   ]
  },
  {
   "cell_type": "code",
   "execution_count": 21,
   "metadata": {},
   "outputs": [],
   "source": [
    "class Solution:\n",
    "    #Python lstrip() 方法用于截掉字符串左边的空格或指定字符。\n",
    "    def StrToInt(self, s):\n",
    "        label = 1\n",
    "        if not s:\n",
    "            return 0\n",
    "        if s[0]=='+':\n",
    "            s = s.lstrip('+')\n",
    "        if s[0]=='-':\n",
    "            s = s.lstrip('-')\n",
    "            label=-1\n",
    "        dict = {'0':0,'1':1,'2':2,'3':3,'4':4,'5':5,'6':6,'7':7,'8':8,'9':9}\n",
    "        res = 0\n",
    "        for i in range(len(s)):\n",
    "            if s[i] not in dict:\n",
    "                return 0\n",
    "            else:\n",
    "                res = res*10+dict[s[i]]\n",
    "        return label*res\n",
    "    "
   ]
  },
  {
   "cell_type": "code",
   "execution_count": 22,
   "metadata": {},
   "outputs": [
    {
     "data": {
      "text/plain": [
       "-123"
      ]
     },
     "execution_count": 22,
     "metadata": {},
     "output_type": "execute_result"
    }
   ],
   "source": [
    "Solution().StrToInt('-123')"
   ]
  },
  {
   "cell_type": "code",
   "execution_count": 23,
   "metadata": {},
   "outputs": [
    {
     "data": {
      "text/plain": [
       "123"
      ]
     },
     "execution_count": 23,
     "metadata": {},
     "output_type": "execute_result"
    }
   ],
   "source": [
    "Solution().StrToInt('+123')"
   ]
  },
  {
   "cell_type": "code",
   "execution_count": 24,
   "metadata": {},
   "outputs": [
    {
     "data": {
      "text/plain": [
       "0"
      ]
     },
     "execution_count": 24,
     "metadata": {},
     "output_type": "execute_result"
    }
   ],
   "source": [
    "Solution().StrToInt('+1a23')"
   ]
  },
  {
   "cell_type": "code",
   "execution_count": null,
   "metadata": {},
   "outputs": [],
   "source": []
  }
 ],
 "metadata": {
  "kernelspec": {
   "display_name": "Python 3",
   "language": "python",
   "name": "python3"
  },
  "language_info": {
   "codemirror_mode": {
    "name": "ipython",
    "version": 3
   },
   "file_extension": ".py",
   "mimetype": "text/x-python",
   "name": "python",
   "nbconvert_exporter": "python",
   "pygments_lexer": "ipython3",
   "version": "3.6.5"
  }
 },
 "nbformat": 4,
 "nbformat_minor": 2
}
