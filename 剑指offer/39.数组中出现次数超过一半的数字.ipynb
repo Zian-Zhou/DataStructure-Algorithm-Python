{
 "cells": [
  {
   "cell_type": "markdown",
   "metadata": {},
   "source": [
    "# 题目：数组中出现次数超过一半的数字\n",
    "数组中有一个数字出现的次数超过数组长度的一半。设计函数找出这个数字。  如果没有返回None。\n",
    "\n",
    "## 思路：\n",
    "数组中如果一个数字出现次数超过长度的一半，就说明它出现的次数比其他所有数字出现次数之和还要多。  \n",
    "因此，考虑在遍历数组的时候保存两个值：一个是数组的数字，另一个是次数。当遍历到下一个数字的时候，如果下一个数字和之前保存的数字相同，对应的次数加一；如果下一个数字和之前保存的数字不同，次数减一。如果次数变为0，则需要保存下一个数字，并把次数设置为1.。 由于我们要找的数字出现的次数比其他数字出现的次数之和还要多，那么要找的数字肯定是最后一次把次数变为1时对应的数字，但不一定是，所以还要检查一下是不是出现的次数超过数组长度的一半。"
   ]
  },
  {
   "cell_type": "code",
   "execution_count": 4,
   "metadata": {},
   "outputs": [],
   "source": [
    "class Solution:\n",
    "    def MoreThanHalfNum(self,data):\n",
    "        if not data or len(data)==0:\n",
    "            return None\n",
    "        l = len(data)\n",
    "        res = data[0]\n",
    "        times = 1\n",
    "        for i in range(1,l):\n",
    "            if times==0:\n",
    "                res = data[i]\n",
    "                times = 1\n",
    "            elif data[i]==res:\n",
    "                times+=1\n",
    "            else:\n",
    "                times-=1\n",
    "        #检查res次数是不是超过长度的一半\n",
    "        if not self.CheckMoreThanHalf(data,res):\n",
    "            res = None\n",
    "        return res\n",
    "    \n",
    "    def CheckMoreThanHalf(self,data,res):\n",
    "        t = 0\n",
    "        for num in data:\n",
    "            if num==res:\n",
    "                t+=1\n",
    "        if t*2<=len(data):\n",
    "            return False\n",
    "        return True"
   ]
  },
  {
   "cell_type": "markdown",
   "metadata": {},
   "source": [
    "## 测试："
   ]
  },
  {
   "cell_type": "code",
   "execution_count": 8,
   "metadata": {},
   "outputs": [
    {
     "data": {
      "text/plain": [
       "1"
      ]
     },
     "execution_count": 8,
     "metadata": {},
     "output_type": "execute_result"
    }
   ],
   "source": [
    "Solution().MoreThanHalfNum([1,1,1,2])"
   ]
  },
  {
   "cell_type": "code",
   "execution_count": 10,
   "metadata": {},
   "outputs": [
    {
     "data": {
      "text/plain": [
       "2"
      ]
     },
     "execution_count": 10,
     "metadata": {},
     "output_type": "execute_result"
    }
   ],
   "source": [
    "Solution().MoreThanHalfNum([1,1,1,2,2,2,4,2,2,2,2,7,6])"
   ]
  },
  {
   "cell_type": "code",
   "execution_count": null,
   "metadata": {},
   "outputs": [],
   "source": []
  }
 ],
 "metadata": {
  "kernelspec": {
   "display_name": "Python 3",
   "language": "python",
   "name": "python3"
  },
  "language_info": {
   "codemirror_mode": {
    "name": "ipython",
    "version": 3
   },
   "file_extension": ".py",
   "mimetype": "text/x-python",
   "name": "python",
   "nbconvert_exporter": "python",
   "pygments_lexer": "ipython3",
   "version": "3.6.5"
  }
 },
 "nbformat": 4,
 "nbformat_minor": 2
}
