{
 "cells": [
  {
   "cell_type": "markdown",
   "metadata": {},
   "source": [
    "# 题目：礼物的最大价值\n",
    "在一个$m*n$的棋盘的每一个格子都放有一个礼物，每个礼物都有一定的价值（价值大于$0$）。可以从棋盘的左上角开始拿格子里的礼物，并且每次向左或者向下移动一格，直到棋盘的右下角。给定一个棋盘及其上面的礼物，计算最多能拿到多少价值的礼物。  \n",
    "\n",
    "## 分析：\n",
    "### 思路一：动态规划\n",
    "这是一个典型的能用动态规划解决的问题。先用递归的思路来分析：  \n",
    "先定义第一个函数$f(i,j)$表示到达坐标为$(i,j)$的格子时能拿到的礼物总和的最大值。根据题目要求，有两种途径到达坐标$(i,j)$的格子：通过格子$(i-1,j)$或者$(i,j-1)$。所以$f(i,j)=max(f(i-1,j),f(i,j-1))+gift[i,j]$。其中$gift[i,j]$表示坐标为$(i,j)$的格子里礼物的价值。  \n",
    "当然分析可以用递归思路来分析，但实现的时候如果采用递归的方式一定会有大量重复的计算，因此我们需要基于循环来实现。为了缓存中间计算结果，我们需要一个辅助的二维数组。数组中坐标$(i,j)$的元素表示到达坐标为$(i,j)$的格子时能拿到的礼物价值总和的最大值。  \n",
    "具体实现的时候，我们引入一个长度为输入的列数的数组$temp$。先遍历第一行，由于第一行的数字只来自其左边的数字，因此依次累加即可。而从第二行开始，每个位置的值都取决其上$up$的值，以及其左$left$的值中最大的一个，再加上当前礼物的价值。因此我们维护的这个辅助数组，记录下当前行的最大值，再在下一行的时候，获得他们对应的$up$值即可。所以这里的算法就是一次从上到下（行），然后从左到右，扫描直到右下角结束。\n",
    "\n",
    "### 思路二：广度优先遍历"
   ]
  },
  {
   "cell_type": "code",
   "execution_count": 13,
   "metadata": {},
   "outputs": [],
   "source": [
    "class Solution:\n",
    "    def getMaxValue(self,values,rows,cols):\n",
    "        if not values or rows<=0 or cols<=0:\n",
    "            return 0\n",
    "        temp = [0]*cols\n",
    "        #temp[0]=values[0]\n",
    "        \n",
    "        for i in range(rows):\n",
    "            for j in range(cols):\n",
    "                left,up = 0,0\n",
    "                if i>0:\n",
    "                    up=temp[j]\n",
    "                if j>0:\n",
    "                    left=temp[j-1]\n",
    "                temp[j]=max(up,left)+values[i*cols+j]\n",
    "        return temp[-1]"
   ]
  },
  {
   "cell_type": "code",
   "execution_count": 14,
   "metadata": {},
   "outputs": [
    {
     "data": {
      "text/plain": [
       "53"
      ]
     },
     "execution_count": 14,
     "metadata": {},
     "output_type": "execute_result"
    }
   ],
   "source": [
    "Solution().getMaxValue([1,10,3,8,12,2,9,6,5,7,4,11,3,7,16,5],4,4)"
   ]
  },
  {
   "cell_type": "code",
   "execution_count": 15,
   "metadata": {},
   "outputs": [
    {
     "data": {
      "text/plain": [
       "53"
      ]
     },
     "execution_count": 15,
     "metadata": {},
     "output_type": "execute_result"
    }
   ],
   "source": [
    "Solution().getMaxValue([1,10,3,8,0,12,2,9,6,0,5,7,4,11,0,3,7,16,5,0],4,5)"
   ]
  },
  {
   "cell_type": "code",
   "execution_count": null,
   "metadata": {},
   "outputs": [],
   "source": []
  }
 ],
 "metadata": {
  "kernelspec": {
   "display_name": "Python 3",
   "language": "python",
   "name": "python3"
  },
  "language_info": {
   "codemirror_mode": {
    "name": "ipython",
    "version": 3
   },
   "file_extension": ".py",
   "mimetype": "text/x-python",
   "name": "python",
   "nbconvert_exporter": "python",
   "pygments_lexer": "ipython3",
   "version": "3.6.5"
  }
 },
 "nbformat": 4,
 "nbformat_minor": 2
}
