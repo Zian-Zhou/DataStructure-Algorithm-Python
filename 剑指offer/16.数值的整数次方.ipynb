{
 "cells": [
  {
   "cell_type": "markdown",
   "metadata": {},
   "source": [
    "# 题目：数值的整数次方\n",
    "实现函数Power(base,exponent),求base的exponent次方。不需要考虑大数问题。\n",
    "\n",
    "## 分析：\n",
    "这道题完成不难，关键在于过程。面试的时候碰到这题，一定要展示出考虑到边界情况以及可能输入出错的情形，其次能用效率更高的方法解决更好。最好记住下面两个解法：\n",
    "\n",
    "### 1.全面而不高效的解法\n",
    "主要是考虑全，底数为0应该输出什么，指数为负如何处理。\n",
    "### 2.全面且高效的解法\n",
    "指数做分解，根据奇偶性分成：$exponent=(exponent//2)*(exponent//2)$，或者$exponent=(exponent//2)+(exponent//2)+1$  \n",
    "这里判断奇偶性和//的运算，可以替换成效率更高的等效的位运算"
   ]
  },
  {
   "cell_type": "markdown",
   "metadata": {},
   "source": [
    "## 解法一："
   ]
  },
  {
   "cell_type": "code",
   "execution_count": 3,
   "metadata": {},
   "outputs": [],
   "source": [
    "#用一个全局变量指出输入合法性的判断,True为不合法\n",
    "g_InvalidInput = False\n",
    "def Power(base, exponent):\n",
    "    if base == 0 and exponent<0:\n",
    "        g_InvalidInput = True\n",
    "        \n",
    "    if exponent>=0:\n",
    "        return PowerWithUnsignedExponent(base, exponent)\n",
    "    else:\n",
    "        return 1.0 / PowerWithUnsignedExponent(base, -exponent)\n",
    "    \n",
    "def PowerWithUnsignedExponent(base, absExponent):\n",
    "    result = 1.0\n",
    "    for i in range(absExponent):\n",
    "        result *= base\n",
    "    return result\n",
    "\n"
   ]
  },
  {
   "cell_type": "code",
   "execution_count": 4,
   "metadata": {},
   "outputs": [
    {
     "data": {
      "text/plain": [
       "8.0"
      ]
     },
     "execution_count": 4,
     "metadata": {},
     "output_type": "execute_result"
    }
   ],
   "source": [
    "Power(2,3)"
   ]
  },
  {
   "cell_type": "markdown",
   "metadata": {},
   "source": [
    "## 解法二：递归\n",
    "时间复杂度：$O(n)$"
   ]
  },
  {
   "cell_type": "code",
   "execution_count": 10,
   "metadata": {},
   "outputs": [],
   "source": [
    "def PowerWithUnsignedExponent(base, absExponent):\n",
    "    if absExponent==0:\n",
    "        return 1\n",
    "    if absExponent==1:\n",
    "        return base\n",
    "    \n",
    "    result = PowerWithUnsignedExponent(base, absExponent>>1)\n",
    "    result *= result\n",
    "    if (absExponent & 0x1 == 1):#如果是奇数，要多乘一次底数\n",
    "        result *=base\n",
    "    \n",
    "    return result\n"
   ]
  },
  {
   "cell_type": "code",
   "execution_count": 11,
   "metadata": {},
   "outputs": [
    {
     "data": {
      "text/plain": [
       "8"
      ]
     },
     "execution_count": 11,
     "metadata": {},
     "output_type": "execute_result"
    }
   ],
   "source": [
    "Power(2,3)"
   ]
  },
  {
   "cell_type": "code",
   "execution_count": null,
   "metadata": {},
   "outputs": [],
   "source": []
  }
 ],
 "metadata": {
  "kernelspec": {
   "display_name": "Python 3",
   "language": "python",
   "name": "python3"
  },
  "language_info": {
   "codemirror_mode": {
    "name": "ipython",
    "version": 3
   },
   "file_extension": ".py",
   "mimetype": "text/x-python",
   "name": "python",
   "nbconvert_exporter": "python",
   "pygments_lexer": "ipython3",
   "version": "3.6.5"
  }
 },
 "nbformat": 4,
 "nbformat_minor": 2
}
