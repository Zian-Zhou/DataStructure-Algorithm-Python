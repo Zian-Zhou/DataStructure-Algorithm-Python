{
 "cells": [
  {
   "cell_type": "markdown",
   "metadata": {},
   "source": [
    "# 题目：\n",
    "给定一个数组$A[0,1,...,n-1]$，请构建一个数组$B[0,1,...,n-1]$，其中B中的元素$B[i]=A[0]*A[1]*...*A[i-1]*A[i+1]*...A[n-1]$。要求不能使用除法。\n",
    "\n",
    "## 思路：\n",
    "可以把$B[i]$看成$A[0]*A[1]*...*A[i-1]$和$A[i+1]*...*A[n-1]$两个部分的乘积。因此数组B可以用一个矩阵来创建，该矩阵每一行的各元素乘积就对应$B[i]$，而第i行中，第i个位置的元素为1其余位置按$A[0,1,...,n-1]$分别填充。  \n",
    "不妨定义$C[i]=A[0]*A[1]*...*A[i-1]$，$D[i]=A[i+1]*...*A[n-1]$，那么$C[i]=C[i-1]*A[i-1]$，直观上看就是从上而下的顺序计算；对应的$D[i]=D[i+1]*A[i+1]$，从下往上顺序计算。"
   ]
  },
  {
   "cell_type": "code",
   "execution_count": 25,
   "metadata": {},
   "outputs": [],
   "source": [
    "class Solution:\n",
    "    def multiply(self,A):\n",
    "        n = len(A)\n",
    "        if n<=1:\n",
    "            return None\n",
    "        \n",
    "        C = [1]*n\n",
    "        D = [1]*n\n",
    "        B = [1]*n\n",
    "        \n",
    "        for i in range(1,n):\n",
    "            C[i] = C[i-1]*A[i-1]\n",
    "        for j in range(n-2,-1,-1):\n",
    "            D[j] = D[j+1]*A[j+1]\n",
    "            \n",
    "        for k in range(n):\n",
    "            B[k] = C[k]*D[k]\n",
    "        return B\n",
    "    "
   ]
  },
  {
   "cell_type": "code",
   "execution_count": 26,
   "metadata": {},
   "outputs": [
    {
     "data": {
      "text/plain": [
       "[0, 0, 0, 0]"
      ]
     },
     "execution_count": 26,
     "metadata": {},
     "output_type": "execute_result"
    }
   ],
   "source": [
    "Solution().multiply([0,0,0,0])"
   ]
  },
  {
   "cell_type": "code",
   "execution_count": 27,
   "metadata": {},
   "outputs": [
    {
     "data": {
      "text/plain": [
       "[10, 1]"
      ]
     },
     "execution_count": 27,
     "metadata": {},
     "output_type": "execute_result"
    }
   ],
   "source": [
    "Solution().multiply([1,10])"
   ]
  },
  {
   "cell_type": "code",
   "execution_count": 28,
   "metadata": {},
   "outputs": [
    {
     "data": {
      "text/plain": [
       "[24, 12, 8, 6]"
      ]
     },
     "execution_count": 28,
     "metadata": {},
     "output_type": "execute_result"
    }
   ],
   "source": [
    "Solution().multiply([1,2,3,4])"
   ]
  },
  {
   "cell_type": "code",
   "execution_count": null,
   "metadata": {},
   "outputs": [],
   "source": []
  }
 ],
 "metadata": {
  "kernelspec": {
   "display_name": "Python 3",
   "language": "python",
   "name": "python3"
  },
  "language_info": {
   "codemirror_mode": {
    "name": "ipython",
    "version": 3
   },
   "file_extension": ".py",
   "mimetype": "text/x-python",
   "name": "python",
   "nbconvert_exporter": "python",
   "pygments_lexer": "ipython3",
   "version": "3.6.5"
  }
 },
 "nbformat": 4,
 "nbformat_minor": 2
}
