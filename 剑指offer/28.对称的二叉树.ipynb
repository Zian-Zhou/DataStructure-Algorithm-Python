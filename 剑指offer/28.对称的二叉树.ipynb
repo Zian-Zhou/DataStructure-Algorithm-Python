{
 "cells": [
  {
   "cell_type": "markdown",
   "metadata": {},
   "source": [
    "# 题目：对称的二叉树\n",
    "实现一个函数，用来判断一棵二叉树是不是对称的。如果一个二叉树和它的镜像一样，那么它是对称的。"
   ]
  },
  {
   "cell_type": "code",
   "execution_count": 1,
   "metadata": {},
   "outputs": [],
   "source": [
    "class BinNode:\n",
    "    def __init__(self,value,left = None, right = None):\n",
    "        self.value = value\n",
    "        self.left = left\n",
    "        self.right = right\n",
    "\n",
    "class BinTree:\n",
    "    def __init__(self):\n",
    "        self.root = None\n",
    "        self.left = None\n",
    "        self.right = None\n",
    "    \n",
    "    #根据先序遍历和中序遍历序列重构二叉树，方便后面写测试用例\n",
    "    def reConstructBinTree(self,preOderList,inOrderList):\n",
    "        if not preOderList or not inOrderList:\n",
    "            print('one of the inputs:preOrderList or inOrderList is empty.' )\n",
    "        if len(preOderList)!=len(inOrderList):\n",
    "            print('Cannot build BinTree, since: the two list have different length.')\n",
    "            \n",
    "        self.root = self._reConstrucBinTree(preOderList,inOrderList)\n",
    "        self.left = self.root.left\n",
    "        self.right = self.root.right\n",
    "        \n",
    "    def _reConstrucBinTree(self,preOderList,inOrderList):\n",
    "        if not preOderList or not inOrderList:\n",
    "            return None\n",
    "        root = BinNode(preOderList[0],None,None)\n",
    "        val = inOrderList.index(preOderList[0])\n",
    "        \n",
    "        root.left = self._reConstrucBinTree(preOderList[1:val+1],inOrderList[:val])\n",
    "        root.right = self._reConstrucBinTree(preOderList[val+1:],inOrderList[val+1:])\n",
    "        \n",
    "        return root"
   ]
  },
  {
   "cell_type": "code",
   "execution_count": 2,
   "metadata": {},
   "outputs": [],
   "source": [
    "class Solution:\n",
    "    def isSymmetrical(self,root):\n",
    "        return self._isSymmetrical(root,root)\n",
    "    \n",
    "    def _isSymmetrical(self,root1,root2):\n",
    "        #如果两个节点都是空\n",
    "        if root1 is None and root2 is None:\n",
    "            return True\n",
    "        #如果有一个节点空一个节点非空\n",
    "        if root1 is None or root2 is None:\n",
    "            return False\n",
    "        #如果两个节点都非空，且两个节点数值不相同\n",
    "        if root1.value!=root2.value:\n",
    "            return False\n",
    "        \n",
    "        #如果两个节点完全相同，向下递归\n",
    "        return self._isSymmetrical(root1.left,root2.right) and self._isSymmetrical(root1.right,root2.left)"
   ]
  },
  {
   "cell_type": "markdown",
   "metadata": {},
   "source": [
    "# 测试\n",
    "测试用例不太好写。。。用中序遍历加前序遍历序列来重构二叉树的话，如果有大量节点的值相同，就很难重构。。。最好想个构建二叉树的办法。"
   ]
  },
  {
   "cell_type": "code",
   "execution_count": 3,
   "metadata": {},
   "outputs": [
    {
     "name": "stdout",
     "output_type": "stream",
     "text": [
      "[9, 8, 2]\n"
     ]
    }
   ],
   "source": [
    "tree = BinTree()\n",
    "tree.reConstructBinTree([8,9,2],[9,8,2])\n",
    "print([tree.root.left.value,tree.root.value,tree.root.right.value])"
   ]
  },
  {
   "cell_type": "code",
   "execution_count": 4,
   "metadata": {},
   "outputs": [
    {
     "data": {
      "text/plain": [
       "False"
      ]
     },
     "execution_count": 4,
     "metadata": {},
     "output_type": "execute_result"
    }
   ],
   "source": [
    "Solution().isSymmetrical(tree.root)"
   ]
  },
  {
   "cell_type": "code",
   "execution_count": 7,
   "metadata": {},
   "outputs": [
    {
     "name": "stdout",
     "output_type": "stream",
     "text": [
      "[8, 9, 8]\n"
     ]
    }
   ],
   "source": [
    "tree1 = BinTree()\n",
    "tree1.reConstructBinTree([9,8,8],[8,9,8])\n",
    "print([tree1.root.left.value,tree1.root.value,tree1.root.right.value])"
   ]
  },
  {
   "cell_type": "code",
   "execution_count": 8,
   "metadata": {},
   "outputs": [
    {
     "data": {
      "text/plain": [
       "True"
      ]
     },
     "execution_count": 8,
     "metadata": {},
     "output_type": "execute_result"
    }
   ],
   "source": [
    "Solution().isSymmetrical(tree1.root)"
   ]
  },
  {
   "cell_type": "code",
   "execution_count": null,
   "metadata": {},
   "outputs": [],
   "source": []
  }
 ],
 "metadata": {
  "kernelspec": {
   "display_name": "Python 3",
   "language": "python",
   "name": "python3"
  },
  "language_info": {
   "codemirror_mode": {
    "name": "ipython",
    "version": 3
   },
   "file_extension": ".py",
   "mimetype": "text/x-python",
   "name": "python",
   "nbconvert_exporter": "python",
   "pygments_lexer": "ipython3",
   "version": "3.6.5"
  }
 },
 "nbformat": 4,
 "nbformat_minor": 2
}
