{
 "cells": [
  {
   "cell_type": "markdown",
   "metadata": {},
   "source": [
    "# 题目：复杂链表的复制\n",
    "实现一个函数，复制一个链表。在链表中，每个节点除了有一个后继指针$next$之外，还有一个指向链表中任意节点或者空节点的指针$pSibling$。\n",
    "\n",
    "## 思路：\n",
    "两种解法。\n",
    "\n",
    "### 一、\n",
    "第一种解法，分为两步。  \n",
    "第一步是复制原始链表的每个节点$N$,创建$N'$，然后吧这些创建出来的节点用后继指针连接起来。同时我们把$<N,N'>$的配对信息放到一个哈希表中；  \n",
    "第二步还是设置复制链表每个节点的$sibling$指针，如果原始链表中节点该指针指向节点$S$，那么在复制链表中，对应$N'$对应指向$S'$。由于利用了hash表，我们可以用$O(1)$的时间根据$S$来找到$S'$，从而总体时间复杂度为$O(n)$，空间复杂度为$O(n)$。  \n",
    "这是一个牺牲空间复杂度来换取时间复杂度的方法。\n",
    "\n",
    "对于第一个解法，可能效率上还不是最优解。面试官考察这一题的时候，还会考察我们分析时间效率和空间效率的能力。实际上更优的一个解法应该如下：\n",
    "\n",
    "### 二、\n",
    "第二种解法，分为三步。\n",
    "图示建议参考《剑指offer》P188.  \n",
    "第一步依旧是根据原始链表节点$N$创建新结点$N'$。不过这次我们将新结点$N'$接到$N$之后。  \n",
    "第二步则是复制每个节点的$sibling$指针。根据第一步我们直到，如果$N$这个指针指向$S$，那么我们只需要将$N'$的这个指针指向$S'$，也就是$S$的后继。  \n",
    "第三步则是将这个长链表拆分成两个链表，奇数位置的节点用后继指针连接起来就是原始链表；偶数位置的节点用后继指针连接起来就是复制出来的链表。这一步操作的实现看起来挺复杂，其实也不难，就是遍历一遍长链表修改后继指针指向的位置即可。  \n",
    "代码实现的时候只需要将上述三步写成三个子函数，最后合并起来就好了。  "
   ]
  },
  {
   "cell_type": "code",
   "execution_count": 29,
   "metadata": {},
   "outputs": [],
   "source": [
    "class LinkNode:\n",
    "    def __init__(self,value=None,succ=None,sibling=None):\n",
    "        self.value = value\n",
    "        self.succ = succ\n",
    "        self.sibling = sibling\n",
    "    \n",
    "class Solution2:\n",
    "    def Clone(self,header):\n",
    "        self.CloneNodes(header)\n",
    "        self.ConnectSiblingNodes(header)\n",
    "        return self.ReConnectNodes(header)\n",
    "    \n",
    "    def CloneNodes(self,header):\n",
    "        #复制每个节点，并将其插入该节点和其后继结点之间\n",
    "        if header is None:\n",
    "            print('Input is None. DO NOTHING.')\n",
    "            return\n",
    "        if header.succ is None:\n",
    "            print('This LinkList is empty. Just clone the header.')\n",
    "            return\n",
    "        \n",
    "        thisNode = header.succ#从首节点开始遍历链表\n",
    "        while(thisNode is not None):#循环直到末节点（不考虑trailer尾节点哨兵）\n",
    "            newNode = LinkNode(thisNode.value,thisNode.succ)#复制结点的值及其后继指针，sibling指向空\n",
    "            tempNode = thisNode\n",
    "            thisNode = thisNode.succ\n",
    "            tempNode.succ = newNode\n",
    "            #thisNode, thisNode.succ = thisNode.succ, newNode#将新结点接到当前结点后面，并且当前结点向后移动\n",
    "            \n",
    "    def ConnectSiblingNodes(self,header):\n",
    "        if header is None or header.succ is None:\n",
    "            return \n",
    "        \n",
    "        thisNode = header.succ\n",
    "        while thisNode is not None:\n",
    "            cloneNode = thisNode.succ\n",
    "            if thisNode.sibling is not None:\n",
    "                cloneNode.sibling = thisNode.sibling.succ#复制结点sibling指针指向原结点sibling指向的节点的后继（也就是其复制结点）\n",
    "            thisNode = cloneNode.succ\n",
    "            \n",
    "    def ReConnectNodes(self,header):\n",
    "        if header is None:\n",
    "            return None\n",
    "        if header.succ is None:\n",
    "            return LinkList()\n",
    "        \n",
    "        cloneHeader = LinkNode()\n",
    "        \n",
    "        thisNode = header.succ\n",
    "        cloneFirst = thisNode.succ#复制链表的首节点\n",
    "        cloneNode = thisNode.succ\n",
    "        \n",
    "        cloneHeader.succ = cloneFirst\n",
    "        \n",
    "        thisNode.succ = cloneNode.succ\n",
    "        thisNode = cloneNode.succ\n",
    "        \n",
    "        while thisNode is not None:\n",
    "            cloneNode.succ = thisNode.succ\n",
    "            cloneNode = cloneNode.succ\n",
    "            thisNode.succ = cloneNode.succ\n",
    "            thisNode = cloneNode.succ\n",
    "            \n",
    "        return cloneHeader"
   ]
  },
  {
   "cell_type": "markdown",
   "metadata": {},
   "source": [
    "### 测试"
   ]
  },
  {
   "cell_type": "code",
   "execution_count": 30,
   "metadata": {},
   "outputs": [],
   "source": [
    "def print_LinkList(header):\n",
    "    if header is None:\n",
    "        print('header is None')\n",
    "        return\n",
    "    if header.succ is None:\n",
    "        print('LinkList is empty.')\n",
    "        return\n",
    "    thisNode = header.succ\n",
    "    while thisNode is not None:\n",
    "        print(thisNode.value,end='')\n",
    "        if thisNode.sibling is not None:\n",
    "            print('({})'.format(thisNode.sibling.value),end=' ')\n",
    "        else:\n",
    "            print(end=' ')\n",
    "        thisNode = thisNode.succ"
   ]
  },
  {
   "cell_type": "code",
   "execution_count": 31,
   "metadata": {},
   "outputs": [
    {
     "name": "stdout",
     "output_type": "stream",
     "text": [
      "1(3) 2(5) 3 4(2) 5 "
     ]
    }
   ],
   "source": [
    "head = LinkNode()\n",
    "node1 = LinkNode(value=1)\n",
    "node2 = LinkNode(value=2)\n",
    "node3 = LinkNode(value=3)\n",
    "node4 = LinkNode(value=4)\n",
    "node5 = LinkNode(value=5)\n",
    "\n",
    "head.succ = node1\n",
    "node1.succ = node2\n",
    "node2.succ = node3\n",
    "node3.succ = node4\n",
    "node4.succ = node5\n",
    "\n",
    "node1.sibling = node3\n",
    "node2.sibling = node5\n",
    "node3.sibling = None\n",
    "node4.sibling = node2\n",
    "node5.sibling = None\n",
    "\n",
    "print_LinkList(head)"
   ]
  },
  {
   "cell_type": "code",
   "execution_count": 32,
   "metadata": {},
   "outputs": [
    {
     "name": "stdout",
     "output_type": "stream",
     "text": [
      "1(3) 2(5) 3 4(2) 5 "
     ]
    }
   ],
   "source": [
    "newheader = Solution2().Clone(head)\n",
    "print_LinkList(newheader)"
   ]
  },
  {
   "cell_type": "code",
   "execution_count": null,
   "metadata": {},
   "outputs": [],
   "source": []
  }
 ],
 "metadata": {
  "kernelspec": {
   "display_name": "Python 3",
   "language": "python",
   "name": "python3"
  },
  "language_info": {
   "codemirror_mode": {
    "name": "ipython",
    "version": 3
   },
   "file_extension": ".py",
   "mimetype": "text/x-python",
   "name": "python",
   "nbconvert_exporter": "python",
   "pygments_lexer": "ipython3",
   "version": "3.6.5"
  }
 },
 "nbformat": 4,
 "nbformat_minor": 2
}
