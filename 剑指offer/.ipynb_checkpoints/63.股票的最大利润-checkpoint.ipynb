{
 "cells": [
  {
   "cell_type": "markdown",
   "metadata": {},
   "source": [
    "# 题目：股票的最大利润\n",
    "假设把某股票的价格按照时间先后顺序存储在数组中，请问买卖该股票一次可能获得最大利润是多少？例如，一只股票在某些时间节点的价格为{9,11,8,5,7,12,16,14}.如果我们能在价格为5的时候买入并且在价格为16的时候卖出，则能收获最大的利润11。\n",
    "\n",
    "## 分析：\n",
    "最大利润就是数组中所有数对的最大差值。不难想到用蛮力法来解决这个问题，即穷举出所有的数对并逐一求差值，由于长度为n的数组中存在$O(n^2)$个数对，因此该算法的时间复杂度是$O(n^2)$.\n",
    "\n",
    "当然题目有更好的解法。我们先定义函数$diff(i)$为当卖出价为数组中第i个数字的时候可能获得的最大利润。显然，卖出价固定的时候，买入价越低获得的利润越大。也就是说，如果扫描到数组中的第i个数字时，只要我们能够记住之前i-1个数字中的最小值，就能算出在当前价位卖出时能得到的最大利润。  \n",
    "由于该解法只需要遍历一遍数组，因此时间复杂度为$O(n)$."
   ]
  },
  {
   "cell_type": "code",
   "execution_count": 1,
   "metadata": {},
   "outputs": [],
   "source": [
    "class Solution:\n",
    "    def MaxDiff(self,numbers):\n",
    "        length = len(numbers)\n",
    "        if length<2:\n",
    "            return 0\n",
    "        \n",
    "        Min = numbers[0]\n",
    "        maxDiff = numbers[1]-Min\n",
    "        \n",
    "        for i in range(2,length):\n",
    "            if numbers[i-1]<Min:\n",
    "                Min = numbers[i-1]\n",
    "            temp = numbers[i-1]-Min\n",
    "            if temp>maxDiff:\n",
    "                maxDiff = temp\n",
    "                \n",
    "        return maxDiff"
   ]
  },
  {
   "cell_type": "code",
   "execution_count": 3,
   "metadata": {},
   "outputs": [
    {
     "data": {
      "text/plain": [
       "11"
      ]
     },
     "execution_count": 3,
     "metadata": {},
     "output_type": "execute_result"
    }
   ],
   "source": [
    "Solution().MaxDiff([9,11,8,5,7,12,16,14])"
   ]
  },
  {
   "cell_type": "code",
   "execution_count": null,
   "metadata": {},
   "outputs": [],
   "source": []
  }
 ],
 "metadata": {
  "kernelspec": {
   "display_name": "Python 3",
   "language": "python",
   "name": "python3"
  },
  "language_info": {
   "codemirror_mode": {
    "name": "ipython",
    "version": 3
   },
   "file_extension": ".py",
   "mimetype": "text/x-python",
   "name": "python",
   "nbconvert_exporter": "python",
   "pygments_lexer": "ipython3",
   "version": "3.6.5"
  }
 },
 "nbformat": 4,
 "nbformat_minor": 2
}
