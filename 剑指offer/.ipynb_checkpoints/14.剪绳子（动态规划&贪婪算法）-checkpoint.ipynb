{
 "cells": [
  {
   "cell_type": "markdown",
   "metadata": {},
   "source": [
    "# 题目：\n",
    "给你一根长度为$n$的绳子，请把绳子剪成$m$段($m$,$n$都是整数，且$n>1$,$m>1$),每段绳子的长度记为$k[0],k[1],k[2],...,k[m]$。请问$k[0]*k[1]*...*k[m]$可能的最大乘积是多少？例如，当绳子的长度为8时，我们把它剪成长度分别为2，3，3的三段，此时得到的最大乘积为18。\n",
    "\n",
    "# 关于动态规划的几个特点：\n",
    "\n",
    "## 1.大问题可以分解成小问题，分解后的小问题存在最优解\n",
    "## 2.整体问题的最优解依赖各个子问题的最优解\n",
    "比如说本题，一根绳子分成两段之后，这两段要得到的一定是相对于自身最优的分段方式，使得长度乘积最大，自然整体的问题得到最优解\n",
    "## 3.大问题分解成小问题之后，小问题之间还有相互重叠的更小的子问题\n",
    "比如说本题，考虑绳长为$10$的绳子，将绳子分成两段$4+6$，也就是说$f(4)$和$f(6)$都是$f(10)$的子问题。接下来分别求解两个子问题。  \n",
    "我们可以继续把绳长为4的分成两段$2+2$，绳长为6的分成两段$2+4$，这时候发现$f(2)$是$f(4)$和$f(6)$的共同的更小的子问题。\n",
    "## 4.从上而下分析问题，再从下而上求解问题\n",
    "应用动态规划解决问题的时候，总是从解决最小问题开始，并把已经解决的子问题的最优解存储下来（大部分面试题都是存储在一维或者二维数组里面），并把子问题的最优解组合起来逐步解决更大的问题\n",
    "\n",
    "## 动态规划过程中，我们每一步都可能面临若干个选择。\n",
    "在求解动态规划问题的时候，比如说本题，绳子在哪里切分，一开始就有$n-1$个选择，只能把所有的可能都尝试，然后比较得出最优的解。\n",
    "\n",
    "# 关于贪婪算法：\n",
    "## - 和动态规划不同，每一步都可以采用贪婪的选择，基于这样的选择，我们确定能够得到最优解。\n",
    "## - 但是，为什么这样的贪婪选择能得到最优解，这是应用贪婪算法的时候需要证明的问题。\n",
    "\n"
   ]
  },
  {
   "cell_type": "code",
   "execution_count": null,
   "metadata": {},
   "outputs": [],
   "source": []
  },
  {
   "cell_type": "markdown",
   "metadata": {},
   "source": [
    "## 解法一：动态规划\n",
    "时间复杂度$O(n^2)$，空间复杂度$O(n)$"
   ]
  },
  {
   "cell_type": "code",
   "execution_count": 5,
   "metadata": {},
   "outputs": [],
   "source": [
    "def maxProductAfterCutting_solution1(length):\n",
    "    if length<2:\n",
    "        return 0\n",
    "    if length == 2:\n",
    "        return 1\n",
    "    if length == 3:\n",
    "        return 2\n",
    "    \n",
    "    products = [0]*(length+1)\n",
    "    products[0],products[1],products[2],products[3] = 0,1,2,3\n",
    "    maxPro = 0\n",
    "    for i in range(4,length+1):\n",
    "        maxPro = 0\n",
    "        for j in range(1, i//2+1):\n",
    "            product = products[j]*products[i-j]\n",
    "            if maxPro<product:\n",
    "                maxPro = product\n",
    "            products[i] = maxPro\n",
    "    maxPro = products[length]\n",
    "    \n",
    "    return maxPro\n",
    "\n"
   ]
  },
  {
   "cell_type": "code",
   "execution_count": 6,
   "metadata": {},
   "outputs": [
    {
     "data": {
      "text/plain": [
       "36"
      ]
     },
     "execution_count": 6,
     "metadata": {},
     "output_type": "execute_result"
    }
   ],
   "source": [
    "maxProductAfterCutting_solution1(10)"
   ]
  },
  {
   "cell_type": "code",
   "execution_count": 7,
   "metadata": {},
   "outputs": [
    {
     "data": {
      "text/plain": [
       "6"
      ]
     },
     "execution_count": 7,
     "metadata": {},
     "output_type": "execute_result"
    }
   ],
   "source": [
    "maxProductAfterCutting_solution1(5)"
   ]
  },
  {
   "cell_type": "markdown",
   "metadata": {},
   "source": [
    "# 解法二：贪婪算法\n",
    "时间复杂度和空间复杂度都是$O(1)$\n",
    "\n",
    "## 思路：\n",
    "按照如下策略来做：\n",
    "当$n>=5$时，尽可能多的分出长度为3的绳子；当剩下的绳子长度为4时，把绳子分成两段长度为2的绳子。"
   ]
  },
  {
   "cell_type": "code",
   "execution_count": 11,
   "metadata": {},
   "outputs": [],
   "source": [
    "def maxProductAfterCutting_solution2(length):\n",
    "    if length<2:\n",
    "        return 0\n",
    "    if length == 2:\n",
    "        return 1\n",
    "    if length == 3:\n",
    "        return 2\n",
    "    \n",
    "    cut3_total = length//3#尽可能多的得到长度为3的绳子\n",
    "    \n",
    "    if length - cut3_total*3 == 1:\n",
    "        cut3_total-=1\n",
    "    \n",
    "    cut2_total = (length - cut3_total*3)//2\n",
    "    \n",
    "    return (3**cut3_total)*(2**cut2_total)\n",
    "    "
   ]
  },
  {
   "cell_type": "code",
   "execution_count": 12,
   "metadata": {},
   "outputs": [
    {
     "data": {
      "text/plain": [
       "6"
      ]
     },
     "execution_count": 12,
     "metadata": {},
     "output_type": "execute_result"
    }
   ],
   "source": [
    "maxProductAfterCutting_solution2(5)"
   ]
  },
  {
   "cell_type": "code",
   "execution_count": 13,
   "metadata": {},
   "outputs": [
    {
     "data": {
      "text/plain": [
       "86093442"
      ]
     },
     "execution_count": 13,
     "metadata": {},
     "output_type": "execute_result"
    }
   ],
   "source": [
    "maxProductAfterCutting_solution2(50)"
   ]
  },
  {
   "cell_type": "code",
   "execution_count": null,
   "metadata": {},
   "outputs": [],
   "source": []
  }
 ],
 "metadata": {
  "kernelspec": {
   "display_name": "Python 3",
   "language": "python",
   "name": "python3"
  },
  "language_info": {
   "codemirror_mode": {
    "name": "ipython",
    "version": 3
   },
   "file_extension": ".py",
   "mimetype": "text/x-python",
   "name": "python",
   "nbconvert_exporter": "python",
   "pygments_lexer": "ipython3",
   "version": "3.6.5"
  }
 },
 "nbformat": 4,
 "nbformat_minor": 2
}
