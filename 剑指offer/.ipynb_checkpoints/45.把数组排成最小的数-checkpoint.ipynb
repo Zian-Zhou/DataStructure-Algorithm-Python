{
 "cells": [
  {
   "cell_type": "markdown",
   "metadata": {},
   "source": [
    "# 题目：把数组排成最小的数\n",
    "输入一个正整数数组，把数组里所有数字拼接起来排成一个数，打印能拼接出的所有数字中最小的一个。  \n",
    "例如，输入数组${3,32,321}$，则打印出这3个数字能排成的最小数字$321323$"
   ]
  },
  {
   "cell_type": "code",
   "execution_count": 20,
   "metadata": {},
   "outputs": [],
   "source": [
    "class Solution:\n",
    "    def cmp(self,x,y):\n",
    "        if x<y:\n",
    "            return 1\n",
    "        elif x==y:\n",
    "            return 0 \n",
    "        else:\n",
    "            return -1\n",
    "        \n",
    "    def PrintMinNumber(self,numbers):\n",
    "        if len(numbers)<=0:\n",
    "            return \"\"\n",
    "        str_numbers = [str(num) for num in numbers]\n",
    "        from functools import cmp_to_key\n",
    "        res = sorted(str_numbers,key=cmp_to_key(self.cmp) )\n",
    "        # cmp(x,y) 函数用于比较2个对象，如果 x < y 返回 -1, 如果 x == y 返回 0, 如果 x > y 返回 1。\n",
    "        return ''.join(res)"
   ]
  },
  {
   "cell_type": "code",
   "execution_count": 21,
   "metadata": {},
   "outputs": [
    {
     "data": {
      "text/plain": [
       "'321323'"
      ]
     },
     "execution_count": 21,
     "metadata": {},
     "output_type": "execute_result"
    }
   ],
   "source": [
    "Solution().PrintMinNumber([3,32,321])"
   ]
  },
  {
   "cell_type": "code",
   "execution_count": null,
   "metadata": {},
   "outputs": [],
   "source": []
  },
  {
   "cell_type": "code",
   "execution_count": null,
   "metadata": {},
   "outputs": [],
   "source": []
  }
 ],
 "metadata": {
  "kernelspec": {
   "display_name": "Python 3",
   "language": "python",
   "name": "python3"
  },
  "language_info": {
   "codemirror_mode": {
    "name": "ipython",
    "version": 3
   },
   "file_extension": ".py",
   "mimetype": "text/x-python",
   "name": "python",
   "nbconvert_exporter": "python",
   "pygments_lexer": "ipython3",
   "version": "3.6.5"
  }
 },
 "nbformat": 4,
 "nbformat_minor": 2
}
