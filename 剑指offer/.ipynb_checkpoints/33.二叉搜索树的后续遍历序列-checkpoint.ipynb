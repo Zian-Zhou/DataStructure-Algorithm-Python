{
 "cells": [
  {
   "cell_type": "markdown",
   "metadata": {},
   "source": [
    "# 题目：二叉搜索树的后序遍历序列\n",
    "输入一个整数数组，判断该数组是不是某二叉搜索树的后序遍历结果。如果是返回真，反之返回假。  \n",
    "假设输入的数组任意两个数字都互不相同。\n",
    "\n",
    "## 分析：\n",
    "首先这棵树不是普通二叉树，而是二叉搜索树，因此有个特别重要的规则就是：二叉搜索树的每个节点的值，比其左子树的所有值要大，比其右子树的所有值要小。  \n",
    "其次，对于后序遍历序列而言，根节点一定在最后边。除去这个节点之后呢，前面的序列又可以分为两部分子序列，其中前一个子序列属于左子树（并且序列的末尾元素就是这个左子树的根节点），后一个序列属于右子树，同理。  \n",
    "结合两个我们可以利用的规则，我们可以很简单的将根节点的左右子树找出来，依据的就是前面第一个要求。"
   ]
  },
  {
   "cell_type": "code",
   "execution_count": 7,
   "metadata": {},
   "outputs": [],
   "source": [
    "class Solution:\n",
    "    def VerifySequenceOfBST(self,sequence):\n",
    "        if sequence is None or len(sequence)==0:\n",
    "            return False\n",
    "        if len(sequence)==1:\n",
    "            return True\n",
    "        \n",
    "        root = sequence[-1]\n",
    "        #在BST中左子树节点的值小于根节点的值\n",
    "        #遍历时找到大的值，说明左子树序列遍历完毕\n",
    "        for i in range(len(sequence)-1):\n",
    "            if sequence[i]>root:\n",
    "                break\n",
    "        \n",
    "        #在应该是右子树的序列中继续遍历\n",
    "        #如果是BST，此时遍历的值都应该大于根节点的值\n",
    "        #因此只要碰到小的值，说明这段序列不是右子树序列，从而整个序列不是BST的后序遍历序列\n",
    "        for j in range(i,len(sequence)-1):\n",
    "            if sequence[j]<root:#这里还有优化的空间：在分界的位置比较了两次大小？？！为什么不从分界位置的后一位开始？\n",
    "                return False    #可以在找到分界位置之后判断右子树是否存在，再继续下面的操作（平均比较次数会不会变多？）\n",
    "        #分而治之：至此，问题分为两个子问题——左右子树是不是BST\n",
    "        left = True\n",
    "        if i>0:\n",
    "            left = self.VerifySequenceOfBST(sequence[:i])\n",
    "        right = True\n",
    "        if i<len(sequence)-1:\n",
    "            right = self.VerifySequenceOfBST(sequence[i+1:])\n",
    "            \n",
    "        return left and right"
   ]
  },
  {
   "cell_type": "markdown",
   "metadata": {},
   "source": [
    "## 测试"
   ]
  },
  {
   "cell_type": "code",
   "execution_count": 2,
   "metadata": {},
   "outputs": [
    {
     "data": {
      "text/plain": [
       "True"
      ]
     },
     "execution_count": 2,
     "metadata": {},
     "output_type": "execute_result"
    }
   ],
   "source": [
    "Solution().VerifySequenceOfBST([5,7,6,9,11,10,8])"
   ]
  },
  {
   "cell_type": "code",
   "execution_count": 3,
   "metadata": {},
   "outputs": [
    {
     "data": {
      "text/plain": [
       "False"
      ]
     },
     "execution_count": 3,
     "metadata": {},
     "output_type": "execute_result"
    }
   ],
   "source": [
    "Solution().VerifySequenceOfBST([7,4,6,5])"
   ]
  },
  {
   "cell_type": "code",
   "execution_count": 4,
   "metadata": {},
   "outputs": [
    {
     "data": {
      "text/plain": [
       "True"
      ]
     },
     "execution_count": 4,
     "metadata": {},
     "output_type": "execute_result"
    }
   ],
   "source": [
    "Solution().VerifySequenceOfBST([5,4,3,2,1])#只有左（或者只有右）子树"
   ]
  },
  {
   "cell_type": "code",
   "execution_count": 5,
   "metadata": {},
   "outputs": [
    {
     "data": {
      "text/plain": [
       "False"
      ]
     },
     "execution_count": 5,
     "metadata": {},
     "output_type": "execute_result"
    }
   ],
   "source": [
    "Solution().VerifySequenceOfBST([])"
   ]
  },
  {
   "cell_type": "code",
   "execution_count": 6,
   "metadata": {},
   "outputs": [
    {
     "data": {
      "text/plain": [
       "False"
      ]
     },
     "execution_count": 6,
     "metadata": {},
     "output_type": "execute_result"
    }
   ],
   "source": [
    "Solution().VerifySequenceOfBST(None)"
   ]
  },
  {
   "cell_type": "code",
   "execution_count": null,
   "metadata": {},
   "outputs": [],
   "source": []
  }
 ],
 "metadata": {
  "kernelspec": {
   "display_name": "Python 3",
   "language": "python",
   "name": "python3"
  },
  "language_info": {
   "codemirror_mode": {
    "name": "ipython",
    "version": 3
   },
   "file_extension": ".py",
   "mimetype": "text/x-python",
   "name": "python",
   "nbconvert_exporter": "python",
   "pygments_lexer": "ipython3",
   "version": "3.6.5"
  }
 },
 "nbformat": 4,
 "nbformat_minor": 2
}
