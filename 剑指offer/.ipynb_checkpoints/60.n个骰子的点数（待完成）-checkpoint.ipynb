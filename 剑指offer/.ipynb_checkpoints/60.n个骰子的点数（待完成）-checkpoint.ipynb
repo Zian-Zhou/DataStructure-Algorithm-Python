{
 "cells": [
  {
   "cell_type": "markdown",
   "metadata": {},
   "source": [
    "# 题目：\n",
    "把n个骰子仍在地上，所有骰子朝上一面的点数之和为s。输入n，打印出s的所有可能的值出现的概率。\n",
    "\n",
    "## 思路：\n",
    "考虑两个数组来存储骰子点数的每个总数出现的次数。在某一轮循环中，第一个数组中的第n个数字表示骰子和为n出现的次数。然后在下一轮循环中，再加上一个骰子，此时和为n的骰子出现的次数应该等于上一轮循环中骰子点数和为n-1,n-2,...,n-6的次数的总和（因为这一轮新的骰子一定是在1到6之间的点数），所以我们把另一个数组的第n个数字设为前一个数组对应的第n-1,n-2,...,n-6个数字之和。这样自下而上就可以通过循环写出算法。  \n",
    "另外要注意的是，最终的点数之和一定不小于$n$."
   ]
  },
  {
   "cell_type": "code",
   "execution_count": 77,
   "metadata": {},
   "outputs": [],
   "source": [
    "class Solution:\n",
    "    def PrintProbability(self,number,max_value=6):\n",
    "        '''\n",
    "        max_value:骰子的点数（默认为6）\n",
    "        number:投掷的骰子个数\n",
    "        '''\n",
    "        if number<=0 or max_value<=0:\n",
    "            return\n",
    "        res = {}\n",
    "        \n",
    "        #创建两个数组，全部初始化为0，每个数组长度为骰子个数乘以最大点数再加上1，\n",
    "        #这是为了下标与点数相对应，也就是说第0位不考虑\n",
    "        pProbabilities = [[0]*(max_value*number+1),[0]*(max_value*number+1)]\n",
    "        \n",
    "        #用于交换数组\n",
    "        flag = 0\n",
    "        \n",
    "        #第一个骰子，从1到最大点数可能出现的次数均为1\n",
    "        for i in range(1,max_value+1):\n",
    "            pProbabilities[flag][i]=1\n",
    "            \n",
    "        #开始循环，从第二个骰子开始，直到所有骰子都计算完毕    \n",
    "        for k in range(2,number+1):\n",
    "            #基于事实：k个骰子点数和一定大于等于k，因此k之前的可能次数都为0\n",
    "            for i in range(k):\n",
    "                pProbabilities[1-flag][i]=0\n",
    "            #基于事实：k个骰子的点数和一定在k到最大点数*k之间\n",
    "            for i in range(k,max_value*k+1):\n",
    "                pProbabilities[1-flag][i]=0#重新初始化的原因是先前保留的是上上轮循环的数据，不能再叠加\n",
    "                j=1\n",
    "                \n",
    "                #一次循环中，一个数组的第n项等于另一个数组第n-1,n-2,...,n-max_value项的和\n",
    "                #但要注意的是，当n比较小的时候，特别小于max_value的时候，存在n-max_value小于0的可能\n",
    "                #因此要控制减号之后的数字大小\n",
    "                while j<=i and j<=max_value:\n",
    "                    pProbabilities[1-flag][i]+=pProbabilities[flag][i-j]\n",
    "                    j+=1\n",
    "            flag = 1-flag#交换数组表示总数\n",
    "            \n",
    "        total = max_value**number\n",
    "        for i in range(number,max_value*number+1):\n",
    "            res[i]=pProbabilities[flag][i]/total#题目要求写出所有的概率，因此要除以总可能次数\n",
    "                                                #如果为了验证代码正确与否可以将total改为1，之后看次数\n",
    "                                                #是否和自己预想的一样\n",
    "        return res\n",
    "        "
   ]
  },
  {
   "cell_type": "code",
   "execution_count": 78,
   "metadata": {},
   "outputs": [
    {
     "data": {
      "text/plain": [
       "{2: 0.25, 3: 0.5, 4: 0.25}"
      ]
     },
     "execution_count": 78,
     "metadata": {},
     "output_type": "execute_result"
    }
   ],
   "source": [
    "Solution().PrintProbability(2,2)"
   ]
  },
  {
   "cell_type": "code",
   "execution_count": 79,
   "metadata": {},
   "outputs": [
    {
     "data": {
      "text/plain": [
       "{2: 0.027777777777777776,\n",
       " 3: 0.05555555555555555,\n",
       " 4: 0.08333333333333333,\n",
       " 5: 0.1111111111111111,\n",
       " 6: 0.1388888888888889,\n",
       " 7: 0.16666666666666666,\n",
       " 8: 0.1388888888888889,\n",
       " 9: 0.1111111111111111,\n",
       " 10: 0.08333333333333333,\n",
       " 11: 0.05555555555555555,\n",
       " 12: 0.027777777777777776}"
      ]
     },
     "execution_count": 79,
     "metadata": {},
     "output_type": "execute_result"
    }
   ],
   "source": [
    "Solution().PrintProbability(2,6)"
   ]
  },
  {
   "cell_type": "code",
   "execution_count": null,
   "metadata": {},
   "outputs": [],
   "source": []
  }
 ],
 "metadata": {
  "kernelspec": {
   "display_name": "Python 3",
   "language": "python",
   "name": "python3"
  },
  "language_info": {
   "codemirror_mode": {
    "name": "ipython",
    "version": 3
   },
   "file_extension": ".py",
   "mimetype": "text/x-python",
   "name": "python",
   "nbconvert_exporter": "python",
   "pygments_lexer": "ipython3",
   "version": "3.6.5"
  }
 },
 "nbformat": 4,
 "nbformat_minor": 2
}
