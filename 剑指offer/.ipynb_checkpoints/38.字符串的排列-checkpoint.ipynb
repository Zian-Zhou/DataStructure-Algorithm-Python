{
 "cells": [
  {
   "cell_type": "markdown",
   "metadata": {},
   "source": [
    "# 题目：字符串的排列\n",
    "输入一个字符串，打印出该字符串中字符的所有排列。  \n",
    "例如输入字符串$'abc'$，则打印出由字符$a、b、c$所能排列出来的所有字符串$'abc'$,$'acb'$,$'bac'$,$'bca'$,$'cab'$,$cba'$\n",
    "\n",
    "## 思路：减而治之\n",
    "如何求出几个字符的全排列，可以考虑把这个复杂的问题一个子问题和一个已处理好的问题。比如说这个字符串，我们把第一个字符固定住，剩下的字符组成新的字符串，那么在固定第一个字符的条件下，后面新的字符串的全排列问题就是当前问题的一个子问题；而对于第一个字符的选择，就是我们第一步要做的，将第一个字符和后面所有的字符交换。这样整个问题就可以采用递归算法解决，直到要处理的字符串只有单个字符的时候结束。并且这个算法一定是不重不漏的。"
   ]
  },
  {
   "cell_type": "code",
   "execution_count": 20,
   "metadata": {},
   "outputs": [],
   "source": [
    "class Solution:\n",
    "    def Permutation(self,string):\n",
    "        if not string:\n",
    "            return []\n",
    "        if len(string)==1:\n",
    "            return list(string)\n",
    "        \n",
    "        res = []\n",
    "        charList=list(string)\n",
    "        charList.sort()\n",
    "        \n",
    "        for i in range(len(charList)):\n",
    "            if i>0 and  charList[i]==charList[i-1]:\n",
    "                continue\n",
    "            temp=self.Permutation(''.join(charList[:i])+''.join(charList[i+1:]))\n",
    "            for j in temp:\n",
    "                res.append(charList[i]+j)\n",
    "        return res\n",
    "    \n",
    "    \n",
    "    '''#错误示范：没有考虑相同字符出现\n",
    "    res=[]\n",
    "    def Permutation(self,string):\n",
    "        if string is None:\n",
    "            return\n",
    "        s = list(string)\n",
    "        index = 0#分割字符串\n",
    "        self.res = []\n",
    "        self._Permutation(s,index)\n",
    "        return self.res\n",
    "    \n",
    "    def _Permutation(self,string,index):\n",
    "        if index==len(string):\n",
    "            return self.res.append(string)\n",
    "        else:\n",
    "            for i in range(index,len(string)):\n",
    "                temp = string[i]\n",
    "                string[i]=string[index]\n",
    "                string[index]=temp\n",
    "                \n",
    "                self._Permutation(string,index+1)\n",
    "                \n",
    "                temp = string[i]\n",
    "                string[i]=string[index]\n",
    "                string[index]=string[i]    \n",
    "    '''            \n"
   ]
  },
  {
   "cell_type": "markdown",
   "metadata": {},
   "source": [
    "## test:"
   ]
  },
  {
   "cell_type": "code",
   "execution_count": 21,
   "metadata": {},
   "outputs": [
    {
     "data": {
      "text/plain": [
       "['abc', 'acb', 'bac', 'bca', 'cab', 'cba']"
      ]
     },
     "execution_count": 21,
     "metadata": {},
     "output_type": "execute_result"
    }
   ],
   "source": [
    "Solution().Permutation('abc')"
   ]
  },
  {
   "cell_type": "code",
   "execution_count": 22,
   "metadata": {},
   "outputs": [
    {
     "data": {
      "text/plain": [
       "['aaaa']"
      ]
     },
     "execution_count": 22,
     "metadata": {},
     "output_type": "execute_result"
    }
   ],
   "source": [
    "Solution().Permutation('aaaa')"
   ]
  },
  {
   "cell_type": "code",
   "execution_count": 23,
   "metadata": {},
   "outputs": [
    {
     "data": {
      "text/plain": [
       "['a']"
      ]
     },
     "execution_count": 23,
     "metadata": {},
     "output_type": "execute_result"
    }
   ],
   "source": [
    "Solution().Permutation('a')"
   ]
  },
  {
   "cell_type": "markdown",
   "metadata": {},
   "source": [
    "# 扩展题目：\n",
    "## 1.求字符组合：\n",
    "比如说$a,b,c$三个字符的组合，这就不是排列问题，而是组合问题了。其可能的组合有$a,b,c,ab,bc,ac,abc$，而$ab,ba$虽然顺序不同，但属于同一个组合。  \n",
    "这样问题就和上一个问题有所不同了。实际上还是可以用递归实现：我们将问题抽象为$n$个字符中选取$m$个字符组合$(m=1,2,3,...,n)$，可以将$n$个字符分成第一个字符和剩余所有字符，那么问题就转换为两个子问题，一个是选取第一个字符，并在剩余$n-1$个字符中选取$m-1$个字符做组合，另一个子问题就是不选取第一个字符，而是在剩余$n-1$个字符中选取$m$个字符做组合。自然地，这同样可以用递归实现。\n",
    "## 2.正方体数字排列：\n",
    "输入一个含有8个数字的数组，判断有没有可能把这8个数字分别放在正方体的8个顶点上，使得正方体上三组相对的面的4个顶点的和都相等。  \n",
    "这相当于固定好八个顶点的顺序，为这个八个顶点选择8个数字的所有排列，然后判断有没有哪个排列切好符合题目给定的条件。\n",
    "## 3.八皇后问题：\n",
    "在$8*8$的国际象棋上摆放8个皇后，使其不能相互攻击，即任意两个皇后不能处于同一行、同一列或者同一对角线上，请问有多少种符合条件的摆法。  \n",
    "一个比较简单的实现：由于8个皇后的任意两个不能处于同一行，那么肯定是每一个皇后占据一行。那么我就可以维护一个数组$colIndex$，数组的第$i$个表示位于第$i$行的皇后的列号，自然这些列号也不能相同，所以是个排列问题。也就是说求$0\\sim 7$的所有排列的可能，接下来只需要判断每一个排列的情况下，是否处于同一条对角线上，也就是说对于数组的两个下标$i,j$，是否有$i-j==colIndex[i]-colIndex[j]$或者$j-i==colIndex[i]-colIndex[j]$。筛出这些不满足对角线要求的排列之后，剩下的就是我们要求的总的排列数。\n",
    "\n",
    "### 举一反三：\n",
    "如果题目要求按照一定条件摆放若干个数字，则可以先求出这些数字的所有排列（或者组合），然后一一判断每个排列是不是满足题目给定的要求"
   ]
  },
  {
   "cell_type": "code",
   "execution_count": null,
   "metadata": {},
   "outputs": [],
   "source": []
  }
 ],
 "metadata": {
  "kernelspec": {
   "display_name": "Python 3",
   "language": "python",
   "name": "python3"
  },
  "language_info": {
   "codemirror_mode": {
    "name": "ipython",
    "version": 3
   },
   "file_extension": ".py",
   "mimetype": "text/x-python",
   "name": "python",
   "nbconvert_exporter": "python",
   "pygments_lexer": "ipython3",
   "version": "3.6.5"
  }
 },
 "nbformat": 4,
 "nbformat_minor": 2
}
