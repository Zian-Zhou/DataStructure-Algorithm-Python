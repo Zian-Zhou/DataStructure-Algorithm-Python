{
 "cells": [
  {
   "cell_type": "markdown",
   "metadata": {},
   "source": [
    "# 数据结构：树"
   ]
  },
  {
   "cell_type": "markdown",
   "metadata": {},
   "source": [
    "## 树的表示\n",
    "通常用List of Lists 表示"
   ]
  },
  {
   "cell_type": "code",
   "execution_count": 9,
   "metadata": {},
   "outputs": [
    {
     "name": "stdout",
     "output_type": "stream",
     "text": [
      "my_tree is:        ['root', ['left', [], []], ['right', [], []]]\n",
      "left_subtree is:   ['left', [], []]\n",
      "right_subtree is:  ['right', [], []]\n"
     ]
    }
   ],
   "source": [
    "my_tree = ['root',\n",
    "           ['left',[],[]],#left_subtree\n",
    "           ['right',[],[]] #right_subtree\n",
    "          ]\n",
    "print('my_tree is:       ', my_tree)\n",
    "print('left_subtree is:  ', my_tree[1])\n",
    "print('right_subtree is: ', my_tree[2])"
   ]
  },
  {
   "cell_type": "markdown",
   "metadata": {},
   "source": [
    "## 结点类封装"
   ]
  },
  {
   "cell_type": "code",
   "execution_count": 11,
   "metadata": {},
   "outputs": [],
   "source": [
    "class listNode:\n",
    "    def __init__(self, value,left=None,right=None):\n",
    "        self.val = value\n",
    "        self.left_child = left\n",
    "        self.right_child = right"
   ]
  },
  {
   "cell_type": "markdown",
   "metadata": {},
   "source": [
    "## 二叉树封装"
   ]
  },
  {
   "cell_type": "code",
   "execution_count": 14,
   "metadata": {},
   "outputs": [],
   "source": [
    "class BinaryTree:\n",
    "    def __init__(self, root):\n",
    "        self.root = root\n",
    "        self.left_child = None\n",
    "        self.right_child = None\n",
    "        \n",
    "    def insertAsLeft(self,newNode):\n",
    "        if self.left_child == None:\n",
    "            self.left_child = BinaryTree(newNode)\n",
    "        else:\n",
    "            t = BinaryTree(newNode)\n",
    "            t.left_child = self.left_child\n",
    "            self.left_child = t\n",
    "            \n",
    "    def insertAsRight(self,newNode):\n",
    "        if self.right_child == None:\n",
    "            self.right_child = BinaryTree(newNode)\n",
    "        else:\n",
    "            t = BinaryTree(newNode)\n",
    "            t.right_child = self.right_child\n",
    "            self.left_child = t\n",
    "    \n",
    "    def getLeftChild(self):\n",
    "        return self.left_child\n",
    "    \n",
    "    def getRightChild(self):\n",
    "        return self.right_child\n",
    "    \n",
    "    def setRootVal(self,newValue):\n",
    "        self.root = newValue\n",
    "        \n",
    "    def getRootVal(self):\n",
    "        return self.root\n",
    "    "
   ]
  },
  {
   "cell_type": "code",
   "execution_count": 16,
   "metadata": {},
   "outputs": [
    {
     "name": "stdout",
     "output_type": "stream",
     "text": [
      "a\n",
      "None\n",
      "<__main__.BinaryTree object at 0x000001CE84C4A4A8>\n",
      "b\n",
      "<__main__.BinaryTree object at 0x000001CE84C4AEF0>\n",
      "c\n",
      "hello\n"
     ]
    }
   ],
   "source": [
    "r = BinaryTree('a')\n",
    "print(r.getRootVal())\n",
    "print(r.getLeftChild())\n",
    "r.insertAsLeft('b')\n",
    "print(r.getLeftChild())\n",
    "print(r.getLeftChild().getRootVal())\n",
    "r.insertAsRight('c')\n",
    "print(r.getRightChild())\n",
    "print(r.getRightChild().getRootVal())\n",
    "r.getRightChild().setRootVal('hello')\n",
    "print(r.getRightChild().getRootVal())"
   ]
  },
  {
   "cell_type": "code",
   "execution_count": null,
   "metadata": {},
   "outputs": [],
   "source": []
  }
 ],
 "metadata": {
  "kernelspec": {
   "display_name": "Python 3",
   "language": "python",
   "name": "python3"
  },
  "language_info": {
   "codemirror_mode": {
    "name": "ipython",
    "version": 3
   },
   "file_extension": ".py",
   "mimetype": "text/x-python",
   "name": "python",
   "nbconvert_exporter": "python",
   "pygments_lexer": "ipython3",
   "version": "3.6.5"
  }
 },
 "nbformat": 4,
 "nbformat_minor": 2
}
