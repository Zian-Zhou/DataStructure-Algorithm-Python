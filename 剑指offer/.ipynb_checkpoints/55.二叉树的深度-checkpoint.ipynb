{
 "cells": [
  {
   "cell_type": "markdown",
   "metadata": {},
   "source": [
    "# 题目：二叉树的深度\n",
    "关于二叉树的深度的几道题\n",
    "\n",
    "## 题目一：二叉树的深度\n",
    "输入一棵二叉树的跟及诶单，求该树的深度。从根节点到叶子节点一次经过的节点（含根、叶节点）形成树的一条路径，最长路径的长度为树的深度。\n",
    "\n",
    "## 题目二：平衡二叉树\n",
    "输入一棵二叉树的根节点，判断该树是不是平衡二叉树。  \n",
    "平衡二叉树的定义为：二叉树的所有节点的左右子树深度相差不超过1."
   ]
  },
  {
   "cell_type": "code",
   "execution_count": 1,
   "metadata": {},
   "outputs": [],
   "source": [
    "# 定义一棵二叉树，用于后面的测试用例构建\n",
    "class BinNode:\n",
    "    def __init__(self,value,left = None, right = None):\n",
    "        self.value = value\n",
    "        self.left = left\n",
    "        self.right = right\n",
    "\n",
    "class BinTree:\n",
    "    def __init__(self):\n",
    "        self.root = None\n",
    "        self.left = None\n",
    "        self.right = None\n",
    "    \n",
    "    #根据先序遍历和中序遍历序列重构二叉树，方便后面写测试用例\n",
    "    def reConstructBinTree(self,preOderList,inOrderList):\n",
    "        if not preOderList or not inOrderList:\n",
    "            print('one of the inputs:preOrderList or inOrderList is empty.' )\n",
    "        if len(preOderList)!=len(inOrderList):\n",
    "            print('Cannot build BinTree, since: the two list have different length.')\n",
    "            \n",
    "        self.root = self._reConstrucBinTree(preOderList,inOrderList)\n",
    "        self.left = self.root.left\n",
    "        self.right = self.root.right\n",
    "        \n",
    "    def _reConstrucBinTree(self,preOderList,inOrderList):\n",
    "        if not preOderList or not inOrderList:\n",
    "            return None\n",
    "        root = BinNode(preOderList[0],None,None)\n",
    "        val = inOrderList.index(preOderList[0])\n",
    "        \n",
    "        root.left = self._reConstrucBinTree(preOderList[1:val+1],inOrderList[:val])\n",
    "        root.right = self._reConstrucBinTree(preOderList[val+1:],inOrderList[val+1:])\n",
    "        \n",
    "        return root"
   ]
  },
  {
   "cell_type": "markdown",
   "metadata": {},
   "source": [
    "# 解答："
   ]
  },
  {
   "cell_type": "markdown",
   "metadata": {},
   "source": [
    "## 题目一：二叉树的深度\n",
    "题目34“二叉树中和为某一值的路径”中，我们详细讨论了如何记录树里面的路径，不过这个代码量比较大，这道题可以采用更加简洁的方法。  \n",
    "用递归的思想来看，如果一棵树只有一个节点，那么它的深度为1。如果这棵树的根节点有左右子树（至少有一棵孩子树），那么这个节点的深度就是左右子树中深度较大者再加上1.分析到这，采用递归算法来实现也就水到渠成了。"
   ]
  },
  {
   "cell_type": "code",
   "execution_count": 2,
   "metadata": {},
   "outputs": [],
   "source": [
    "class Solution:\n",
    "    def TreeDepth(self,root):\n",
    "        if root is None:\n",
    "            return 0\n",
    "        leftSubTreeDepth=self.TreeDepth(root.left)\n",
    "        rightSubTreeDepth=self.TreeDepth(root.right)\n",
    "        if leftSubTreeDepth>rightSubTreeDepth:\n",
    "            return leftSubTreeDepth+1\n",
    "        else:\n",
    "            return rightSubTreeDepth+1"
   ]
  },
  {
   "cell_type": "code",
   "execution_count": 3,
   "metadata": {},
   "outputs": [],
   "source": [
    "test = BinTree()\n",
    "test.reConstructBinTree([1,2,4,5,7,3,6],[4,2,7,5,1,3,6])"
   ]
  },
  {
   "cell_type": "code",
   "execution_count": 4,
   "metadata": {},
   "outputs": [
    {
     "data": {
      "text/plain": [
       "4"
      ]
     },
     "execution_count": 4,
     "metadata": {},
     "output_type": "execute_result"
    }
   ],
   "source": [
    "Solution().TreeDepth(test.root)"
   ]
  },
  {
   "cell_type": "markdown",
   "metadata": {},
   "source": [
    "## 题目二：平衡二叉树\n",
    "\n",
    "### 分析：\n",
    "有了题目一的经验再来解决这道题，很容易想到一个思路：遍历（不管按什么顺序）一棵树的各个节点，调用题目一实现的函数来求每个节点的左右子树深度，再来判断。思路和代码固然简洁，但是时间效率一定不高，因为会有大量节点的深度被重复计算。接下来我们分析每个节点只用遍历一次的解法。  \n",
    "显然，我们希望遍历的次序是从下往上遍历，这样我们在遍历上层的时候就可以直接用下层已经计算过的深度了。那么就要求遍历的顺序是先孩子再根节点。很自然的就联想到后序遍历算法，只要在遍历每个节点的时候记录深度，就可以一边遍历一边判断每个节点是不是平衡的了。  \n",
    "也就是说这道题考察后序遍历算法的递归和迭代实现，能熟练写出即可。"
   ]
  },
  {
   "cell_type": "code",
   "execution_count": 9,
   "metadata": {},
   "outputs": [],
   "source": [
    "class Solution:\n",
    "    def IsBalanced(self,root):\n",
    "        return self.postOrder(root)[0]\n",
    "        \n",
    "    def postOrder(self,node):\n",
    "        if node is None:\n",
    "            #递归返回当前结点是否平衡，以及当前结点的深度\n",
    "            return True, 0\n",
    "        \n",
    "        left = self.postOrder(node.left)\n",
    "        if not left[0]:\n",
    "            #如果左子树不平衡，直接返回False，没必要再判断右子树了\n",
    "            return False, None\n",
    "        else:\n",
    "            right = self.postOrder(node.right)\n",
    "            if not right[0]:\n",
    "                #如果右子树不平衡，直接返回False，直接向上返回到根节点\n",
    "                return False, None\n",
    "            else:\n",
    "                #如果左右子树都是平衡的，那么判断当前结点是否平衡，并返回当前顶点的深度\n",
    "                diff = abs(left[1]-right[1])\n",
    "                if diff>1:\n",
    "                    return False,None\n",
    "                return True,max(left[1],right[1])+1\n",
    "        "
   ]
  },
  {
   "cell_type": "code",
   "execution_count": 10,
   "metadata": {},
   "outputs": [
    {
     "data": {
      "text/plain": [
       "True"
      ]
     },
     "execution_count": 10,
     "metadata": {},
     "output_type": "execute_result"
    }
   ],
   "source": [
    "test = BinTree()\n",
    "test.reConstructBinTree([1,2,4,5,7,3,6],[4,2,7,5,1,3,6])\n",
    "Solution().IsBalanced(test.root)"
   ]
  },
  {
   "cell_type": "code",
   "execution_count": 11,
   "metadata": {},
   "outputs": [
    {
     "data": {
      "text/plain": [
       "False"
      ]
     },
     "execution_count": 11,
     "metadata": {},
     "output_type": "execute_result"
    }
   ],
   "source": [
    "test1 = BinTree()\n",
    "test1.reConstructBinTree([1,2,3],[3,2,1])\n",
    "Solution().IsBalanced(test1.root)"
   ]
  },
  {
   "cell_type": "code",
   "execution_count": null,
   "metadata": {},
   "outputs": [],
   "source": []
  }
 ],
 "metadata": {
  "kernelspec": {
   "display_name": "Python 3",
   "language": "python",
   "name": "python3"
  },
  "language_info": {
   "codemirror_mode": {
    "name": "ipython",
    "version": 3
   },
   "file_extension": ".py",
   "mimetype": "text/x-python",
   "name": "python",
   "nbconvert_exporter": "python",
   "pygments_lexer": "ipython3",
   "version": "3.6.5"
  }
 },
 "nbformat": 4,
 "nbformat_minor": 2
}
