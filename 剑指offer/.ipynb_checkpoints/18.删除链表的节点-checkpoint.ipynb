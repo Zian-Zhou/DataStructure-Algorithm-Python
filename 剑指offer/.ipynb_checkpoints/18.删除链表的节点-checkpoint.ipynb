{
 "cells": [
  {
   "cell_type": "markdown",
   "metadata": {},
   "source": [
    "# 题目：删除链表的节点\n",
    "\n",
    "## 一.在$O(1)$的时间内删除链表节点\n",
    "给定单向链表的头指针和一个节点指针，定义一个函数在$O(1)$时间内删除该节点\n",
    "\n",
    "## 二.删除链表中重复的节点\n",
    "在一个排序的链表中，如何删除重复的节点"
   ]
  },
  {
   "cell_type": "markdown",
   "metadata": {},
   "source": [
    "## 题目一 解答：\n",
    "在单向链表中删除一个节点，常规操作一般是从头结点开始，顺序遍历查找要删除的节点，并在链表中删除该节点。而由于需要顺序查找，时间复杂度自然就是$O(n)$了。  \n",
    "而之所以需要从头开始查找，是因为单向链表，我们需要得到被删除的节点前面一个节点，只能通过顺序查找，除非链表是双向的。那么题目要求的常数时间内实现删除节点该怎么实现呢？  \n",
    "其实可以这样：删除单向链表中的一个节点，可以理解成该节点之后的节点往前进，而真正变动的就是要删除节点的下一个节点。比如说当前结点为$i$，下一节点为$j=i+1$，我们先将$j$的数据复制到$i$中，接着将$i$的后继指针指向$j+1$即可。然后删除节点$j$，就完成了整个删除操作。  \n",
    "这个思路有两个边界情况需要注意，一是要删除的节点恰好就在尾部，没有后继结点的处理；二是链表中只有一个节点，我们要删除的恰好就是头结点，那么此时删除节点之后还需要把链表的头结点设置为null。\n",
    "\n",
    "时间复杂度见下面代码底部。"
   ]
  },
  {
   "cell_type": "code",
   "execution_count": null,
   "metadata": {},
   "outputs": [],
   "source": [
    "class ListNode:\n",
    "    #单向链表\n",
    "    def __init__(self):\n",
    "        self.value = None\n",
    "        self.next_node = None\n",
    "        \n",
    "class Solution:\n",
    "    #语义规范：希望返回删除成功与否\n",
    "    def delete_node(self,head_node,del_node):\n",
    "        if not (head_node and del_node):\n",
    "            return Fasle\n",
    "        \n",
    "        if del_node.next_node:#如果存在后继结点\n",
    "            del_node_succ = del_node.next_node#定义后继结点\n",
    "            del_node.value = del_node_succ.value#将后继结点的内容复制到当前结点\n",
    "            del_node.next_node = del_node_succ#将当前结点的后继指向后继结点的后继\n",
    "            del_node_succ = None\n",
    "            \n",
    "        elif del_node==head_node:#如果删除的节点没有后继，并且本身就是头结点\n",
    "            head_node = None\n",
    "            del_node = None\n",
    "            \n",
    "        else:#如果删除的节点没有后继，且链表中有多个节点\n",
    "            #对于尾节点来说，仍然需要顺序查找，时间复杂度为O(n)\n",
    "            node = head_node\n",
    "            while node.next_node!=del_node:\n",
    "                node = node.next_node\n",
    "            node.next_node = None\n",
    "            del_node = None\n",
    "        #长度为n的单项链表来说，有n-1个非尾节点，一个尾节点\n",
    "        #所以时间复杂度是[(n-1)*O(1)+O(n)]/n = O(1)\n",
    "        return True"
   ]
  },
  {
   "cell_type": "markdown",
   "metadata": {},
   "source": [
    "## 题目二 解答：\n",
    "注意到题目中的链表是有序的，因此每次只要找到第一个不同的节点即可，中间重复相同的删掉就好。这样遍历到最后就完成了删除重复节点。  \n",
    "具体实现时：遍历链表，如果当前结点的后继结点数值和当前的数值相同，说明当前结点可以删除，注意：此时单向链表中，不能知道前驱结点，因此删除当前结点的操作要按照题目一来实现。\n"
   ]
  },
  {
   "cell_type": "code",
   "execution_count": 2,
   "metadata": {},
   "outputs": [],
   "source": [
    "class Solution:\n",
    "    def deleteDuplication(self, head_node):\n",
    "        count = 0#记录删除节点的个数，也就是重复的个数\n",
    "        if not head_node:#如果头结点为None\n",
    "            return None\n",
    "        if not head_node.succ:#如果不存在后继结点，说明链表必不重复\n",
    "            return 0\n",
    "        #头结点非空且存在后继结点\n",
    "        thisNode = head_node#thisNode表示当前结点\n",
    "        nextNode = head_node.succ#nextNode表示下一节点\n",
    "        \n",
    "        while(nextNode):#循环直到下一节点为空\n",
    "            if thisNode.value == nextNode.value:\n",
    "                #如果下一节点数值和当前结点数值相同，删除下一结点，O(1)\n",
    "                count += 1\n",
    "                thisNode.succ = nextNode.succ\n",
    "                del nextNode\n",
    "                nextNode = thisNode.succ\n",
    "            else:\n",
    "                thisNode = thisNode.succ\n",
    "                nextNode = nextNode.succ\n",
    "        return count\n",
    "    "
   ]
  },
  {
   "cell_type": "code",
   "execution_count": null,
   "metadata": {},
   "outputs": [],
   "source": []
  }
 ],
 "metadata": {
  "kernelspec": {
   "display_name": "Python 3",
   "language": "python",
   "name": "python3"
  },
  "language_info": {
   "codemirror_mode": {
    "name": "ipython",
    "version": 3
   },
   "file_extension": ".py",
   "mimetype": "text/x-python",
   "name": "python",
   "nbconvert_exporter": "python",
   "pygments_lexer": "ipython3",
   "version": "3.6.5"
  }
 },
 "nbformat": 4,
 "nbformat_minor": 2
}
