{
 "cells": [
  {
   "cell_type": "markdown",
   "metadata": {},
   "source": [
    "# 题目：第一个只出现一次的字符\n",
    "\n",
    "## 题目一：字符串中第一个只出现一次的字符\n",
    "在字符串中找出第一个只出现一次的字符。例如输入$'abaccdeff'$，则输出$'b'$。\n",
    "\n",
    "### 思路：\n",
    "很简单。python里面用一个字典来存储已经出现过的字符及其出现次数。遍历一遍之后就知道哪些字符只出现过一次了。再遍历一遍字符串就能得到第一个出现的。\n",
    "\n",
    "## 题目二：字符流中第一个只出现一次的字符\n",
    "实现一个函数，用来找出字符流中第一个只出现一次的字符。例如，当从字符流中只读出前两个字符$\"go\"$，第一个只出现过一次的字符是$'g'$；当从该字符流中读出前6个字符$\"google\"$时，第一个只出现一次的字符是$'l'$。  \n",
    "\n",
    "### 思路：\n",
    "碰到字符流，说明要处理的是一个个到来的数据。因此要考虑存储数据的容器，目的是使得插入的操作时间复杂度为$O(1)$，以及更新一个字符对应的值。"
   ]
  },
  {
   "cell_type": "code",
   "execution_count": 5,
   "metadata": {},
   "outputs": [],
   "source": [
    "class Solution1:\n",
    "    def FirstNotRepeatingChar(self,string):\n",
    "        assert string is not None, 'Invalid Input'\n",
    "        if len(string)<=1:\n",
    "            return string\n",
    "        dictionary = {}\n",
    "        for s in string:\n",
    "            if s in dictionary:\n",
    "                dictionary[s]+=1\n",
    "            else:\n",
    "                dictionary[s]=1\n",
    "                \n",
    "        for s in string:\n",
    "            if s in dictionary and dictionary[s]==1:\n",
    "                return s\n",
    "                "
   ]
  },
  {
   "cell_type": "code",
   "execution_count": 6,
   "metadata": {},
   "outputs": [
    {
     "data": {
      "text/plain": [
       "'b'"
      ]
     },
     "execution_count": 6,
     "metadata": {},
     "output_type": "execute_result"
    }
   ],
   "source": [
    "Solution1().FirstNotRepeatingChar('abaccdeff')"
   ]
  },
  {
   "cell_type": "code",
   "execution_count": 7,
   "metadata": {},
   "outputs": [],
   "source": [
    "class Solution2:\n",
    "    def __init__(self):\n",
    "        self.alist = []\n",
    "        self.char_dict = {}\n",
    "        \n",
    "    def FirstAppearingOnce(self):\n",
    "        while len(self.alist)>0 and self.char_dict[self.alist[0]]>1:\n",
    "            self.alist.pop(0)\n",
    "        if len(self.alist)>0:\n",
    "            return self.alist[0]\n",
    "        return '#'\n",
    "    \n",
    "    def insert(self,char):\n",
    "        if char not in self.char_dict.keys():\n",
    "            self.char_dict[char]=1\n",
    "            self.alist.append(char)\n",
    "        else:\n",
    "            self.char_dict[char]+=1"
   ]
  },
  {
   "cell_type": "code",
   "execution_count": null,
   "metadata": {},
   "outputs": [],
   "source": []
  }
 ],
 "metadata": {
  "kernelspec": {
   "display_name": "Python 3",
   "language": "python",
   "name": "python3"
  },
  "language_info": {
   "codemirror_mode": {
    "name": "ipython",
    "version": 3
   },
   "file_extension": ".py",
   "mimetype": "text/x-python",
   "name": "python",
   "nbconvert_exporter": "python",
   "pygments_lexer": "ipython3",
   "version": "3.6.5"
  }
 },
 "nbformat": 4,
 "nbformat_minor": 2
}
