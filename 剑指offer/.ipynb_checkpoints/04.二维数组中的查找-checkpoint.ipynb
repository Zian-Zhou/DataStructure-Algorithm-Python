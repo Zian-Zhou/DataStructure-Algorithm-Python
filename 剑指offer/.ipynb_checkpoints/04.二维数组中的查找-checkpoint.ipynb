{
 "cells": [
  {
   "cell_type": "markdown",
   "metadata": {},
   "source": [
    "# 二维数组中的查找\n",
    "\n",
    "## 题目：\n",
    "在一哥二维数组中，每一行都按照从左到右递增的顺序排序，每一列都按照从上到下递增的顺序排序，完成一个函数，输入这样的一个二维数组和一个整数，\n",
    "\n",
    "[判断数组中是否含有该整数]"
   ]
  },
  {
   "cell_type": "markdown",
   "metadata": {},
   "source": [
    "### 思路：减而治之\n",
    "每次都从右上角开始：\n",
    "\n",
    "如果右上角的元素是要查找的元素，则返回；\n",
    "\n",
    "如果右上角的值比要查找的元素大（右上角一定是所在列最小的元素），则可以向左边移动（列数减一）。\n",
    "\n",
    "如果右上角的值比要查找的元素小，那么要找的元素一定在下方，则可以向下移动（行数加一）。\n",
    "\n",
    "直到数组为1。\n",
    "\n",
    "### 算法正确性分析：\n",
    "\n",
    "#### 1.不变性：\n",
    "算法中的每一步，所在“右上角”的元素，所在行之上的所有列中一定没有要找的元素（均小于），所在列的右边一定没有要找的元素（均大于要查找的元素）。\n",
    "\n",
    "也就是说，要查找的元素一定在左下方“区域”。\n",
    "\n",
    "#### 2.单调性：\n",
    "每一步的结果一定会使得左下方区域缩小，直到为单个元素"
   ]
  },
  {
   "cell_type": "code",
   "execution_count": 19,
   "metadata": {},
   "outputs": [],
   "source": [
    "class Solution():\n",
    "    def __init__(self):\n",
    "        pass\n",
    "    \n",
    "    def Find(self, target, array):\n",
    "        m, n = len(array), len(array[0])\n",
    "        \n",
    "        row, col = 0, n-1#从右上角开始\n",
    "        while(row<m and col>=0):\n",
    "            print('row:',row,'col:',col)\n",
    "            if(array[row][col]>target):\n",
    "                col -= 1\n",
    "            elif (array[row][col]<target):\n",
    "                row += 1\n",
    "            else:#相等\n",
    "                return True    \n",
    "        return False\n",
    "            "
   ]
  },
  {
   "cell_type": "code",
   "execution_count": 16,
   "metadata": {},
   "outputs": [
    {
     "data": {
      "text/plain": [
       "[[0, 0, 0, 0],\n",
       " [0, 1, 2, 3],\n",
       " [0, 2, 4, 6],\n",
       " [0, 3, 6, 9],\n",
       " [0, 4, 8, 12],\n",
       " [0, 5, 10, 15]]"
      ]
     },
     "execution_count": 16,
     "metadata": {},
     "output_type": "execute_result"
    }
   ],
   "source": [
    "#测试\n",
    "import numpy as np\n",
    "test1 = [[col*row for col in range(4)]for row in range(6)]\n",
    "test1"
   ]
  },
  {
   "cell_type": "code",
   "execution_count": 20,
   "metadata": {},
   "outputs": [],
   "source": [
    "solution = Solution()"
   ]
  },
  {
   "cell_type": "code",
   "execution_count": 21,
   "metadata": {},
   "outputs": [
    {
     "name": "stdout",
     "output_type": "stream",
     "text": [
      "row: 0 col: 3\n",
      "row: 1 col: 3\n",
      "row: 2 col: 3\n",
      "row: 3 col: 3\n",
      "row: 4 col: 3\n",
      "row: 5 col: 3\n"
     ]
    },
    {
     "data": {
      "text/plain": [
       "False"
      ]
     },
     "execution_count": 21,
     "metadata": {},
     "output_type": "execute_result"
    }
   ],
   "source": [
    "solution.Find(16, test1)"
   ]
  },
  {
   "cell_type": "code",
   "execution_count": null,
   "metadata": {},
   "outputs": [],
   "source": []
  }
 ],
 "metadata": {
  "kernelspec": {
   "display_name": "Python 3",
   "language": "python",
   "name": "python3"
  },
  "language_info": {
   "codemirror_mode": {
    "name": "ipython",
    "version": 3
   },
   "file_extension": ".py",
   "mimetype": "text/x-python",
   "name": "python",
   "nbconvert_exporter": "python",
   "pygments_lexer": "ipython3",
   "version": "3.6.5"
  }
 },
 "nbformat": 4,
 "nbformat_minor": 2
}
