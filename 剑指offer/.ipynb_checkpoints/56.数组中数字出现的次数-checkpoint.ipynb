{
 "cells": [
  {
   "cell_type": "markdown",
   "metadata": {},
   "source": [
    "# 题目：数组中数字出现的次数\n",
    "\n",
    "## 题目一：数组中只出现一次的两个数字\n",
    "一个整数数组里除了两个数字之外，其他数字都出现了两次。实现一个函数找出这两个只出现一次的数字。要求时间复杂度是$O(n)$，空间复杂度是$O(1)$.\n",
    "\n",
    "## 题目二： 数组中唯一只出现一次的数字（待完成）\n",
    "在一个数组中除了一个数字只出现一次之外，其他数字都出现了三次。请找出那个只出现一次的数字。"
   ]
  },
  {
   "cell_type": "markdown",
   "metadata": {},
   "source": [
    "==================================================================\n",
    "# 解答："
   ]
  },
  {
   "cell_type": "markdown",
   "metadata": {},
   "source": [
    "## 题目一：数组中只出现一次的两个数字\n",
    "\n",
    "### 分析：\n",
    "这是一道比较难的题目。如果不限制空间复杂度，这道题解决起来到是非常简单。但是既然限制了只能用常数级别的辅助空间，就得考虑在算法上改进，得到时间复杂度足够低的算法。  \n",
    "题目强调数字只出现一次，而其他数字出现两次，这有什么意义呢？  \n",
    "联想到（反正我联想不到。。。(:з」∠)）异或运算的一个性质：任何一个数字异或它自己都等于0.也就是说，考虑这样一个小问题：数组中只有一个数字只出现一次。如果我们从头到尾依次异或数组中的每个数字，那么最终结果刚好是那个只出现一次的数字，因为那些成对出现两次的数字全部在异或中抵消了。  \n",
    "那么对于数组中有两个数字只出现一次的本题，有什么启发？根据前面分析，全部异或之后，得到的结果一定不为0，因为有两个不同的数留下来，结果就是这两个不同的数异或的结果，不好拆分，但我们可以知道这段序列含有两个只出现一次的数字。那么我们只需要想办法找出两个子数组，分别含有一个只出现一次的数字，再利用前面的方法就可以得到最终要求的两个数字了。  \n",
    "继续分析怎么拆分成两个数组。既然两个数字不同，那么他们异或之后的二进制数字中一定存在1，我们可以找到对应的位置（写一个子函数来实现）；接下来我们要重新遍历原数组，如果某个数字的二进制中，对应的位置是1，那么把它看成第一个数组【二进制对应位置为1】,不断做异或，因为相同的数字二进制对应的位置一定一样，所以一定会分到同一组，自然异或得到会是0；如果二进制中对应的位置是0，那么把它看做第二个数组【二进制对应位置为0】，同样不断做异或。这样我们对两个所谓的子数组异或到最后，最终的结果一定是两个不同的数字，这就是我们要找的数字。  \n",
    "具体实现需要先实现两个子函数：  \n",
    "1.$FindFirstBits1$,找到二进制数第一个1的位置（从右边开始）.  \n",
    "2.$IsBit1 $,判断一个数字二进制指定位置是否为1.\n",
    "\n",
    "#### 关于异或运算：\n",
    "满足加法结合律和交换律。0异或任何数保持不变。任何数和自身异或等于0。\n",
    "例如：$a^b^a=b$，$a^b^a^c^b=c$"
   ]
  },
  {
   "cell_type": "code",
   "execution_count": 1,
   "metadata": {},
   "outputs": [],
   "source": [
    "class Solution:\n",
    "    def FindNumsAppearOnce(self,data):\n",
    "        if data is None or len(data)%2!=0:\n",
    "            return None\n",
    "        res1 = 0\n",
    "        for num in data:\n",
    "            res1^=num\n",
    "        index = self.FindFirstBits1(res1)\n",
    "        \n",
    "        res1=0\n",
    "        res2=0\n",
    "        for num in data:\n",
    "            if self.IsBit1(num,index):\n",
    "                res1^=num\n",
    "            else:\n",
    "                res2^=num\n",
    "        return [res1,res2]\n",
    "            \n",
    "    def FindFirstBits1(self,number):\n",
    "        index = 0\n",
    "        while number&1==0:#位与运算，都为1则为1，否则为0\n",
    "            number=number>>1\n",
    "            ++index\n",
    "        return index\n",
    "    \n",
    "    def IsBit1(self,number,index):\n",
    "        number = number>>index\n",
    "        return number&1"
   ]
  },
  {
   "cell_type": "code",
   "execution_count": 2,
   "metadata": {},
   "outputs": [
    {
     "data": {
      "text/plain": [
       "[1, 2]"
      ]
     },
     "execution_count": 2,
     "metadata": {},
     "output_type": "execute_result"
    }
   ],
   "source": [
    "Solution().FindNumsAppearOnce([1,2])"
   ]
  },
  {
   "cell_type": "code",
   "execution_count": 3,
   "metadata": {},
   "outputs": [
    {
     "data": {
      "text/plain": [
       "[1, 2]"
      ]
     },
     "execution_count": 3,
     "metadata": {},
     "output_type": "execute_result"
    }
   ],
   "source": [
    "Solution().FindNumsAppearOnce([1,2,3,3,4,4])"
   ]
  },
  {
   "cell_type": "markdown",
   "metadata": {},
   "source": [
    "## 题目二： 数组中唯一只出现一次的数字\n",
    "\n",
    "### 分析：\n"
   ]
  },
  {
   "cell_type": "code",
   "execution_count": null,
   "metadata": {},
   "outputs": [],
   "source": []
  }
 ],
 "metadata": {
  "kernelspec": {
   "display_name": "Python 3",
   "language": "python",
   "name": "python3"
  },
  "language_info": {
   "codemirror_mode": {
    "name": "ipython",
    "version": 3
   },
   "file_extension": ".py",
   "mimetype": "text/x-python",
   "name": "python",
   "nbconvert_exporter": "python",
   "pygments_lexer": "ipython3",
   "version": "3.6.5"
  }
 },
 "nbformat": 4,
 "nbformat_minor": 2
}
