{
 "cells": [
  {
   "cell_type": "markdown",
   "metadata": {},
   "source": [
    "# 题目：顺时针打印矩阵\n",
    "输入一个矩阵，按照从外向里，以顺时针的顺序依次打印出每一个数字。例如矩阵：  \n",
    "1  2  3  4  \n",
    "5  6  7  8  \n",
    "9  10 11 12  \n",
    "13 14 15 16    \n",
    "则依次打印出数字[1,2,3,4,8,12,16,15,14,13,9,5,6,7,11,10]\n",
    "\n",
    "## 分析：\n",
    "题目并没有涉及什么复杂的数据结构或者高级的算法，但实际上解决这个问题会在代码中包含多个循环，并且需要判断多个边界条件。因此解决这个问题的关键在于先形成清洗的思路，并把复杂的问题分解成若干个简单的问题。  \n",
    "对于本问题而言，实际上可以将矩阵看成若干个圆圈，每次都打印最外层的圈。那么接下来就要分析循环结束的条件：  \n",
    "\n",
    "假设这个矩阵的行数是rows，列数是cols。打印第一圈的左上角左边一定是$(0,0)$，第二圈的左上角坐标是$(1,1)$，依次类推。注意到左上角的横纵坐标都是一样的，于是可以在矩阵中选取左上角$(start,start)$的一圈作为我们分析的目标。  \n",
    "对于一个$5*5$的矩阵而言，最后一圈只有一个数字，对应的坐标为$(2,2)$，我们发现$5>2*2$；对于一个$6*6$的矩阵而言，最后一圈有四个数字，其左上角的坐标仍然为$(2,2)$，并且我们发现$6>2*2$仍然成立。于是得出，让循环继续的条件是$cols>startX*2$并且$rows>startY*2$。这样我们就可以写一个循环来打印矩阵了。  \n",
    "\n",
    "接下来我们又要考虑如何打印一圈的功能。我们可以把打印一圈分成四步：第一步，从左到右打印一行；第二步，从上到下打印一列；第三步，从右到左打印一行；第四步，从下到上打印一列。每一步我们都可以根据起始坐标和终止坐标用一个循环就能打印一行或者一列。  \n",
    "但是需要注意的是，最后一圈有可能退化成只有一行（列），甚至只有一个数字，这时打印一圈就不需要四步了。（考虑长宽不同的时候）。  \n",
    "因此，我们要仔细分析打印时每一步的前提条件。第一步总是需要的。如果只有一行，那么就不需要第二步了：也就是说，需要第二步的前提条件是终止行号大于起始行号。需要第三步的前提条件是圈内至少有两行两列。第四步的前提条件是至少有三行两列，因此要求终止行号比起始行号至少大2，同时终止列号大于起始列号。"
   ]
  },
  {
   "cell_type": "code",
   "execution_count": 34,
   "metadata": {},
   "outputs": [],
   "source": [
    "class Solution:\n",
    "    def PrintMatrix(self,data,cols,rows):\n",
    "        if data is None or cols<=0 or rows<=0:\n",
    "            return \n",
    "        start = 0\n",
    "        while(cols>start*2 and rows>start*2):\n",
    "            self.PrintMatrixInCircle(data,cols,rows,start)\n",
    "            start+=1\n",
    "            \n",
    "    def PrintMatrixInCircle(self,data,cols,rows,start):\n",
    "        endX = cols-1-start#最后一列\n",
    "        endY = rows-1-start#最后一行\n",
    "        \n",
    "        #第一步：从左到右打印一行\n",
    "        for i in range(start,endX+1):\n",
    "            num = data[start][i]\n",
    "            print(num,end=' ')\n",
    "            \n",
    "        #第二步：从上到下打印一列\n",
    "        if start<endY:\n",
    "            for i in range(start+1,endY+1):\n",
    "                num = data[i][endX]\n",
    "                print(num,end=' ')\n",
    "        \n",
    "        #第三步：从右到左打印一行\n",
    "        if start<endY and start<endX:\n",
    "            for i in range(endX-1,start-1,-1):\n",
    "                num = data[endY][i]\n",
    "                print(num,end=' ')\n",
    "        \n",
    "        #第四步：从下到上打印一列\n",
    "        if start<endX and start<endY-1:\n",
    "            for i in range(endY-1,start,-1):\n",
    "                num = data[i][start]\n",
    "                print(num,end=' ')"
   ]
  },
  {
   "cell_type": "markdown",
   "metadata": {},
   "source": [
    "# 测试"
   ]
  },
  {
   "cell_type": "code",
   "execution_count": 17,
   "metadata": {},
   "outputs": [],
   "source": [
    "import numpy as np"
   ]
  },
  {
   "cell_type": "code",
   "execution_count": 23,
   "metadata": {},
   "outputs": [
    {
     "data": {
      "text/plain": [
       "[[1, 2, 3, 4], [5, 6, 7, 8], [9, 10, 11, 12], [13, 14, 15, 16]]"
      ]
     },
     "execution_count": 23,
     "metadata": {},
     "output_type": "execute_result"
    }
   ],
   "source": [
    "data = np.array(list(range(1,17)))\n",
    "data = data.reshape(4,4).tolist()\n",
    "data"
   ]
  },
  {
   "cell_type": "code",
   "execution_count": 24,
   "metadata": {},
   "outputs": [
    {
     "name": "stdout",
     "output_type": "stream",
     "text": [
      "1 2 3 4 8 12 16 15 14 13 9 5 6 7 11 10 "
     ]
    }
   ],
   "source": [
    "Solution().PrintMatrix(data,4,4)"
   ]
  },
  {
   "cell_type": "code",
   "execution_count": 25,
   "metadata": {},
   "outputs": [
    {
     "data": {
      "text/plain": [
       "[[1, 2, 3, 4, 5],\n",
       " [6, 7, 8, 9, 10],\n",
       " [11, 12, 13, 14, 15],\n",
       " [16, 17, 18, 19, 20],\n",
       " [21, 22, 23, 24, 25]]"
      ]
     },
     "execution_count": 25,
     "metadata": {},
     "output_type": "execute_result"
    }
   ],
   "source": [
    "data1 = np.array(list(range(1,26)))\n",
    "data1 = data1.reshape(5,5).tolist()\n",
    "data1"
   ]
  },
  {
   "cell_type": "code",
   "execution_count": 26,
   "metadata": {},
   "outputs": [
    {
     "name": "stdout",
     "output_type": "stream",
     "text": [
      "1 2 3 4 5 10 15 20 25 24 23 22 21 16 11 6 7 8 9 14 19 18 17 12 13 "
     ]
    }
   ],
   "source": [
    "Solution().PrintMatrix(data1,5,5)"
   ]
  },
  {
   "cell_type": "code",
   "execution_count": 28,
   "metadata": {},
   "outputs": [
    {
     "data": {
      "text/plain": [
       "[[1, 2, 3], [4, 5, 6]]"
      ]
     },
     "execution_count": 28,
     "metadata": {},
     "output_type": "execute_result"
    }
   ],
   "source": [
    "data2 = np.array(list(range(1,7)))\n",
    "data2 = data2.reshape(2,3).tolist()\n",
    "data2"
   ]
  },
  {
   "cell_type": "code",
   "execution_count": 35,
   "metadata": {},
   "outputs": [
    {
     "name": "stdout",
     "output_type": "stream",
     "text": [
      "1 2 3 6 5 4 "
     ]
    }
   ],
   "source": [
    "Solution().PrintMatrix(data2,3,2)"
   ]
  },
  {
   "cell_type": "markdown",
   "metadata": {},
   "source": [
    "## 解法二： Python的黑魔法\n",
    "https://www.cnblogs.com/yanmk/p/8980173.html\n",
    "\n",
    "思路很独特：每次取矩阵的第一行，取完之后矩阵去掉第一行得到下一个矩阵。新的矩阵逆时针旋转，再取新矩阵的第一行，同样去掉第一行得到下一个矩阵。重复操作直到矩阵变为空。"
   ]
  },
  {
   "cell_type": "code",
   "execution_count": 36,
   "metadata": {},
   "outputs": [],
   "source": [
    "class Solution:\n",
    "    def spiralOrder(self, matrix):\n",
    "        \"\"\"\n",
    "        :type matrix: List[List[int]]\n",
    "        :rtype: List[int]\n",
    "        \"\"\"\n",
    "        #1.短路机制：当matrix==[]时就不再执行and之后的运算了\n",
    "        #2.matrix.pop(0)取第一行\n",
    "        #3.* 星号表达式，python特有\n",
    "        return matrix and [*matrix.pop(0)] + self.spiralOrder([*zip(*matrix)][::-1])"
   ]
  },
  {
   "cell_type": "code",
   "execution_count": 37,
   "metadata": {},
   "outputs": [
    {
     "data": {
      "text/plain": [
       "[[1, 2, 3], [4, 5, 6]]"
      ]
     },
     "execution_count": 37,
     "metadata": {},
     "output_type": "execute_result"
    }
   ],
   "source": [
    "data2 = np.array(list(range(1,7)))\n",
    "data2 = data2.reshape(2,3).tolist()\n",
    "data2"
   ]
  },
  {
   "cell_type": "code",
   "execution_count": 38,
   "metadata": {},
   "outputs": [
    {
     "data": {
      "text/plain": [
       "[1, 2, 3, 6, 5, 4]"
      ]
     },
     "execution_count": 38,
     "metadata": {},
     "output_type": "execute_result"
    }
   ],
   "source": [
    "Solution().spiralOrder(data2)"
   ]
  },
  {
   "cell_type": "code",
   "execution_count": null,
   "metadata": {},
   "outputs": [],
   "source": []
  }
 ],
 "metadata": {
  "kernelspec": {
   "display_name": "Python 3",
   "language": "python",
   "name": "python3"
  },
  "language_info": {
   "codemirror_mode": {
    "name": "ipython",
    "version": 3
   },
   "file_extension": ".py",
   "mimetype": "text/x-python",
   "name": "python",
   "nbconvert_exporter": "python",
   "pygments_lexer": "ipython3",
   "version": "3.6.5"
  }
 },
 "nbformat": 4,
 "nbformat_minor": 2
}
