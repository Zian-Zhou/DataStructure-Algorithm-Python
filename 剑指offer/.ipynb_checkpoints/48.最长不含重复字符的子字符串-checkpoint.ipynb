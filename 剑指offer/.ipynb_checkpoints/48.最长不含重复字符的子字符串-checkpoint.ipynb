{
 "cells": [
  {
   "cell_type": "markdown",
   "metadata": {},
   "source": [
    "# 题目：最长不含重复字符的子字符串\n",
    "从字符串中找出一个最长的不包含重复字符的子字符串，计算该最长子字符串的长度。假设字符串中只包含$'a'\\sim 'z'$的字符。  \n",
    "例如在字符串$\"arabcacfr\"$中，最长的不含重复字符的子字符串是$\"acfr\"$，长度为$4$。\n",
    "\n",
    "## 思路：动态规划\n",
    "我们引入函数$f(i)$表示以第$i$个字符作为结尾不包含重复子字符串的最大长度。那么$f(0)=1$。  \n",
    "如果第$i$个字符没有出现过，那么$f(i)=f(i-1)+1$；  \n",
    "如果出现过，情况就复杂一下：先记$d$为第$i$个字符在之前出现过的位置与当前位置的距离，那如果$d<=f(i-1)$，说明这个字符上次出现是在$f(i-1)$对应的那个最长子字符串里面，自然$f(i)=d$，这是因为以第$i$个字符结尾的最长的不含重复字符的子字符串就是第$i$个字符之前出现之后的那段字符串。而如果$d>f(i)$，那么$f(i)=f(i-1)+1$。  \n",
    "分析完之后，我们就知道，求解这个问题，在C++里面我们需要引入一个辅助数组，来记录某个字符是否出现过以及最新出现过的位置，用于判断计算$f(i)$时的取值。然后遍历一遍输入的字符串即可。此外，引入的辅助数组长度应该为26，分别对应26个字符。那么在python里面，其实引入hash表（字典）也是可以的。\n"
   ]
  },
  {
   "cell_type": "code",
   "execution_count": 16,
   "metadata": {},
   "outputs": [],
   "source": [
    "class Solution:\n",
    "    def longestSubstringWithoutDuplication(self,string):\n",
    "        assert string is not None, 'Invalid Input'\n",
    "        if len(string)==1:\n",
    "            return 1\n",
    "        currentLength=0#记录当前f(i)，相对后一位就是f(i-1)\n",
    "        maxLength=0#记录到目前为止最大的长度\n",
    "        position={}#用一个字典存储之前出现过的字符的位置\n",
    "        \n",
    "        for i in range(len(string)):\n",
    "            print('-----',string[i])\n",
    "            if string[i] not in position:\n",
    "                currentLength+=1\n",
    "                maxLength = max(currentLength,maxLength)\n",
    "                position[string[i]]=i\n",
    "                print('curr:{},max:{}'.format(currentLength,maxLength))\n",
    "            else:\n",
    "                d = i-position[string[i]]\n",
    "                print('d=',d)\n",
    "                if d<=currentLength:\n",
    "                    currentLength=d\n",
    "                else:\n",
    "                    currentLength+=1\n",
    "                    maxLength=max(currentLength,maxLength)\n",
    "                position[string[i]]=i\n",
    "                print('curr:{},max:{}'.format(currentLength,maxLength))\n",
    "                \n",
    "        return maxLength"
   ]
  },
  {
   "cell_type": "code",
   "execution_count": 17,
   "metadata": {},
   "outputs": [
    {
     "name": "stdout",
     "output_type": "stream",
     "text": [
      "----- a\n",
      "curr:1,max:1\n",
      "----- r\n",
      "curr:2,max:2\n",
      "----- a\n",
      "d= 2\n",
      "curr:2,max:2\n",
      "----- b\n",
      "curr:3,max:3\n",
      "----- c\n",
      "curr:4,max:4\n",
      "----- a\n",
      "d= 3\n",
      "curr:3,max:4\n",
      "----- c\n",
      "d= 2\n",
      "curr:2,max:4\n",
      "----- f\n",
      "curr:3,max:4\n",
      "----- r\n",
      "d= 7\n",
      "curr:4,max:4\n",
      "----- t\n",
      "curr:5,max:5\n",
      "----- l\n",
      "curr:6,max:6\n",
      "----- p\n",
      "curr:7,max:7\n"
     ]
    },
    {
     "data": {
      "text/plain": [
       "7"
      ]
     },
     "execution_count": 17,
     "metadata": {},
     "output_type": "execute_result"
    }
   ],
   "source": [
    "Solution().longestSubstringWithoutDuplication('arabcacfrtlp')"
   ]
  },
  {
   "cell_type": "code",
   "execution_count": null,
   "metadata": {},
   "outputs": [],
   "source": []
  }
 ],
 "metadata": {
  "kernelspec": {
   "display_name": "Python 3",
   "language": "python",
   "name": "python3"
  },
  "language_info": {
   "codemirror_mode": {
    "name": "ipython",
    "version": 3
   },
   "file_extension": ".py",
   "mimetype": "text/x-python",
   "name": "python",
   "nbconvert_exporter": "python",
   "pygments_lexer": "ipython3",
   "version": "3.6.5"
  }
 },
 "nbformat": 4,
 "nbformat_minor": 2
}
