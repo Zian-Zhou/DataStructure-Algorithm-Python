{
 "cells": [
  {
   "cell_type": "markdown",
   "metadata": {},
   "source": [
    "# 题目：合并两个排序的链表\n",
    "输入两个递增排序的链表，合并两个链表并且使得链表中的节点仍然是递增排序的。"
   ]
  },
  {
   "cell_type": "code",
   "execution_count": 69,
   "metadata": {},
   "outputs": [],
   "source": [
    "#定义结点\n",
    "class ListNode:\n",
    "    def __init__(self,value=None):\n",
    "        self.value = value\n",
    "        self.next = None\n",
    "\n",
    "#定义单项链表\n",
    "#不考虑头结点尾节点两个哨兵\n",
    "class LinkList:\n",
    "    def __init__(self,data):\n",
    "        self.header=ListNode(None)\n",
    "        if data is None or len(data)==0:\n",
    "            return\n",
    "        thisNode = self.header\n",
    "        for i in range(len(data)):\n",
    "            newNode = ListNode(data[i])\n",
    "            thisNode.next = newNode\n",
    "            thisNode = newNode"
   ]
  },
  {
   "cell_type": "code",
   "execution_count": 82,
   "metadata": {},
   "outputs": [],
   "source": [
    "class Solution:\n",
    "    def Merge(self,header1,header2):\n",
    "        #假设输入的是链表的头结点，而不是首节点\n",
    "        if header1 is None and header2 is None:\n",
    "            return None\n",
    "        elif header1 is None:\n",
    "            return header2\n",
    "        elif header2 is None:\n",
    "            return header1\n",
    "        \n",
    "        header1.next = self._mergeFirst(header1.next,header2.next)\n",
    "        #del header2\n",
    "        return header1\n",
    "    \n",
    "    def _mergeFirst(self,first1,first2):\n",
    "        #输入链表的首节点，而不是头结点\n",
    "        if first1 is None:\n",
    "            return first2\n",
    "        elif first2 is None:\n",
    "            return first1\n",
    "        \n",
    "        if first1.value < first2.value:\n",
    "            mergeFirst = first1\n",
    "            mergeFirst.next = self._mergeFirst(first1.next,first2)\n",
    "        else:\n",
    "            mergeFirst = first2\n",
    "            mergeFirst.next = self._mergeFirst(first1,first2.next)\n",
    "            \n",
    "        return mergeFirst"
   ]
  },
  {
   "cell_type": "markdown",
   "metadata": {},
   "source": [
    "## 测试"
   ]
  },
  {
   "cell_type": "code",
   "execution_count": 96,
   "metadata": {},
   "outputs": [],
   "source": [
    "test1 = LinkList([1,2,3,4,5])\n",
    "test2 = LinkList([2,4,4,4,4,4])\n",
    "header1 = test1.header\n",
    "header2 = test2.header"
   ]
  },
  {
   "cell_type": "code",
   "execution_count": 97,
   "metadata": {},
   "outputs": [],
   "source": [
    "#newFirst = Solution()._mergeFirst(header1.next,header2.next)\n",
    "#newFirst.value"
   ]
  },
  {
   "cell_type": "code",
   "execution_count": 98,
   "metadata": {},
   "outputs": [],
   "source": [
    "newHeader = Solution().Merge(header1,header2)"
   ]
  },
  {
   "cell_type": "code",
   "execution_count": 99,
   "metadata": {},
   "outputs": [
    {
     "name": "stdout",
     "output_type": "stream",
     "text": [
      "[1, 2, 2, 3, 4, 4, 4, 4, 4, 4, 5]\n"
     ]
    }
   ],
   "source": [
    "res = []\n",
    "thisNode = newHeader.next\n",
    "while(thisNode is not None):\n",
    "    res.append(thisNode.value)\n",
    "    thisNode = thisNode.next\n",
    "    \n",
    "print(res)"
   ]
  },
  {
   "cell_type": "code",
   "execution_count": null,
   "metadata": {},
   "outputs": [],
   "source": []
  }
 ],
 "metadata": {
  "kernelspec": {
   "display_name": "Python 3",
   "language": "python",
   "name": "python3"
  },
  "language_info": {
   "codemirror_mode": {
    "name": "ipython",
    "version": 3
   },
   "file_extension": ".py",
   "mimetype": "text/x-python",
   "name": "python",
   "nbconvert_exporter": "python",
   "pygments_lexer": "ipython3",
   "version": "3.6.5"
  }
 },
 "nbformat": 4,
 "nbformat_minor": 2
}
