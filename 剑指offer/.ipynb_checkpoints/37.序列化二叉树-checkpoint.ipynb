{
 "cells": [
  {
   "cell_type": "markdown",
   "metadata": {},
   "source": [
    "# 题目：序列化二叉树\n",
    "实现两个函数，分别用来序列化和反序列化二叉树。\n",
    "\n",
    "## 分析：\n",
    "其实这道题和题目7：重建二叉树是类似的。我们现在已经知道了可以从前序遍历序列加上中序遍历序列构造出一棵二叉树。受此启发，我们可以先把一棵二叉树序列化成一个前序遍历序列和一个中序遍历序列，然后在反序列化时通过这两个序列重构二叉树。  \n",
    "但这种思路有两个缺点，并且很致命：一个是要求二叉树不能有重复的节点（如果有重复，算法就无法通过前序遍历找到的根节点的值去划分中序遍历序列中左右子树序列的部分了，因为存在歧义）；第二缺点是只有当两个序列中所有数据都读出后才能开始反序列化，也就是说如果两个遍历序列的数据是从一个流里读出来的，那么可能需要等待较长的时间。  \n",
    "实际上，如果我们的二叉树序列化是从根节点开始的，那么相应的反序列化再根节点的数值读出来的时候就可以开始了。因此我们可以根据前序遍历的顺序来序列化二叉树。在遍历二叉树的同时，如果碰到空孩子，这些空节点就应该序列化成一个特殊字符比如$'\\$'$。另外，节点的数值之间要用一个特殊字符如$','$隔开。"
   ]
  },
  {
   "cell_type": "code",
   "execution_count": 2,
   "metadata": {},
   "outputs": [],
   "source": [
    "class Solution:\n",
    "    def Serializa(self,root):\n",
    "        if not root:\n",
    "            return '$'\n",
    "        return str(root.value)+','+self.Serializa(root.left)+','+self.Serializa(root.right)\n",
    "    '''#这部分我写的，有点冗余，但其实还是比较C++(#^.^#)\n",
    "    def Serializa(self,root):\n",
    "        res = ''\n",
    "        self._Serializa(root,res)\n",
    "        return res\n",
    "    \n",
    "    def _Serializa(self,root,treeString):\n",
    "        if root is None:\n",
    "            treeString+='$,'\n",
    "            return\n",
    "        treeString+=str(root.value)\n",
    "        treeString+=','\n",
    "        self.Serializa(root.left,treeString)\n",
    "        self.Serializa(root.right,treeString)\n",
    "    '''    \n",
    "    index = -1\n",
    "    def DeSerialize(self,treeString):\n",
    "        self.index=-1#初始化指针，避免下次调用solution类的同一个实例时候，指针位于错误的位置\n",
    "        return self._DeSerialize(treeString)\n",
    "    \n",
    "    def _DeSerialize(self,treeString):\n",
    "        stringToList = treeString.split(',')\n",
    "        self.index+=1\n",
    "        if self.index>=len(treeString):\n",
    "            return None\n",
    "        \n",
    "        root = None\n",
    "        if stringToList[self.index]!='$':\n",
    "            root = BinNode(int(stringToList[self.index]))\n",
    "            root.left = self._DeSerialize(treeString)\n",
    "            root.right = self._DeSerialize(treeString)\n",
    "        return root"
   ]
  },
  {
   "cell_type": "markdown",
   "metadata": {},
   "source": [
    "### 测试："
   ]
  },
  {
   "cell_type": "code",
   "execution_count": 17,
   "metadata": {},
   "outputs": [],
   "source": [
    "#二叉树\n",
    "class BinNode:\n",
    "    def __init__(self,value,left = None, right = None):\n",
    "        self.value = value\n",
    "        self.left = left\n",
    "        self.right = right\n",
    "        \n",
    "class Test:\n",
    "    def print_tree(self,root):\n",
    "        inOrderList = []\n",
    "        preOrderList = []\n",
    "        inOrderList = self.InOrder(root,inOrderList)\n",
    "        preOrderList = self.PreOrder(root,preOrderList)\n",
    "        print('inOrderList is :',inOrderList)\n",
    "        print('preOrderList is :',preOrderList)\n",
    "    def InOrder(self,root,lis):\n",
    "        if root is None:\n",
    "            return [None]\n",
    "        return lis+[self.InOrder(root.left,lis)]+[root.value]+[self.InOrder(root.right,lis)]\n",
    "    def PreOrder(self,root,lis):\n",
    "        if root is None:\n",
    "            return [None]\n",
    "        return lis+[root.value]+[self.PreOrder(root.left,lis)]+[self.PreOrder(root.right,lis)]"
   ]
  },
  {
   "cell_type": "code",
   "execution_count": 18,
   "metadata": {},
   "outputs": [],
   "source": [
    "S = Solution()"
   ]
  },
  {
   "cell_type": "code",
   "execution_count": 19,
   "metadata": {},
   "outputs": [
    {
     "name": "stdout",
     "output_type": "stream",
     "text": [
      "inOrderList is : [[[[None], 4, [None]], 2, [None]], 1, [[[None], 5, [None]], 3, [[None], 6, [None]]]]\n",
      "preOrderList is : [1, [2, [4, [None], [None]], [None]], [3, [5, [None], [None]], [6, [None], [None]]]]\n"
     ]
    }
   ],
   "source": [
    "root = S.DeSerialize('1,2,4,$,$,$,3,5,$,$,6,$,$')\n",
    "Test().print_tree(root)"
   ]
  },
  {
   "cell_type": "code",
   "execution_count": 21,
   "metadata": {},
   "outputs": [
    {
     "name": "stdout",
     "output_type": "stream",
     "text": [
      "1,2,4,$,$,$,3,5,$,$,6,$,$\n"
     ]
    }
   ],
   "source": [
    "print(S.Serializa(root))"
   ]
  },
  {
   "cell_type": "code",
   "execution_count": null,
   "metadata": {},
   "outputs": [],
   "source": []
  }
 ],
 "metadata": {
  "kernelspec": {
   "display_name": "Python 3",
   "language": "python",
   "name": "python3"
  },
  "language_info": {
   "codemirror_mode": {
    "name": "ipython",
    "version": 3
   },
   "file_extension": ".py",
   "mimetype": "text/x-python",
   "name": "python",
   "nbconvert_exporter": "python",
   "pygments_lexer": "ipython3",
   "version": "3.6.5"
  }
 },
 "nbformat": 4,
 "nbformat_minor": 2
}
