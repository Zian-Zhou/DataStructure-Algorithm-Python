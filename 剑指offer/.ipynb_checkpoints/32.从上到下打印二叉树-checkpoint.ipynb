{
 "cells": [
  {
   "cell_type": "markdown",
   "metadata": {},
   "source": [
    "# 题目：从上到下打印二叉树\n",
    "## 题目一：不分行从上到下打印二叉树：\n",
    "从上到下打印出二叉树的每个节点，同一层的节点按照从左到右的顺序打印。所谓不分行就是所有节点连续打印出来。"
   ]
  },
  {
   "cell_type": "markdown",
   "metadata": {},
   "source": [
    "## 题目一：不分行从上到下打印二叉树：\n",
    "### 分析：\n",
    "实际上就是层序遍历的实现。实际上就利用一个队列实现即可：每次打印一个节点的时候，如果该节点有子节点，则吧该节点的子节点入队。接下来队列出队，重复前面的过程，直到队列中所有的节点都被打印出来。"
   ]
  },
  {
   "cell_type": "code",
   "execution_count": 3,
   "metadata": {},
   "outputs": [],
   "source": [
    "#队列\n",
    "class Queue:\n",
    "    def __init__(self):\n",
    "        self.data = []\n",
    "    \n",
    "    def empty(self):\n",
    "        return self.data==[]\n",
    "        \n",
    "    def enqueue(self,value):\n",
    "        self.data.append(value)\n",
    "        \n",
    "    def dequeue(self):\n",
    "        if self.data==[]:\n",
    "            return None\n",
    "        return self.data.pop(0)\n",
    "    \n",
    "#二叉树\n",
    "class BinNode:\n",
    "    def __init__(self,value,left = None, right = None):\n",
    "        self.value = value\n",
    "        self.left = left\n",
    "        self.right = right\n",
    "\n",
    "class BinTree:\n",
    "    def __init__(self):\n",
    "        self.root = None\n",
    "        self.left = None\n",
    "        self.right = None\n",
    "    \n",
    "    #根据先序遍历和中序遍历序列重构二叉树，方便后面写测试用例\n",
    "    def reConstructBinTree(self,preOderList,inOrderList):\n",
    "        if not preOderList or not inOrderList:\n",
    "            print('one of the inputs:preOrderList or inOrderList is empty.' )\n",
    "        if len(preOderList)!=len(inOrderList):\n",
    "            print('Cannot build BinTree, since: the two list have different length.')\n",
    "            \n",
    "        self.root = self._reConstrucBinTree(preOderList,inOrderList)\n",
    "        self.left = self.root.left\n",
    "        self.right = self.root.right\n",
    "        \n",
    "    def _reConstrucBinTree(self,preOderList,inOrderList):\n",
    "        if not preOderList or not inOrderList:\n",
    "            return None\n",
    "        root = BinNode(preOderList[0],None,None)\n",
    "        val = inOrderList.index(preOderList[0])\n",
    "        \n",
    "        root.left = self._reConstrucBinTree(preOderList[1:val+1],inOrderList[:val])\n",
    "        root.right = self._reConstrucBinTree(preOderList[val+1:],inOrderList[val+1:])\n",
    "        \n",
    "        return root"
   ]
  },
  {
   "cell_type": "code",
   "execution_count": 30,
   "metadata": {},
   "outputs": [],
   "source": [
    "class Solution:\n",
    "    def PrintFromTopToBottom(self,root):\n",
    "        res = []\n",
    "        if root is None:\n",
    "            print('BinTree is None.')\n",
    "            return res\n",
    "        Q = Queue()\n",
    "        Q.enqueue(root)\n",
    "        while not Q.empty():#直到队列空\n",
    "            thisNode = Q.dequeue()\n",
    "            if thisNode is not None:\n",
    "                res.append(thisNode.value)\n",
    "                Q.enqueue(thisNode.left)\n",
    "                Q.enqueue(thisNode.right)\n",
    "            #隐藏一个else：如果队列中的节点是空，说明这是某个叶子节点的孩子节点（看做哨兵）\n",
    "            #此时直接出队即可，不需要也无法再向下层遍历\n",
    "        \n",
    "        return res"
   ]
  },
  {
   "cell_type": "markdown",
   "metadata": {},
   "source": [
    "## 测试"
   ]
  },
  {
   "cell_type": "code",
   "execution_count": 31,
   "metadata": {},
   "outputs": [],
   "source": [
    "tree = BinTree()\n",
    "tree.reConstructBinTree([8,6,5,7,10,9,11],[5,6,7,8,9,10,11])"
   ]
  },
  {
   "cell_type": "code",
   "execution_count": 32,
   "metadata": {},
   "outputs": [
    {
     "data": {
      "text/plain": [
       "[8, 6, 10, 5, 7, 9, 11]"
      ]
     },
     "execution_count": 32,
     "metadata": {},
     "output_type": "execute_result"
    }
   ],
   "source": [
    "Solution().PrintFromTopToBottom(tree.root)"
   ]
  },
  {
   "cell_type": "code",
   "execution_count": 33,
   "metadata": {},
   "outputs": [
    {
     "data": {
      "text/plain": [
       "[1, 2, 3, 4, 5]"
      ]
     },
     "execution_count": 33,
     "metadata": {},
     "output_type": "execute_result"
    }
   ],
   "source": [
    "#所有节点都只有左子树的二叉树\n",
    "tree1 = BinTree()\n",
    "tree1.reConstructBinTree([1,2,3,4,5],[5,4,3,2,1])\n",
    "Solution().PrintFromTopToBottom(tree1.root)"
   ]
  },
  {
   "cell_type": "code",
   "execution_count": 34,
   "metadata": {},
   "outputs": [
    {
     "data": {
      "text/plain": [
       "[1, 2, 3, 4, 5]"
      ]
     },
     "execution_count": 34,
     "metadata": {},
     "output_type": "execute_result"
    }
   ],
   "source": [
    "#所有节点都只有右子树的二叉树\n",
    "tree2 = BinTree()\n",
    "tree2.reConstructBinTree([1,2,3,4,5],[1,2,3,4,5])\n",
    "Solution().PrintFromTopToBottom(tree2.root)"
   ]
  },
  {
   "cell_type": "code",
   "execution_count": 35,
   "metadata": {},
   "outputs": [
    {
     "name": "stdout",
     "output_type": "stream",
     "text": [
      "BinTree is None.\n"
     ]
    },
    {
     "data": {
      "text/plain": [
       "[]"
      ]
     },
     "execution_count": 35,
     "metadata": {},
     "output_type": "execute_result"
    }
   ],
   "source": [
    "#空节点\n",
    "tree3 = BinTree()\n",
    "Solution().PrintFromTopToBottom(tree3.root)"
   ]
  },
  {
   "cell_type": "markdown",
   "metadata": {},
   "source": [
    "### 题目扩展：\n",
    "如何广度优先遍历一副有向图？其实上面这道题（题目一）从本质来讲就是广度优先遍历二叉树，因为二叉树就是图的一种退化形式。算法自然是基于队列实现。"
   ]
  },
  {
   "cell_type": "markdown",
   "metadata": {},
   "source": [
    "# ==========================假装是分界线==============="
   ]
  },
  {
   "cell_type": "markdown",
   "metadata": {},
   "source": [
    "## 题目二：分行从上到下打印二叉树\n",
    "相较于题目一，这一题多了一个要求：不分行。也就是每一行对应打印一行。这时候沿用上面队列的用法，就会发现一个问题，节点入队以后，我们无法得到当前出队的节点属于哪一行的信息，换句话说，什么时候当前行打印完毕，我们是不知道的。因此我们在每个节点入队的时候，我们都要给他们搭配上一个关于节点层次的信息，比如说深度、高度等。这样我们在每次打印的时候，判断当前结点是否为新的一层的节点，即可分辨出当前应该是换行，还是继续打印当前行节点的信息。  \n",
    "考虑到给定的节点数据结构中没有高度、深度的属性变量，因此我们在算法实现中要考虑等价的表示。据此引入两个变量，toBePrinted:当前层中还没有打印的节点数目;以及nextLevel:下一层的节点数。  \n",
    "在打印某一层的时候，每当有一个子节点入队，第二个变量就加一；打印一个节点时，第一个变量就减一，直到为0，则打印下一层，此时将第二个变量赋值给第一个变量，然后将第二个变量赋0。如此往复，直到队列为空。"
   ]
  },
  {
   "cell_type": "code",
   "execution_count": 51,
   "metadata": {},
   "outputs": [],
   "source": [
    "class Solution2:\n",
    "    def PrintFromTopToBottom2(self,root):\n",
    "        res = []\n",
    "        if root is None:\n",
    "            print('BinTree is None.')\n",
    "            return res\n",
    "        Q = Queue()\n",
    "        Q.enqueue(root)\n",
    "        toBePrinted = 1\n",
    "        nextLevel = 0\n",
    "        #while not Q.empty():#直到队列空\n",
    "        while toBePrinted!=nextLevel:\n",
    "            while(toBePrinted>0):\n",
    "                thisNode = Q.dequeue()\n",
    "                toBePrinted-=1\n",
    "                if thisNode is not None:\n",
    "                    res.append(thisNode.value)\n",
    "                    Q.enqueue(thisNode.left)\n",
    "                    Q.enqueue(thisNode.right)\n",
    "                    nextLevel+=2\n",
    "            #遍历完当前层之后：\n",
    "            res.append('\\n')\n",
    "            toBePrinted=nextLevel\n",
    "            nextLevel=0\n",
    "            \n",
    "        return res[:-2]"
   ]
  },
  {
   "cell_type": "markdown",
   "metadata": {},
   "source": [
    "## 测试："
   ]
  },
  {
   "cell_type": "code",
   "execution_count": 52,
   "metadata": {},
   "outputs": [
    {
     "data": {
      "text/plain": [
       "[8, '\\n', 6, 10, '\\n', 5, 7, 9, 11]"
      ]
     },
     "execution_count": 52,
     "metadata": {},
     "output_type": "execute_result"
    }
   ],
   "source": [
    "tree = BinTree()\n",
    "tree.reConstructBinTree([8,6,5,7,10,9,11],[5,6,7,8,9,10,11])\n",
    "Solution2().PrintFromTopToBottom2(tree.root)"
   ]
  },
  {
   "cell_type": "code",
   "execution_count": 53,
   "metadata": {},
   "outputs": [
    {
     "data": {
      "text/plain": [
       "[1, '\\n', 2, '\\n', 3, '\\n', 4, '\\n', 5]"
      ]
     },
     "execution_count": 53,
     "metadata": {},
     "output_type": "execute_result"
    }
   ],
   "source": [
    "#所有节点都只有左子树的二叉树\n",
    "tree1 = BinTree()\n",
    "tree1.reConstructBinTree([1,2,3,4,5],[5,4,3,2,1])\n",
    "Solution2().PrintFromTopToBottom2(tree1.root)"
   ]
  },
  {
   "cell_type": "code",
   "execution_count": 54,
   "metadata": {},
   "outputs": [
    {
     "data": {
      "text/plain": [
       "[1, '\\n', 2, '\\n', 3, '\\n', 4, '\\n', 5]"
      ]
     },
     "execution_count": 54,
     "metadata": {},
     "output_type": "execute_result"
    }
   ],
   "source": [
    "#所有节点都只有右子树的二叉树\n",
    "tree2 = BinTree()\n",
    "tree2.reConstructBinTree([1,2,3,4,5],[1,2,3,4,5])\n",
    "Solution2().PrintFromTopToBottom2(tree2.root)"
   ]
  },
  {
   "cell_type": "code",
   "execution_count": 71,
   "metadata": {},
   "outputs": [
    {
     "name": "stdout",
     "output_type": "stream",
     "text": [
      "BinTree is None.\n"
     ]
    },
    {
     "data": {
      "text/plain": [
       "[]"
      ]
     },
     "execution_count": 71,
     "metadata": {},
     "output_type": "execute_result"
    }
   ],
   "source": [
    "#空节点\n",
    "tree3 = BinTree()\n",
    "Solution2().PrintFromTopToBottom2(tree3.root)"
   ]
  },
  {
   "cell_type": "markdown",
   "metadata": {},
   "source": [
    "# ===============================假装是分界线========"
   ]
  },
  {
   "cell_type": "markdown",
   "metadata": {},
   "source": [
    "## 题目三：之字形打印二叉树\n",
    "实现一个函数按照之字形顺序打印二叉树，即第一行按照从左到右的顺序打印，第二层按照从右到左的顺序打印，第三行又按照从左到右的顺序打印，以此类推。并且打印要分行打印。\n",
    "\n",
    "### 分析：\n",
    "相较于前两题更进一步了，并且不能是用一个队列实现了（可以举个例子试试）。通过自己列举一个实例可以发现，我们需要两个栈来实现这个算法：假设当前层我们按照某个顺序（比如从左到右）访问节点，并且同时需要将其孩子结点存入一个数据结构中，然而我们到了下一层的时候访问顺序却需要相反的顺序，很自然的我们需要栈来实现，并且一个不够。这是因为当前层没访问完，栈里面仍然会有未访问的节点，如果此时把孩子节点加入当前栈，那就会出现这样一个问题：下一次要访问的元素“沉下去”了。据此我们需要两个栈来实现这个算法，并且需要两个变量，来确认访问当前层的时候应该按照什么顺序将子节点存入栈中。"
   ]
  },
  {
   "cell_type": "code",
   "execution_count": 66,
   "metadata": {},
   "outputs": [],
   "source": [
    "class Solution3:\n",
    "    def PrintFromTopToBottom3(self,root):\n",
    "        res = []\n",
    "        if root is None:\n",
    "            print('tree is empty.')\n",
    "            return res\n",
    "        #定义两个辅助栈，List末端为栈顶，支持两个接口append以及pop\n",
    "        S = [[],[]]\n",
    "        current = 0#当前使用的栈\n",
    "        another = 1#另外一个栈，用于存放当前层的子节点\n",
    "        \n",
    "        S[current].append(root)\n",
    "        \n",
    "        while(S[0]!=[] or S[1]!=[]):\n",
    "            thisNode = S[current].pop()\n",
    "            if thisNode is not None:\n",
    "                res.append(thisNode.value)\n",
    "                if current==0:#说明下一层访问顺序为自右到左\n",
    "                    S[another].append(thisNode.left)\n",
    "                    S[another].append(thisNode.right)\n",
    "                else:\n",
    "                    S[another].append(thisNode.right)\n",
    "                    S[another].append(thisNode.left)\n",
    "            \n",
    "            #如果当前栈元素都访问完毕了，则交换两个栈，并且换行   \n",
    "            if S[current]==[]:\n",
    "                res.append('\\n')\n",
    "                current,another = another,current\n",
    "        \n",
    "        return res[:-2]\n",
    "        "
   ]
  },
  {
   "cell_type": "code",
   "execution_count": 67,
   "metadata": {},
   "outputs": [
    {
     "data": {
      "text/plain": [
       "[8, '\\n', 10, 6, '\\n', 5, 7, 9, 11]"
      ]
     },
     "execution_count": 67,
     "metadata": {},
     "output_type": "execute_result"
    }
   ],
   "source": [
    "tree = BinTree()\n",
    "tree.reConstructBinTree([8,6,5,7,10,9,11],[5,6,7,8,9,10,11])\n",
    "Solution3().PrintFromTopToBottom3(tree.root)"
   ]
  },
  {
   "cell_type": "code",
   "execution_count": 68,
   "metadata": {},
   "outputs": [
    {
     "data": {
      "text/plain": [
       "[1, '\\n', 2, '\\n', 3, '\\n', 4, '\\n', 5]"
      ]
     },
     "execution_count": 68,
     "metadata": {},
     "output_type": "execute_result"
    }
   ],
   "source": [
    "#所有节点都只有左子树的二叉树\n",
    "tree1 = BinTree()\n",
    "tree1.reConstructBinTree([1,2,3,4,5],[5,4,3,2,1])\n",
    "Solution3().PrintFromTopToBottom3(tree1.root)"
   ]
  },
  {
   "cell_type": "code",
   "execution_count": 69,
   "metadata": {},
   "outputs": [
    {
     "data": {
      "text/plain": [
       "[1, '\\n', 2, '\\n', 3, '\\n', 4, '\\n', 5]"
      ]
     },
     "execution_count": 69,
     "metadata": {},
     "output_type": "execute_result"
    }
   ],
   "source": [
    "#所有节点都只有右子树的二叉树\n",
    "tree2 = BinTree()\n",
    "tree2.reConstructBinTree([1,2,3,4,5],[1,2,3,4,5])\n",
    "Solution3().PrintFromTopToBottom3(tree2.root)"
   ]
  },
  {
   "cell_type": "code",
   "execution_count": 72,
   "metadata": {},
   "outputs": [
    {
     "name": "stdout",
     "output_type": "stream",
     "text": [
      "tree is empty.\n"
     ]
    },
    {
     "data": {
      "text/plain": [
       "[]"
      ]
     },
     "execution_count": 72,
     "metadata": {},
     "output_type": "execute_result"
    }
   ],
   "source": [
    "#空节点\n",
    "tree3 = BinTree()\n",
    "Solution3().PrintFromTopToBottom3(tree3.root)"
   ]
  },
  {
   "cell_type": "code",
   "execution_count": null,
   "metadata": {},
   "outputs": [],
   "source": []
  },
  {
   "cell_type": "code",
   "execution_count": null,
   "metadata": {},
   "outputs": [],
   "source": []
  }
 ],
 "metadata": {
  "kernelspec": {
   "display_name": "Python 3",
   "language": "python",
   "name": "python3"
  },
  "language_info": {
   "codemirror_mode": {
    "name": "ipython",
    "version": 3
   },
   "file_extension": ".py",
   "mimetype": "text/x-python",
   "name": "python",
   "nbconvert_exporter": "python",
   "pygments_lexer": "ipython3",
   "version": "3.6.5"
  }
 },
 "nbformat": 4,
 "nbformat_minor": 2
}
