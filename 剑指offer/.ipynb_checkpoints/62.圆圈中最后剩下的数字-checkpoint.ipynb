{
 "cells": [
  {
   "cell_type": "markdown",
   "metadata": {},
   "source": [
    "# 题目：约瑟夫环问题\n",
    "0,1,...,n-1这n个数字排成一个圆圈，从数字0开始，每次从这个圆圈里删除第m个数字。求出这个圆圈里剩下的最后一个数字。\n",
    "\n",
    "## 分析：\n",
    "介绍两种解题方法，一种是用环形链表模拟圆圈的经典解法；另一种是分析每次被删除的数字的规律并直接计算出圆圈中最后剩下的数字。\n",
    "\n",
    "### 一、环形链表\n",
    "时间复杂度为$O(mn)$,空间复杂度为$O(n)$\n",
    "### 二、数学规律\n",
    "首先定义一个函数$f(m,n)$来表示我们要求的结果：最后剩下的数字，其中n,m如题意。  \n",
    "在这n个数字中，第一个被删除的数字是$(m-1)\\%n$，这里我们记为$k$，那么删除$k$之后剩下的$n-1$个数字为$0,1,...,k-1,k+1,..,n-1$，并且下次删除从数字$k+1$开始计数，相当于新的序列$k+1,..,n-1,0,..,k-1$中删除数字，记最后剩下的数字为$g(m,n)$,则$f(m,n)=g(m,n)$一定成立。  \n",
    "接下来把这剩下的$n-1$个数字的序列进行映射，分别映射为$0,1,2,...,n-2$.    \n",
    "我们把映射定义为$p$，则$p(x)=(x-k-1)\\%n$.  \n",
    "这个表示如果映射前的数字为$x$，那么映射后的数字是$(x-k-1)\\%n$.  \n",
    "其对应的逆映射则为$p^{-1}(x)=(x+k+1)\\%n$.  \n",
    "映射之后的序列和最初的序列形式相同，因此最后的剩下数字为$f(m,n-1)$.    \n",
    "那么根据前面分析，我们就有映射前最后剩下的数字为$g(m,n)=p^{-1}(f(m,n-1))=[f(m,n-1)+k+1]\\%n$.  \n",
    "将$k=(m-1)\\%n$代入，得到$f(m,n)=g(m,n)=[f(m,n-1)+m]\\%n$.  \n",
    "\n",
    "经过以上的分析，我们得到了最终的结果：递归公式。注意当$n=1$的时候，序列中只剩下一个数字0。  \n",
    "最终代码实现的时候可以采用两种方式，一种是递归，一种迭代。下面我们采用迭代的算法来解此题。"
   ]
  },
  {
   "cell_type": "code",
   "execution_count": 3,
   "metadata": {},
   "outputs": [],
   "source": [
    "class Solution:\n",
    "    def LastRemaining(self,n,m):\n",
    "        if n<1 or m<1:\n",
    "            return -1\n",
    "        \n",
    "        last = 0\n",
    "        for i in range(2,n+1):\n",
    "            last=(last+m)%i\n",
    "        return last"
   ]
  },
  {
   "cell_type": "code",
   "execution_count": 4,
   "metadata": {},
   "outputs": [
    {
     "data": {
      "text/plain": [
       "0"
      ]
     },
     "execution_count": 4,
     "metadata": {},
     "output_type": "execute_result"
    }
   ],
   "source": [
    "Solution().LastRemaining(1,1)"
   ]
  },
  {
   "cell_type": "code",
   "execution_count": 5,
   "metadata": {},
   "outputs": [
    {
     "data": {
      "text/plain": [
       "3"
      ]
     },
     "execution_count": 5,
     "metadata": {},
     "output_type": "execute_result"
    }
   ],
   "source": [
    "Solution().LastRemaining(5,3)"
   ]
  },
  {
   "cell_type": "code",
   "execution_count": null,
   "metadata": {},
   "outputs": [],
   "source": []
  }
 ],
 "metadata": {
  "kernelspec": {
   "display_name": "Python 3",
   "language": "python",
   "name": "python3"
  },
  "language_info": {
   "codemirror_mode": {
    "name": "ipython",
    "version": 3
   },
   "file_extension": ".py",
   "mimetype": "text/x-python",
   "name": "python",
   "nbconvert_exporter": "python",
   "pygments_lexer": "ipython3",
   "version": "3.6.5"
  }
 },
 "nbformat": 4,
 "nbformat_minor": 2
}
