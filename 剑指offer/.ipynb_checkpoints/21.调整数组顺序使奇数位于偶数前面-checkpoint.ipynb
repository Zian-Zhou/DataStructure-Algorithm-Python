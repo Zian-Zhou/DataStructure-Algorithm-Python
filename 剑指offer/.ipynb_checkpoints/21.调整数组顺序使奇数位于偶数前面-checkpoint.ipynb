{
 "cells": [
  {
   "cell_type": "markdown",
   "metadata": {},
   "source": [
    "# 题目：调整数组顺序使奇数位于偶数前面\n",
    "输入一个整数数组，实现一个函数来调整该数组中数字的顺序，使得所有奇数位于数组的前半部分，所有偶数位于数组的后半部分。\n",
    "\n",
    "# 思路：\n",
    "如果不考虑时间复杂度，最简单的思路应该是从头到庙整个数组，每碰到一个偶数，就拿出这个数字，并把位于这个数字后面的数字往前挪动一位。这样每碰到一个偶数就要移动$O(n)$个数字，因此总的时间复杂度是$O(n^2)$。显然这种方法不能让人满意。因此要考虑一种时间复杂度更优的算法。  \n",
    "首先介绍一种自然的算法，然后要提出，我们写代码，一定要写出一种扩展性更强的代码，当问题转化为，要把能被3整除的数字调整到数组的前半部分时，怎么在很小的改动下修改整个代码以实现要求。\n",
    "\n",
    "## 代码一：\n",
    "按照题目要求，所有的奇数必须位于偶数的前面。也就是说，在扫描整个数组的时候，如果发现有偶数出现在奇数前面则交换他们的顺序，交换之后就符合要求了。  \n",
    "因此我们只需要维护两个指针，一个指针初始化在数组第一个位置，只向后移动；另一个指针初始化在数组最后一个位置，只向前移动。在两个指针相遇之前，第一个指针总是在第二个指针前面，我们只需要在碰到第一个指针指向偶数而第二个指针指向奇数的情况下，交换两个数字的位置，这就一定保证了整个过程结束后所有奇数一定位于偶数的前面。\n",
    "\n",
    "## 代码二：（函数解耦，代码扩展性、可重用性）\n",
    "能够完整写出解法一，在面试中也应该足够了。但是如果面试官强调代码的扩展性，即希望能够给出一种模式，在这种模式下能够很方便的把已有的解决方案扩展到同类型的问题上去，这时候解法一的代码可能就不太通用了。面试官期待我们提供的不仅仅是解决一个问题的方法，而是希望给出一个能够解决一系列同类型问题的通用方法。  \n",
    "对于提出的新问题，我们只需要维持原先的算法框架，而要改动的仅仅只是将判断是否奇偶性的代码段抽象出来，写成一个用于修改判断标准的函数。这样整个代码扩展性就更强了。在碰到同类型的问题时，我们只需要更改判断函数的部分即可。"
   ]
  },
  {
   "cell_type": "code",
   "execution_count": 7,
   "metadata": {},
   "outputs": [],
   "source": [
    "class Solution1:\n",
    "    def ReorderOddEven(self,data):\n",
    "        if data is None or len(data)==0:\n",
    "            return data\n",
    "        left = 0\n",
    "        right = len(data)-1\n",
    "        while(left<right):\n",
    "            #移动左指针，知道碰到第一个偶数\n",
    "            while(left<right and data[left]%2!=0):\n",
    "                left+=1\n",
    "            #向前移动右指针，直到碰到第一个奇数\n",
    "            while(left<right and data[right]%2==0):\n",
    "                right-=1\n",
    "            \n",
    "            if left<right:\n",
    "                data[left],data[right] = data[right],data[left]\n",
    "        return data"
   ]
  },
  {
   "cell_type": "code",
   "execution_count": 9,
   "metadata": {},
   "outputs": [
    {
     "name": "stdout",
     "output_type": "stream",
     "text": [
      "[1, 9, 3, 7, 5, 6, 4, 8, 2]\n"
     ]
    }
   ],
   "source": [
    "print(Solution1().ReorderOddEven([1,2,3,4,5,6,7,8,9]))"
   ]
  },
  {
   "cell_type": "code",
   "execution_count": 22,
   "metadata": {},
   "outputs": [],
   "source": [
    "class Solution2:\n",
    "    def ReorderOddEven(self,data):\n",
    "        return self.Reorder(data,self.isEven)\n",
    "    \n",
    "    def Reorder(self,data,func):\n",
    "        if data is None or len(data)==0:\n",
    "            return data\n",
    "        left = 0\n",
    "        right = len(data)-1\n",
    "        while(left<right):\n",
    "            #移动左指针，直到碰到第一个偶数\n",
    "            while(left<right and not func(data,left)):\n",
    "                left+=1\n",
    "            #向前移动右指针，直到碰到第一个奇数\n",
    "            while(left<right and func(data,right)):\n",
    "                right-=1\n",
    "            \n",
    "            if left<right:\n",
    "                data[left],data[right] = data[right],data[left]\n",
    "        return data\n",
    "    \n",
    "    #判断奇偶性\n",
    "    def isEven(self,data,index):\n",
    "        #偶数返回True\n",
    "        #奇数返回False\n",
    "        return data[index]%2==0"
   ]
  },
  {
   "cell_type": "code",
   "execution_count": 23,
   "metadata": {},
   "outputs": [
    {
     "name": "stdout",
     "output_type": "stream",
     "text": [
      "[1, 9, 3, 7, 5, 6, 4, 8, 2]\n"
     ]
    }
   ],
   "source": [
    "print(Solution2().ReorderOddEven([1,2,3,4,5,6,7,8,9]))"
   ]
  },
  {
   "cell_type": "code",
   "execution_count": null,
   "metadata": {},
   "outputs": [],
   "source": []
  }
 ],
 "metadata": {
  "kernelspec": {
   "display_name": "Python 3",
   "language": "python",
   "name": "python3"
  },
  "language_info": {
   "codemirror_mode": {
    "name": "ipython",
    "version": 3
   },
   "file_extension": ".py",
   "mimetype": "text/x-python",
   "name": "python",
   "nbconvert_exporter": "python",
   "pygments_lexer": "ipython3",
   "version": "3.6.5"
  }
 },
 "nbformat": 4,
 "nbformat_minor": 2
}
