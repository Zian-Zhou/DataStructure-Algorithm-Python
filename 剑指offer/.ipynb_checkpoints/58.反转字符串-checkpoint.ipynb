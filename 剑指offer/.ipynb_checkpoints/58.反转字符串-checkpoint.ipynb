{
 "cells": [
  {
   "cell_type": "markdown",
   "metadata": {},
   "source": [
    "# 题目：翻转字符串\n",
    "\n",
    "## 题目一：翻转单词顺序\n",
    "输入一个英文句子，翻转句子中单词的顺序，但单词内字符的顺序不变。为简单起见，标点符号和普通字母一样处理。  \n",
    "例如输入字符串$\"I\\ am\\ a\\ student.\"$，则输出$\"student.\\ a\\ am\\ I\"$\n",
    "\n",
    "## 题目二：左旋转字符串\n",
    "字符串的左旋转操作是吧字符串前面的若干个字符转移到字符串的尾部。请定义一个函数实现字符串左旋转操作的功能。\n",
    "\n",
    "比如，输入的字符串$'abcdefg'$和数字2，输出结果为$'cdefgab'$."
   ]
  },
  {
   "cell_type": "code",
   "execution_count": null,
   "metadata": {},
   "outputs": [],
   "source": []
  },
  {
   "cell_type": "markdown",
   "metadata": {},
   "source": [
    "# 解答：\n"
   ]
  },
  {
   "cell_type": "markdown",
   "metadata": {},
   "source": [
    "## 题目一：翻转单词顺序\n",
    "\n",
    "### 分析：\n",
    "这道题目广为流传。最流行的一种解法就是两次翻转，第一次不管字符顺序，全部都翻转次序，第二次再分别对每个单词内部做翻转。  \n",
    "比如说$\"I\\ am\\ a\\ student.\"$，第一次翻转得到$\".tneduts\\ a\\ ma\\ I\"$，第二次对每个单词做翻转：$\"student.\\ a\\ am\\ I\"$"
   ]
  },
  {
   "cell_type": "code",
   "execution_count": 2,
   "metadata": {},
   "outputs": [],
   "source": [
    "class Solution:\n",
    "    def ReverseSentence1(self,s):\n",
    "        '''\n",
    "        利用python特性\n",
    "        '''\n",
    "        temp = s.split()\n",
    "        if len(temp)==0:\n",
    "            return s\n",
    "        return ' '.join(s.split()[::-1])\n",
    "    \n",
    "    #两次翻转法\n",
    "    def ReverseSentence2(self, s):\n",
    "        if s==None or len(s)<=0:\n",
    "            return ''\n",
    "        \n",
    "        #第一次翻转\n",
    "        s=list(s)\n",
    "        s=self.Reverse(s)\n",
    "        pStart=0\n",
    "        pEnd=0\n",
    "        listTemp=[]\n",
    "        result=''\n",
    "        #print(s)\n",
    "        while pEnd<len(s):\n",
    "            #第二次翻转——最后一个词\n",
    "            if pEnd==len(s)-1:\n",
    "                #print(self.Reverse(s[pStart:]))\n",
    "                listTemp.append(self.Reverse(s[pStart:]))\n",
    "                break\n",
    "            if s[pStart]==' ':\n",
    "                pStart +=1\n",
    "                pEnd +=1\n",
    "                listTemp.append(' ')\n",
    "            #第二次翻转——碰到空格\n",
    "            elif s[pEnd]==' ':\n",
    "                #print(self.Reverse(s[pStart:pEnd]))\n",
    "                listTemp.append(self.Reverse(s[pStart:pEnd]))\n",
    "                pStart=pEnd\n",
    "            else:\n",
    "                pEnd +=1\n",
    "        #print(listTemp)\n",
    "        for i in listTemp:\n",
    "            result+=''.join(i)\n",
    "        return result\n",
    "    \n",
    "    def Reverse(self,s):\n",
    "        # s是一个list列表\n",
    "        start=0\n",
    "        end=len(s)-1\n",
    "        while(start<end):\n",
    "            s[start],s[end]=s[end],s[start]\n",
    "            start+=1\n",
    "            end-=1\n",
    "        return s"
   ]
  },
  {
   "cell_type": "code",
   "execution_count": 4,
   "metadata": {},
   "outputs": [
    {
     "data": {
      "text/plain": [
       "'student. a am I'"
      ]
     },
     "execution_count": 4,
     "metadata": {},
     "output_type": "execute_result"
    }
   ],
   "source": [
    "Solution().ReverseSentence1('I am a student.')"
   ]
  },
  {
   "cell_type": "code",
   "execution_count": 5,
   "metadata": {},
   "outputs": [
    {
     "data": {
      "text/plain": [
       "'student. a am I'"
      ]
     },
     "execution_count": 5,
     "metadata": {},
     "output_type": "execute_result"
    }
   ],
   "source": [
    "Solution().ReverseSentence2('I am a student.')"
   ]
  },
  {
   "cell_type": "code",
   "execution_count": null,
   "metadata": {},
   "outputs": [],
   "source": []
  },
  {
   "cell_type": "markdown",
   "metadata": {},
   "source": [
    "## 题目二：左旋转字符串\n",
    "### 分析：\n",
    "由题目一的启发，可以通过三次翻转实现这个操作。先理解如何将$'hello world'$这个字符串变换成$'world hello'$，第一步翻转先分别翻转两个单词，得到$'olleh'$和$'dlrow'$，接着将两个部分合起来，对整个字符串进行翻转即可得到$'world hello'$。  \n",
    "因此我们可以利用题目一写的函数Reverse来实现我们的操作。"
   ]
  },
  {
   "cell_type": "code",
   "execution_count": 13,
   "metadata": {},
   "outputs": [],
   "source": [
    "class Solution2:\n",
    "    def leftRotateString(self, s, num):\n",
    "        if s==None or len(s)<=0 or num<0:\n",
    "            return ''\n",
    "        \n",
    "        if num>=len(s) or num==0:\n",
    "            return s\n",
    "        \n",
    "        Reverse = Solution().Reverse\n",
    "        \n",
    "        listTemp = []\n",
    "        s = list(s)\n",
    "        listTemp.append(Reverse(s[:num]))\n",
    "        \n",
    "        listTemp.append(Reverse(s[num:]))\n",
    "        \n",
    "        listTemp = Reverse(listTemp)\n",
    "        \n",
    "        result = ''\n",
    "        for i in listTemp:\n",
    "                result+=''.join(i)\n",
    "        return result"
   ]
  },
  {
   "cell_type": "code",
   "execution_count": 14,
   "metadata": {},
   "outputs": [
    {
     "data": {
      "text/plain": [
       "'gfedcba'"
      ]
     },
     "execution_count": 14,
     "metadata": {},
     "output_type": "execute_result"
    }
   ],
   "source": [
    "Solution2().leftRotateString('abcdefg',2)"
   ]
  },
  {
   "cell_type": "code",
   "execution_count": null,
   "metadata": {},
   "outputs": [],
   "source": []
  }
 ],
 "metadata": {
  "kernelspec": {
   "display_name": "Python 3",
   "language": "python",
   "name": "python3"
  },
  "language_info": {
   "codemirror_mode": {
    "name": "ipython",
    "version": 3
   },
   "file_extension": ".py",
   "mimetype": "text/x-python",
   "name": "python",
   "nbconvert_exporter": "python",
   "pygments_lexer": "ipython3",
   "version": "3.6.5"
  }
 },
 "nbformat": 4,
 "nbformat_minor": 2
}
