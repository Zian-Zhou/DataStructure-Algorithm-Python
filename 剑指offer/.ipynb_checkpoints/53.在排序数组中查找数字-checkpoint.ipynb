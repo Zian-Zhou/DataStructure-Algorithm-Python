{
 "cells": [
  {
   "cell_type": "markdown",
   "metadata": {},
   "source": [
    "# 题目：在排序数组中查找数字\n",
    "\n",
    "## 题目一：数字在排序数组中出现的次数：\n",
    "统计一个数字在排序数组中出现的次数。例如，输入排序数组${1,2,3,3,3,3,4,5}$和数字$3$，由于$3$在这个数组中出现了$4$次，因此输出$4$。\n",
    "\n",
    "## 题目二：$0\\sim n-1$中缺失的数字：\n",
    "一个长度为$n-1$的递增排序数组中所有数字都是唯一的，并且每个数字都在范围$0\\sim n-1$之内。在范围$0\\sim n-1$中有且只有一个数字不在该数组中，实现一个函数找出这个数字。\n",
    "\n",
    "## 题目三：数组中数值和下标相等的元素：\n",
    "假设一个单调递增的数组里的每个元素都是整数并且是唯一的。实现一个函数，找出数组中任意一个数值等于其下标的元素。  \n",
    "例如，在数组${-3,-1,1,3,5}$中，数字$3$和它的下标相同。"
   ]
  },
  {
   "cell_type": "markdown",
   "metadata": {},
   "source": [
    "# 解答：=========================="
   ]
  },
  {
   "cell_type": "markdown",
   "metadata": {},
   "source": [
    "## 题目一：数字在排序数组中出现的次数\n",
    "\n",
    "### 分析：\n",
    "显然，如果遍历一遍我们就可以在$O(n)$的时间内确认$3$出现的次数，但这并没有充分利用到排序数组的特性。  \n",
    "前面的题目中我们有遇到过关于排序好（或者部分排序）的数组相关题目，在那些题目中，我们知道可以利用二分查找的思想。这道题也是如此。  \n",
    "可以先用二分查找算法找到一个$3$。由于数字可能出现很多次，因此我们找到的数字左右两边可能都有3，于是在找到的数字左右两边顺序扫描，分别找到第一个$3$以及最后一个$3$。当然这个算法的时间效率并没有提升，并不能令我们满意。接下来就要思考怎么更好的利用二分查找算法。  \n",
    "前面提到用二分查找算法，但提出的算法时间主要消耗在如何确定重复出现的数字的第一个位置以及最后一个位置。实际上我们可以用二分查找算法直接找到第一个位置，以及最后一个位置。  \n",
    "这里我们先分析如何用二分查找算法找到目标数字出现的第一个位置。回顾二分查找算法，算法总是先拿数组中间的数字与目标数字$k$做比较，如果中间的数字比目标数字大，那么目标数字只可能出现在前半段；反之则只可能出现在后半段；但如果两个数字相等，在本题中我们可以先判断这是不是第一个出现的位置，只要这个位置前面没有出现过，那么中间数字就是第一个出现的目标数字，否则我们就要在前半段继续用二分查找来找第一个出现位置。  \n",
    "同上，我们也可以写出一个函数来确定最后一个出现的位置。这样分别找到这两个位置之后，我们就可以计算出目标数字在数组中出现的次数了（做差即可）。\n",
    "\n",
    "时间复杂度为$O(logn)$"
   ]
  },
  {
   "cell_type": "code",
   "execution_count": 1,
   "metadata": {},
   "outputs": [],
   "source": [
    "class Solution:\n",
    "    def GetnumberOfK(self,data,k):\n",
    "        assert data is not None, 'Invalid Input'\n",
    "        if len(data)==0:\n",
    "            return 0\n",
    "        first = self.GetFirstIndex(data,0,len(data)-1,k)\n",
    "        last = self.GetLastIndex(data,0,len(data)-1,k)\n",
    "        return last-first+1\n",
    "    \n",
    "    def GetFirstIndex(self,data,start,end,n):\n",
    "        if start>end:\n",
    "            return -1\n",
    "        mid = (start+end)//2\n",
    "        if data[mid]==n:\n",
    "            if mid>0 and data[mid-1]!=n:\n",
    "                return mid\n",
    "            else:\n",
    "                end = mid-1\n",
    "        elif data[mid]>n:\n",
    "            end = mid-1\n",
    "        else:\n",
    "            start = mid+1\n",
    "            \n",
    "        return self.GetFirstIndex(data,start,end,n)\n",
    "    \n",
    "    def GetLastIndex(self,data,start,end,n):\n",
    "        if start>end:\n",
    "            return -1\n",
    "        mid = (start+end)//2\n",
    "        if data[mid]==n:\n",
    "            if mid<len(data)-1 and data[mid+1]!=n:\n",
    "                return mid\n",
    "            else:\n",
    "                start = mid+1\n",
    "        elif data[mid]<n:\n",
    "            start = mid+1\n",
    "        else:\n",
    "            end = mid-1\n",
    "        return self.GetLastIndex(data,start,end,n)"
   ]
  },
  {
   "cell_type": "code",
   "execution_count": 2,
   "metadata": {},
   "outputs": [
    {
     "data": {
      "text/plain": [
       "4"
      ]
     },
     "execution_count": 2,
     "metadata": {},
     "output_type": "execute_result"
    }
   ],
   "source": [
    "Solution().GetnumberOfK([1,2,3,3,3,3,4,5],3)"
   ]
  },
  {
   "cell_type": "markdown",
   "metadata": {},
   "source": [
    "## 题目二：$0\\sim n-1$中缺失的数字：\n",
    "\n",
    "### 分析：\n",
    "最直观的一个方法就是，先用求和公式求得数字$0\\sim n-1$的所有数字之和，接着求出当前数组中所有数字之和，两者之差就是要找到的数字。但这个方法需要$O(n)$的时间，不能令人满意。和题目一一样，这个算法也没有利用好排序数组的特点。  \n",
    "再深入分析，缺失的数字如果插入这个数组之后，会发生什么变化？或者说，假设原来这个数字在数组中，我们把这个数字删去之后，数组发生了什么变化？  \n",
    "显然，当删除这个数字之后，后面的数字的位置都会前移，由于原来的数组每个数字和下标是对应的，那么发生前移之后，被删去的数字之后的数字和下标都不同。  \n",
    "这个规律告诉我们，只要找到第一个下标和当前位置的数字不同的位置，我们就对应找到了要找的缺失数字。  \n",
    "同样，对于排序好的数组进行查找，我们可以利用二分查找。如果中间元素的值和下标相等，那么下一轮就要到后半段查找；如果中间元素的值小于其下标，并且它前面的一个元素和下标相等，我们就找到了第一个不同的位置，不然我们就到做半段查找。"
   ]
  },
  {
   "cell_type": "code",
   "execution_count": 25,
   "metadata": {},
   "outputs": [],
   "source": [
    "class Solution:\n",
    "    def GetMissingNumber(self,data):\n",
    "        if data is None or len(data)==0:\n",
    "            return None\n",
    "        left = 0\n",
    "        right = len(data)-1\n",
    "        while left<=right:\n",
    "            mid = (left+right)//2\n",
    "            if data[mid]!=mid:\n",
    "                if mid==0 or data[mid-1]==mid-1:#如果前一个元素和下标相同，说明当前这个下标就是要找的数字\n",
    "                    return mid\n",
    "                right=mid-1\n",
    "            else:\n",
    "                left=mid+1\n",
    "        if left==len(data):\n",
    "            return len(data)\n",
    "        return None#无效输入，比如说数组不是排序的，或者数字不在0到n-1范围内"
   ]
  },
  {
   "cell_type": "code",
   "execution_count": 29,
   "metadata": {},
   "outputs": [
    {
     "data": {
      "text/plain": [
       "9"
      ]
     },
     "execution_count": 29,
     "metadata": {},
     "output_type": "execute_result"
    }
   ],
   "source": [
    "testList = [i for i in range(10)]\n",
    "testList.remove(9)\n",
    "Solution().GetMissingNumber(testList)"
   ]
  },
  {
   "cell_type": "code",
   "execution_count": 31,
   "metadata": {},
   "outputs": [
    {
     "data": {
      "text/plain": [
       "1"
      ]
     },
     "execution_count": 31,
     "metadata": {},
     "output_type": "execute_result"
    }
   ],
   "source": [
    "testList = [0]\n",
    "Solution().GetMissingNumber(testList)"
   ]
  },
  {
   "cell_type": "markdown",
   "metadata": {},
   "source": [
    "## 题目三：数组中数值和下标相等的元素\n",
    "\n",
    "### 分析：\n",
    "最直观的想法还是遍历一遍数组，找到数值和下标相等的元素即可，时间复杂度为$O(n)$，还是没有利用好排序数组的特性。  \n",
    "这里我们可以尝试用二分查找算法来进行优化。  \n",
    "假设我们某一步（中间值），到达数组的第$i$个位置，如果恰好当前位置的值也是$i$，那么我们就找到了一个数字和它的下标相等；  \n",
    "如果当前位置的值比$i$大，那么在其后面位置的元素都会比他们的下标大，因为我们数组是递增的，下标递增的速度不可能比数值递增的速度快。因此此时我们就要到前半段去查找；  \n",
    "如果当前位置的值比$i$小，同上面的讨论，其前面位置的元素都会比他们的下标小，因此此时我们就要到后半段去查找。"
   ]
  },
  {
   "cell_type": "code",
   "execution_count": 32,
   "metadata": {},
   "outputs": [],
   "source": [
    "class Solution:\n",
    "    def GetNumberSameAsIndex(self,data):\n",
    "        if data is None or len(data)==0:\n",
    "            return None\n",
    "        left = 0\n",
    "        right = len(data)-1\n",
    "        while left<=right:\n",
    "            mid = (left+right)//2\n",
    "            if data[mid]==mid:\n",
    "                return mid\n",
    "            if data[mid]>mid:\n",
    "                right = mid-1\n",
    "            else:\n",
    "                left = mid+1\n",
    "                \n",
    "        return None"
   ]
  },
  {
   "cell_type": "code",
   "execution_count": 33,
   "metadata": {},
   "outputs": [
    {
     "data": {
      "text/plain": [
       "3"
      ]
     },
     "execution_count": 33,
     "metadata": {},
     "output_type": "execute_result"
    }
   ],
   "source": [
    "Solution().GetNumberSameAsIndex([-3,-1,1,3,5])"
   ]
  },
  {
   "cell_type": "code",
   "execution_count": null,
   "metadata": {},
   "outputs": [],
   "source": []
  }
 ],
 "metadata": {
  "kernelspec": {
   "display_name": "Python 3",
   "language": "python",
   "name": "python3"
  },
  "language_info": {
   "codemirror_mode": {
    "name": "ipython",
    "version": 3
   },
   "file_extension": ".py",
   "mimetype": "text/x-python",
   "name": "python",
   "nbconvert_exporter": "python",
   "pygments_lexer": "ipython3",
   "version": "3.6.5"
  }
 },
 "nbformat": 4,
 "nbformat_minor": 2
}
