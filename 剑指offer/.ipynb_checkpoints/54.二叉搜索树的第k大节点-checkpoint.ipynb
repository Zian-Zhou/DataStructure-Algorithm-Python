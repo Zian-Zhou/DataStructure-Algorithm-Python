{
 "cells": [
  {
   "cell_type": "markdown",
   "metadata": {},
   "source": [
    "# 题目：二叉搜索树的第k大节点\n",
    "给定一棵二叉搜索树，找出其中第k大的节点（也就是其中序遍历序列第k个元素）。\n",
    "\n",
    "## 思路：\n",
    "这道题其实就是考中序遍历序列,因为二叉搜索树的中序遍历序列是递增序列。熟练中序遍历的递归和迭代算法，这一题就迎刃而解，只需要找到第k个结点就好了。"
   ]
  },
  {
   "cell_type": "code",
   "execution_count": 4,
   "metadata": {},
   "outputs": [],
   "source": [
    "class Solution:\n",
    "    def KthNodeOfBST(self,root,k):\n",
    "        if not root or k<=0:\n",
    "            return None\n",
    "        res = []\n",
    "        self.inorder_iter(root,res)\n",
    "        if len(res)<k:\n",
    "            return None\n",
    "        return res[k-1]\n",
    "    \n",
    "    #递归实现\n",
    "    def inorder_recc(self,root,res):\n",
    "        if not root:\n",
    "            return []\n",
    "        inorder(root.left)\n",
    "        res.append(root)\n",
    "        inorder(root.right)\n",
    "        \n",
    "    #迭代实现\n",
    "    def inorder_iter(self,thisNode,res):\n",
    "        stack = []\n",
    "        while True:\n",
    "            self.goAlongLeftBranch(thisNode,stack)\n",
    "            if stack==[]:\n",
    "                break\n",
    "            thisNode = stack.pop()\n",
    "            res.append(thisNode)\n",
    "            thisNode = thisNode.right\n",
    "    \n",
    "    def goAlongLeftBranch(self,node,stack):\n",
    "        while node is not None:\n",
    "            stack.append(node)\n",
    "            node = node.left"
   ]
  },
  {
   "cell_type": "markdown",
   "metadata": {},
   "source": [
    "### test:"
   ]
  },
  {
   "cell_type": "code",
   "execution_count": 5,
   "metadata": {},
   "outputs": [],
   "source": [
    "class BinNode:\n",
    "    def __init__(self,value,left = None, right = None):\n",
    "        self.value = value\n",
    "        self.left = left\n",
    "        self.right = right\n",
    "\n",
    "class BinTree:\n",
    "    def __init__(self):\n",
    "        self.root = None\n",
    "        self.left = None\n",
    "        self.right = None\n",
    "    \n",
    "    #根据先序遍历和中序遍历序列重构二叉树，方便后面写测试用例\n",
    "    def reConstructBinTree(self,preOderList,inOrderList):\n",
    "        if not preOderList or not inOrderList:\n",
    "            print('one of the inputs:preOrderList or inOrderList is empty.' )\n",
    "        if len(preOderList)!=len(inOrderList):\n",
    "            print('Cannot build BinTree, since: the two list have different length.')\n",
    "            \n",
    "        self.root = self._reConstrucBinTree(preOderList,inOrderList)\n",
    "        self.left = self.root.left\n",
    "        self.right = self.root.right\n",
    "        \n",
    "    def _reConstrucBinTree(self,preOderList,inOrderList):\n",
    "        if not preOderList or not inOrderList:\n",
    "            return None\n",
    "        root = BinNode(preOderList[0],None,None)\n",
    "        val = inOrderList.index(preOderList[0])\n",
    "        \n",
    "        root.left = self._reConstrucBinTree(preOderList[1:val+1],inOrderList[:val])\n",
    "        root.right = self._reConstrucBinTree(preOderList[val+1:],inOrderList[val+1:])\n",
    "        \n",
    "        return root"
   ]
  },
  {
   "cell_type": "code",
   "execution_count": 7,
   "metadata": {},
   "outputs": [],
   "source": [
    "#构建测试用例：\n",
    "testTree = BinTree()\n",
    "testTree.reConstructBinTree(preOderList=[5,3,2,4,7,6,8],inOrderList=[2,3,4,5,6,7,8])"
   ]
  },
  {
   "cell_type": "code",
   "execution_count": 9,
   "metadata": {},
   "outputs": [
    {
     "data": {
      "text/plain": [
       "4"
      ]
     },
     "execution_count": 9,
     "metadata": {},
     "output_type": "execute_result"
    }
   ],
   "source": [
    "Solution().KthNodeOfBST(testTree.root,3).value"
   ]
  },
  {
   "cell_type": "code",
   "execution_count": null,
   "metadata": {},
   "outputs": [],
   "source": []
  }
 ],
 "metadata": {
  "kernelspec": {
   "display_name": "Python 3",
   "language": "python",
   "name": "python3"
  },
  "language_info": {
   "codemirror_mode": {
    "name": "ipython",
    "version": 3
   },
   "file_extension": ".py",
   "mimetype": "text/x-python",
   "name": "python",
   "nbconvert_exporter": "python",
   "pygments_lexer": "ipython3",
   "version": "3.6.5"
  }
 },
 "nbformat": 4,
 "nbformat_minor": 2
}
