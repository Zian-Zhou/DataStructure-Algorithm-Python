{
 "cells": [
  {
   "cell_type": "markdown",
   "metadata": {},
   "source": [
    "# 题目：\n",
    "从扑克牌中随机抽5张牌，判断是不是一个顺子，即这5张牌是不是连续的。2到10位数字本身，A为1，J位11，Q为12，K为13，而大小王可以看成任意数字。\n",
    "\n",
    "## 分析：\n",
    "首先要对扑克牌建模，用计算机语言来说，5张牌就可以看成由5个数字组成的数组，大小王是任意数字，我们可以定义为0，这样就和其他牌区别开来。  \n",
    "接下来分析如何判断5个数字是不是连续的，最直观的方法是把数组排序。由于大小王（0）当成任意数字，那么我们可以用0去补满数组中的空缺，比如说排序后的数组中两个数字不是连续的，只要我们有足够的0去补足非连续的部分，那么这个数组也可以看成连续的。  \n",
    "所以，我们需要做三件事情：首先将数组排序，其次统计数组中0的个数，最后统计排序之后的数组中相邻数字之间的空缺总数，如果空缺总数小于或者等于0的个数，那么数组就是连续的，否则就是不连续的。当然还有一点需要注意的是，如果数组中的非零数字重复出现，则该数组不是连续的，换成扑克牌的描述方式就是，如果牌中含有对子，则不可能是顺子。"
   ]
  },
  {
   "cell_type": "code",
   "execution_count": 3,
   "metadata": {},
   "outputs": [],
   "source": [
    "class Solution:\n",
    "    def IsContinuous(self,numbers):\n",
    "        \"\"\"\n",
    "        numbers:扑克牌\n",
    "        \"\"\"\n",
    "        length = len(numbers)\n",
    "        if length==0:\n",
    "            return False\n",
    "        \n",
    "        numbers.sort()\n",
    "        \n",
    "        numOfZero = 0\n",
    "        numOfGap = 0\n",
    "        \n",
    "        #统计数组中0的个数\n",
    "        for num in numbers:\n",
    "            if num==0:\n",
    "                numOfZero+=1\n",
    "                \n",
    "        #统计数组中间隔数目\n",
    "        small = numOfZero\n",
    "        big = small+1\n",
    "        while big<length:\n",
    "            #两个数相等，出现对子，不可能为顺子\n",
    "            if numbers[small]==numbers[big]:\n",
    "                return False\n",
    "            numOfGap+=numbers[big]-numbers[small]-1\n",
    "            small = big\n",
    "            big+=1\n",
    "        \n",
    "        if numOfZero<numOfGap:\n",
    "            return False\n",
    "        else:\n",
    "            return True"
   ]
  },
  {
   "cell_type": "code",
   "execution_count": 5,
   "metadata": {},
   "outputs": [
    {
     "data": {
      "text/plain": [
       "False"
      ]
     },
     "execution_count": 5,
     "metadata": {},
     "output_type": "execute_result"
    }
   ],
   "source": [
    "Solution().IsContinuous([1,2,3,4,6])"
   ]
  },
  {
   "cell_type": "code",
   "execution_count": 6,
   "metadata": {},
   "outputs": [
    {
     "data": {
      "text/plain": [
       "True"
      ]
     },
     "execution_count": 6,
     "metadata": {},
     "output_type": "execute_result"
    }
   ],
   "source": [
    "Solution().IsContinuous([1,2,3,4,5])"
   ]
  },
  {
   "cell_type": "code",
   "execution_count": 7,
   "metadata": {},
   "outputs": [
    {
     "data": {
      "text/plain": [
       "True"
      ]
     },
     "execution_count": 7,
     "metadata": {},
     "output_type": "execute_result"
    }
   ],
   "source": [
    "Solution().IsContinuous([0,2,3,4,6])"
   ]
  },
  {
   "cell_type": "code",
   "execution_count": null,
   "metadata": {},
   "outputs": [],
   "source": []
  }
 ],
 "metadata": {
  "kernelspec": {
   "display_name": "Python 3",
   "language": "python",
   "name": "python3"
  },
  "language_info": {
   "codemirror_mode": {
    "name": "ipython",
    "version": 3
   },
   "file_extension": ".py",
   "mimetype": "text/x-python",
   "name": "python",
   "nbconvert_exporter": "python",
   "pygments_lexer": "ipython3",
   "version": "3.6.5"
  }
 },
 "nbformat": 4,
 "nbformat_minor": 2
}
