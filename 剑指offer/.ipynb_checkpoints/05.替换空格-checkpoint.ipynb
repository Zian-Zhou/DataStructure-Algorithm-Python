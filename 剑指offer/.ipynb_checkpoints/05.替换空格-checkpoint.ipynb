{
 "cells": [
  {
   "cell_type": "markdown",
   "metadata": {},
   "source": [
    "# 题目：\n",
    "实现一个函数，把字符串中的每个空格替换成$\"\\%20\"$.\n",
    "\n",
    "例如，输入$\"We\\ are\\ happy\"$, 则输出$\"We\\%20are\\%20happy\"$"
   ]
  },
  {
   "cell_type": "markdown",
   "metadata": {},
   "source": [
    "## 1.利用python内置函数"
   ]
  },
  {
   "cell_type": "code",
   "execution_count": 10,
   "metadata": {},
   "outputs": [],
   "source": [
    "class Solution:\n",
    "    def __init__(self):\n",
    "        pass\n",
    "    def replaceSpace(self, s):\n",
    "        #用s替换空格\n",
    "        #res = ''\n",
    "        '''\n",
    "        for x in s:\n",
    "            if x==' ':\n",
    "                res += '%20'\n",
    "            else:\n",
    "                res += s\n",
    "        #print(res)\n",
    "        '''\n",
    "        #for x in s.split(' '):\n",
    "        #    res += x\n",
    "        res = '%20'.join(s.split(' '))\n",
    "        return res"
   ]
  },
  {
   "cell_type": "code",
   "execution_count": 11,
   "metadata": {},
   "outputs": [
    {
     "data": {
      "text/plain": [
       "'We%20are%20happy'"
      ]
     },
     "execution_count": 11,
     "metadata": {},
     "output_type": "execute_result"
    }
   ],
   "source": [
    "Solution().replaceSpace('We are happy')"
   ]
  },
  {
   "cell_type": "markdown",
   "metadata": {},
   "source": [
    "## 2. C++解法\n",
    "假设操作是在数组上进行，由于操作时动态的可以考虑Vector\n",
    "\n",
    "（参考Vector的接口设计，设置两个指针，从后往前遍历）\n",
    "\n",
    "先遍历一次字符串， 这样就可以统计出字符串空格的总数，并可以由此计算出替换之后的字符串的总长度。这里，每次替换一个空格，长度增加2，因此长度总增加数为空格数量乘以2，因此可以从将要得到的字符串数组的最末端开始向前遍历（设置一个指针$P2$，而另一个指针$P1$指向替换前字符串的末端.\n",
    "\n",
    "接下来向前移动指针$P1$,z逐个把它指向的字符复制到指针$P2$指向的位置，知道碰到空格：\n",
    "\n",
    "把指针$P1$向前移动一个，在$P2$之前插入字符$\"%20\"$，同时$P2$向前移动3个。\n",
    "\n",
    "直到两个指针重合。"
   ]
  },
  {
   "cell_type": "code",
   "execution_count": 20,
   "metadata": {},
   "outputs": [],
   "source": [
    "class Solution:\n",
    "    def __init__(self):\n",
    "        pass\n",
    "    def replaceSpace(self, s):\n",
    "        #第一次遍历：计算空格数量\n",
    "        s = list(s)\n",
    "        count_space = 0\n",
    "        for x in s:\n",
    "            if x==' ':\n",
    "                count_space+=1\n",
    "        p1=len(s)-1#指针p1指向原数组的末端,index\n",
    "        s+=[None]*(count_space*2)\n",
    "        p2=len(s)-1#指针p2,指向新数组的末端，index\n",
    "        while (p1>=0 and p2>p1):\n",
    "            if(s[p1]==' '):\n",
    "                s[p2] = '0'\n",
    "                p2-=1\n",
    "                s[p2] = '2'\n",
    "                p2-=1\n",
    "                s[p2] = '%'\n",
    "                p2-=1\n",
    "            else:\n",
    "                s[p2] = s[p1]\n",
    "                p2-=1\n",
    "            p1-=1    \n",
    "        res = ''\n",
    "        for x in s:\n",
    "            res+=x\n",
    "        return res"
   ]
  },
  {
   "cell_type": "code",
   "execution_count": 21,
   "metadata": {},
   "outputs": [
    {
     "data": {
      "text/plain": [
       "'We%20are%20happy'"
      ]
     },
     "execution_count": 21,
     "metadata": {},
     "output_type": "execute_result"
    }
   ],
   "source": [
    "Solution().replaceSpace('We are happy')"
   ]
  },
  {
   "cell_type": "markdown",
   "metadata": {},
   "source": [
    "## 小结\n",
    "·时间效率   \n",
    "·内存覆盖，特别是在C++中，字符串变长意味着开辟新空间（参考Vector设计）   \n",
    "·从后往前替换   \n",
    "\n",
    "## 相关题目：\n",
    "有两个排序的数组A1和A2，内存在A1的末尾有足够多的空余空间容纳A2。  \n",
    "实现一个函数，把A2中的所有数字插入A1中，并且所有的数字是排序的。\n",
    "\n",
    "## 举一反三：\n",
    "在合并数组的时候，通常考虑从后往前复制，这样就能减少移动的次数，从而提高效率。"
   ]
  },
  {
   "cell_type": "code",
   "execution_count": null,
   "metadata": {},
   "outputs": [],
   "source": []
  }
 ],
 "metadata": {
  "kernelspec": {
   "display_name": "Python 3",
   "language": "python",
   "name": "python3"
  },
  "language_info": {
   "codemirror_mode": {
    "name": "ipython",
    "version": 3
   },
   "file_extension": ".py",
   "mimetype": "text/x-python",
   "name": "python",
   "nbconvert_exporter": "python",
   "pygments_lexer": "ipython3",
   "version": "3.6.5"
  }
 },
 "nbformat": 4,
 "nbformat_minor": 2
}
