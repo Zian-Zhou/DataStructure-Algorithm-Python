{
 "cells": [
  {
   "cell_type": "markdown",
   "metadata": {},
   "source": [
    "# 题目：表示数值的字符串\n",
    "实现一个函数用来判断字符串是否表示数值（包括整数和小数）。  \n",
    "例如字符串$\"+100\"、\"5e2\"、\"-123\"、\"3.1416\"、\"-1E-16\"、\".123\"$都表示数值；  \n",
    "但是$\"12e\"、\"1a3.14\"、\"1.2.3\"、\"+-5\"、\"12e+5.4\"$都不是数值。\n",
    "\n",
    "## 思路：\n",
    "能够表示数值的字符串遵循两种模式：$A[.[B]][e|EC]$或者$.B[e|EC]$。其中，A为数值的整数部分，B紧跟小数点为数值的小数部分，C紧跟着$'e'$或者$'E'$为数值的指数部分。在小数里可能没有数值的整数部分。比如说$.123$就是$0.123$。因此A不是必需的；但是如果没有整数部分，那么一定要有小数部分。  \n",
    "此外，A和C都是可能以$'+'$或者$'-'$开头的$0\\sim 9$的数位串，B也是，但前面不能有正负号。  \n",
    "总之，判断一个字符串是不是符合上面模式的时候，首先应该尽可能多地扫描$0\\sim 9 $的数位，此时可能带有正负号，也就是模式中表示数值部分的A。如果遇到小数点，则开始扫描表示数值小数部分的B。如果遇到$'e'$或者$'E'$，则开始扫描表示数值指数的C部分。"
   ]
  },
  {
   "cell_type": "code",
   "execution_count": 1,
   "metadata": {},
   "outputs": [],
   "source": [
    "#解法一:python  float型强转\n",
    "class Solution1:\n",
    "    def isNumeric(self, s):\n",
    "        try:\n",
    "            return float(s)\n",
    "        except:\n",
    "            return 0"
   ]
  },
  {
   "cell_type": "code",
   "execution_count": 44,
   "metadata": {},
   "outputs": [],
   "source": [
    "#解法二：\n",
    "class Solution2:\n",
    "    #self.index = 0#指针，用于记录当前扫描位置\n",
    "    def isNumeric(self,s):\n",
    "        if s==None:\n",
    "            return False\n",
    "        index = 0\n",
    "        #首先扫描可能含有正负号的数值部分，直到扫描到小数点或者指数符号\n",
    "        numeric,index = self.scanInteger(s,index)\n",
    "        \n",
    "        #如果出现小数点，则接下来就是数字的小数部分：\n",
    "        if index<len(s) and s[index]=='.':\n",
    "            index+=1\n",
    "            #分情况：\n",
    "            #1.如果前面numeric为False，说明小数点之前没有数值部分，或者有一个正负号出现（正负号之后没有数字）\n",
    "            #   接下来扫描小数部分，如果小数部分有数值部分，则numeric有机会变为True，否则仍然为False\n",
    "            #2.如果前面numeric为True，说明小数点之前有数值部分（不管含不含正负号）\n",
    "            #   接下来扫描小数部分，不管小数部分有没有数值部分，numeric都会是True，因此扫描的操作只是找到小数点\n",
    "            #   之后第一个非数字的位置\n",
    "            #numeric = (self.scanUnsignedInteger(s) or numeric)\n",
    "            numeric_next,index = self.scanUnsignedInteger(s,index)\n",
    "            numeric = numeric_next or numeric\n",
    "            if numeric==False:\n",
    "                return False\n",
    "            \n",
    "        #如果出现'e'或者'E'，则接下来是数字的指数部分：\n",
    "        if index<len(s) and (s[index]=='e' or s[index]=='E'):\n",
    "            index+=1\n",
    "            if index==len(s):\n",
    "                return False\n",
    "            #分情况：\n",
    "            #1.如果前面numeric为False,那接下来扫描不管是什么，numeric都会一直是False，也就没有扫描的意义了\n",
    "            #2.如果前面numeric为True，那接下来扫描数值部分（含有正负号），知道扫描到下一个非数字的位置，此时，\n",
    "            #    如果扫描到确实有数值部分，返回是True；如果没有扫描到任何数值部分，返回是Fasle（就是说指数部分\n",
    "            #    必须有数值部分）\n",
    "            #numeric = numeric and scanInteger(s)\n",
    "            numeric,index = self.scanInteger(s,index)\n",
    "            \n",
    "        #如果到这一步，numeric仍然是True，就看是不是扫描完了整个字符串，如果不是说明字符串不能表示数值（比如说‘10e5.4’）\n",
    "        #而如果numeric都已经是False了，自然字符串就不能表示数值了\n",
    "        return (numeric and index==len(s))\n",
    "    \n",
    "    #用于扫描可能带正负号的数值部分，用来匹配前面模式中A和C部分\n",
    "    def scanInteger(self,s,index):\n",
    "        if s[index]=='+' or s[index]=='-':\n",
    "            index+=1\n",
    "        return self.scanUnsignedInteger(s,index)\n",
    "    \n",
    "    #用于扫描无符号的数值部分，用来匹配前面数值模式中的B部分\n",
    "    def scanUnsignedInteger(self,s,index): \n",
    "        numDict = [str(i) for i in range(10)]\n",
    "        before = index#记录起始位置\n",
    "        #一直扫描，直到字符串扫描完毕或者扫描到非数字部分\n",
    "        while(index!=len(s) and s[index] in numDict):\n",
    "            index+=1\n",
    "        #只要index移动了，就说明这一段字符串中为数值部分，否则不含有数值部分\n",
    "        return index>before, index\n",
    "            "
   ]
  },
  {
   "cell_type": "code",
   "execution_count": 45,
   "metadata": {},
   "outputs": [],
   "source": [
    "correctTest = ['+100','5e2','-123','3.1415926','-1E-16']\n",
    "wrongTest = ['12e','1a3.14','1.2.3','+-5','12e+4.3']"
   ]
  },
  {
   "cell_type": "code",
   "execution_count": 46,
   "metadata": {},
   "outputs": [
    {
     "data": {
      "text/plain": [
       "True"
      ]
     },
     "execution_count": 46,
     "metadata": {},
     "output_type": "execute_result"
    }
   ],
   "source": [
    "isNumeric = Solution2().isNumeric\n",
    "isNumeric('100')"
   ]
  },
  {
   "cell_type": "code",
   "execution_count": 47,
   "metadata": {},
   "outputs": [],
   "source": [
    "class Test:\n",
    "    def test(self,testList):\n",
    "        isNumeric = Solution2().isNumeric\n",
    "        if testList is None or testList==[]:\n",
    "            return Fasle\n",
    "        return [isNumeric(s) for s in testList]"
   ]
  },
  {
   "cell_type": "code",
   "execution_count": 48,
   "metadata": {},
   "outputs": [
    {
     "data": {
      "text/plain": [
       "[True, True, True, True, True]"
      ]
     },
     "execution_count": 48,
     "metadata": {},
     "output_type": "execute_result"
    }
   ],
   "source": [
    "Test().test(correctTest)"
   ]
  },
  {
   "cell_type": "code",
   "execution_count": 49,
   "metadata": {},
   "outputs": [
    {
     "data": {
      "text/plain": [
       "[False, False, False, False, False]"
      ]
     },
     "execution_count": 49,
     "metadata": {},
     "output_type": "execute_result"
    }
   ],
   "source": [
    "Test().test(wrongTest)"
   ]
  },
  {
   "cell_type": "code",
   "execution_count": null,
   "metadata": {},
   "outputs": [],
   "source": []
  }
 ],
 "metadata": {
  "kernelspec": {
   "display_name": "Python 3",
   "language": "python",
   "name": "python3"
  },
  "language_info": {
   "codemirror_mode": {
    "name": "ipython",
    "version": 3
   },
   "file_extension": ".py",
   "mimetype": "text/x-python",
   "name": "python",
   "nbconvert_exporter": "python",
   "pygments_lexer": "ipython3",
   "version": "3.6.5"
  }
 },
 "nbformat": 4,
 "nbformat_minor": 2
}
