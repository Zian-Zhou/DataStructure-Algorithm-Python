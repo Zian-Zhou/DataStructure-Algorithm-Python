{
 "cells": [
  {
   "cell_type": "markdown",
   "metadata": {},
   "source": [
    "# 题目：两个链表的第一个公共节点\n",
    "输入两个链表，找出它们的第一个公共节点。注意这是一个单向链表。  \n",
    "\n",
    "## 分析：\n",
    "### 1.暴力法：\n",
    "每次遍历一条链，对每个节点遍历第二条链上是否存在，如果存在就找到第一个公共节点，如果不存在就继续遍历第一条链，直到遍历完。  \n",
    "显然时间复杂度为$O(mn)$。我们假设两条链的长度分别为$m,n$。\n",
    "\n",
    "### 2.栈：\n",
    "分析一下就可以直到，如果两条链有公共节点，那么在公共节点之后，两条链表是汇合在一起的，也就是说从宏观上 看，两条链表呈现Y字型，而不是X型。我们只需要从尾端开始往回遍历，找到最后一个相同的节点即可。但注意到这里是单向链表，没有指向前驱结点的指针，那么根据这种先进后出的顺序，我们自然的想到栈来实现。总体实现的时间复杂度为$O(m+n)$，空间复杂度为$O(m+n)$。\n",
    "\n",
    "### 3.双指针：\n",
    "沿着2的思路继续分析，遍历完一遍之后，其实我们已经得到了两条链长度了，也就是说我们知道长度之差是多少。如果我们设置两个指针，其中一个指针先走长度差的若干步，而另一个指针从头节点开始，那么接下来两个指针首次汇合的节点就是第一个公共节点。这还是因为公共节点之后两条链的剩余长度是一样的，因此两条链的长度差来自于汇合之前的部分，如果先走完多出来的这部分，那么剩下的长度就是一样的了。时间复杂度仍然是$O(m+n)$，但是空间复杂度降至$O(1)$."
   ]
  },
  {
   "cell_type": "code",
   "execution_count": 1,
   "metadata": {},
   "outputs": [],
   "source": [
    "class LinkNode:\n",
    "    def __init__(self,value=None,succ=None):\n",
    "        self.value = value\n",
    "        self.succ = succ"
   ]
  },
  {
   "cell_type": "code",
   "execution_count": 28,
   "metadata": {},
   "outputs": [],
   "source": [
    "class Solution:\n",
    "    #双指针法\n",
    "    def FindFirstCommonNode(self,head1,head2):\n",
    "        assert head1 and  head2, 'Invalid Input(NoneType).'\n",
    "        if not head1.succ or not head2.succ:\n",
    "            return None\n",
    "        thisNode1 = head1.succ\n",
    "        thisNode2 = head2.succ\n",
    "        length1 = 0\n",
    "        length2 = 0\n",
    "        while thisNode1 is not None:\n",
    "            length1+=1\n",
    "            thisNode1 = thisNode1.succ\n",
    "        while thisNode2 is not None:\n",
    "            length2+=1\n",
    "            thisNode2 = thisNode2.succ\n",
    "        #print('len1:{};len2:{}'.format(length1,length2))\n",
    "        thisNode1 = head1\n",
    "        thisNode2 = head2\n",
    "        #指针先行\n",
    "        if length1>length2:\n",
    "            minus = length1-length2\n",
    "            for i in range(minus):\n",
    "                thisNode1=thisNode1.succ\n",
    "        else:\n",
    "            minus = length2-length1\n",
    "            for i in range(minus):\n",
    "                thisNode2 = thisNode2.succ\n",
    "        while thisNode1!=thisNode2:\n",
    "            thisNode1=thisNode1.succ\n",
    "            thisNode2=thisNode2.succ\n",
    "            \n",
    "        return thisNode1"
   ]
  },
  {
   "cell_type": "markdown",
   "metadata": {},
   "source": [
    "### 测试"
   ]
  },
  {
   "cell_type": "code",
   "execution_count": 29,
   "metadata": {},
   "outputs": [],
   "source": [
    "node7 = LinkNode(7)\n",
    "node6 = LinkNode(6,node7)\n",
    "node3 = LinkNode(3,node6)\n",
    "node2 = LinkNode(2,node3)\n",
    "node1 = LinkNode(1,node2)\n",
    "head1 = LinkNode(None,node1)\n",
    "\n",
    "node5 = LinkNode(5,node6)\n",
    "node4 = LinkNode(4,node5)\n",
    "head2 = LinkNode(None,node4)\n",
    "\n",
    "#公共节点在node6"
   ]
  },
  {
   "cell_type": "code",
   "execution_count": 30,
   "metadata": {},
   "outputs": [
    {
     "data": {
      "text/plain": [
       "6"
      ]
     },
     "execution_count": 30,
     "metadata": {},
     "output_type": "execute_result"
    }
   ],
   "source": [
    "commonNode = Solution().FindFirstCommonNode(head1,head2)\n",
    "commonNode.value"
   ]
  },
  {
   "cell_type": "code",
   "execution_count": null,
   "metadata": {},
   "outputs": [],
   "source": []
  }
 ],
 "metadata": {
  "kernelspec": {
   "display_name": "Python 3",
   "language": "python",
   "name": "python3"
  },
  "language_info": {
   "codemirror_mode": {
    "name": "ipython",
    "version": 3
   },
   "file_extension": ".py",
   "mimetype": "text/x-python",
   "name": "python",
   "nbconvert_exporter": "python",
   "pygments_lexer": "ipython3",
   "version": "3.6.5"
  }
 },
 "nbformat": 4,
 "nbformat_minor": 2
}
