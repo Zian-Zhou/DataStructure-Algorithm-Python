{
 "cells": [
  {
   "cell_type": "markdown",
   "metadata": {},
   "source": [
    "# 题目：栈的压入、弹出序列\n",
    "输入两个整数序列，第一个序列表示栈的压入顺序，判断第二个序列是否为该栈的弹出顺序。假设压入栈的所有数字均不相等。  \n",
    "例如${1,2,3,4,5}$是某个站的压栈序列，序列${4,5,3,2,1}$是该压栈序列对应的一个弹出序列，但${4,3,5,1,2}$就不可能是该压栈序列的弹出序列。\n",
    "\n",
    "## 思路：\n",
    "很直观的想法就是建立一个辅助栈，把输入的第一个序列中的数字依次压入辅助栈，并按照第二个栈的顺序依次弹出。换句话说，每次压入栈的时候，都比较栈顶的元素和出栈序列的第一个是否一样，如果一样，就说明下一步应该是弹出该元素；然后每一步都进行这样的判断。"
   ]
  },
  {
   "cell_type": "code",
   "execution_count": 7,
   "metadata": {},
   "outputs": [],
   "source": [
    "class Stack:\n",
    "    def __init__(self):\n",
    "        self.data = []\n",
    "    def top(self):\n",
    "        if self.data==[]:\n",
    "            #print('This stack is empty. Return None.')\n",
    "            return None\n",
    "        return self.data[-1]\n",
    "    def pop(self):\n",
    "        if self.data==[]:\n",
    "            #print('This stack is empty. Return None.')\n",
    "            return None\n",
    "        return self.data.pop()\n",
    "    def push(self,value):\n",
    "        self.data.append(value)"
   ]
  },
  {
   "cell_type": "code",
   "execution_count": 19,
   "metadata": {},
   "outputs": [],
   "source": [
    "class Solution:\n",
    "    def IsPopOrder(self,PushList,PopList):\n",
    "        l = len(PushList)\n",
    "        if l==0 or l!=len(PopList):\n",
    "            return False\n",
    "        S = Stack()\n",
    "        #S.push(PushList[0])#第一个元素先入栈\n",
    "        PushIndex = 0#指针指向入栈序列的第二个位置\n",
    "        PopIndex = 0\n",
    "        while (PushIndex<l):\n",
    "            #如果辅助栈非空，并且要入栈的元素和下一个要出栈的元素相同，则不入栈，\n",
    "            #两个指针向后移动（可以看做入栈后出栈）\n",
    "            if S.top() is not None and PushList[PushIndex]==PopList[PopIndex]:\n",
    "                PushIndex+=1\n",
    "                PopIndex+=1\n",
    "            else:\n",
    "                S.push(PushList[PushIndex])\n",
    "                PushIndex+=1\n",
    "        \n",
    "        #上面while循环结束，所有元素都完成了入栈\n",
    "        #如果辅助栈非空，则依次弹出\n",
    "        while (S.top() is not None):\n",
    "            #如果当前要出栈的元素和预期出栈的元素不相同，说明两个list不是同一个栈的入栈出栈顺序\n",
    "            if S.top()!=PopList[PopIndex]:\n",
    "                return False\n",
    "            S.pop()\n",
    "            PopIndex+=1\n",
    "        \n",
    "        #上面while循环成功进行完，则说明两个list是同一个栈的入栈出栈顺序\n",
    "        return True\n",
    "            "
   ]
  },
  {
   "cell_type": "markdown",
   "metadata": {},
   "source": [
    "# 测试"
   ]
  },
  {
   "cell_type": "code",
   "execution_count": 20,
   "metadata": {},
   "outputs": [
    {
     "data": {
      "text/plain": [
       "True"
      ]
     },
     "execution_count": 20,
     "metadata": {},
     "output_type": "execute_result"
    }
   ],
   "source": [
    "Solution().IsPopOrder([1,2,3,4,5],[4,5,3,2,1])"
   ]
  },
  {
   "cell_type": "code",
   "execution_count": 21,
   "metadata": {},
   "outputs": [
    {
     "data": {
      "text/plain": [
       "False"
      ]
     },
     "execution_count": 21,
     "metadata": {},
     "output_type": "execute_result"
    }
   ],
   "source": [
    "Solution().IsPopOrder([1,2,3,4,5],[4,3,5,1,2])"
   ]
  },
  {
   "cell_type": "code",
   "execution_count": null,
   "metadata": {},
   "outputs": [],
   "source": []
  }
 ],
 "metadata": {
  "kernelspec": {
   "display_name": "Python 3",
   "language": "python",
   "name": "python3"
  },
  "language_info": {
   "codemirror_mode": {
    "name": "ipython",
    "version": 3
   },
   "file_extension": ".py",
   "mimetype": "text/x-python",
   "name": "python",
   "nbconvert_exporter": "python",
   "pygments_lexer": "ipython3",
   "version": "3.6.5"
  }
 },
 "nbformat": 4,
 "nbformat_minor": 2
}
