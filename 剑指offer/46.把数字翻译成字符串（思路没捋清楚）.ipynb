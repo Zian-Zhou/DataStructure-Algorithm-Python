{
 "cells": [
  {
   "cell_type": "markdown",
   "metadata": {},
   "source": [
    "# 题目：把数字翻译成字符串\n",
    "给定一个数字，按照如下规则把它翻译为字符串：$0$翻译为$'a'$，$1$翻译为$'b'$，$25$翻译成$'z'$。而一个数字可能与多个翻译。  \n",
    "例如说，$12258$有5中不同的翻译，分别是$'bccfi'$，$'bwfi'$，$'bczi'$，$'mcfi'$，$'mzi'$。  \n",
    "要求编程实现一个函数，用来计算一个数字有多少种不同的翻译方法。\n",
    "\n",
    "## 分析：\n",
    "分析一下可以发现，其实这个翻译问题就是问一个数字，用几种分割方法，使得每个分割的数字在$0\\sim 25$之间。当最开始的一个或者两个数字被翻译成一个字符之后，我们接着翻译后面剩下的数字。这显然可以用一个递归函数来计算总数。  \n",
    "我们定义函数$f(i)$表示从第$i$位数字开始的不同翻译的数目，那么$f(i)=f(i+1)+g(i,i+1)*f(i+2)$。当第$i$位和第$i+1$位两位数字拼接起来的数字在$10\\sim 25$的范围内时，函数$g(i,i+1)$的值为1，否则为0.  \n",
    "当然，分析的时候用的是递归的思路，但由于存在重复的子问题，递归自然不是解决这个问题的最佳方法。还是以$12258$为例，可以先分解成两个子问题：$1+2258$以及$12+258$；接下来我们翻译第一个子问题下的$2258$，同样可以分解成两个子问题$2+258$以及$22+58$，注意到这时候$258$的翻译出现了重复，如果采用递归，大问题中一定会出现大量这样的重复，使得时间效率非常低。  \n",
    "因此分析的时候是按照递归的思路分析的，但实现的时候我们可以考虑自下而上的实现，也就是说从下到上解决问题，这样就可以避免重复的子问题求解了。所以我们从数字的末尾开始，然后从右到左翻译并计算不同翻译的数目。  \n",
    "https://www.jianshu.com/p/80e1841909b7"
   ]
  },
  {
   "cell_type": "code",
   "execution_count": 3,
   "metadata": {},
   "outputs": [],
   "source": [
    "class Solution:\n",
    "    def GetTranslationCount(self,number):\n",
    "        if number<0:\n",
    "            return 0\n",
    "        str_num = str(number)\n",
    "        return self._getTranslationCount(str_num)\n",
    "    \n",
    "    #f(i)表示以i为开始（i最小取0）到最右端所组成的数字能够翻译成字符串的种数。对于长度为n的数字，f(n)=0,f(n-1)=1,求f(0)。\n",
    "    #动态规划，从右到左计算。\n",
    "    #f(i-2) = f(i-1)+g(i-2,i-1)*f(i);\n",
    "    #如果i-2，i-1能够翻译成字符，则g(i-2,i-1)=1，否则为0\n",
    "    #最后面两位要注意，最后一位是1；如果最后两位可以组成合适的两位数，则倒数第二位为2,如果不能，则为1.\n",
    "    def _getTranslationCount(self,string):\n",
    "        length = len(string)\n",
    "        counts = [0]*length\n",
    "        count=0\n",
    "        \n",
    "        for i in range(length-1,-1,-1):\n",
    "            count=0\n",
    "            if i<length-1:\n",
    "                count+=counts[i+1]\n",
    "            else:\n",
    "                count=1\n",
    "            \n",
    "            if i<length-1:\n",
    "                digit1=int(string[i])\n",
    "                digit2=int(string[i+1])\n",
    "                converted = digit1*10+digit2\n",
    "                \n",
    "                if converted>=10 and converted<=25:\n",
    "                    if i < length-2:\n",
    "                        count+=counts[i+2]\n",
    "                    else:\n",
    "                        count+=1\n",
    "                        \n",
    "            counts[i]=count\n",
    "        count=counts[0]\n",
    "        return count\n",
    "        "
   ]
  },
  {
   "cell_type": "code",
   "execution_count": 4,
   "metadata": {},
   "outputs": [
    {
     "data": {
      "text/plain": [
       "5"
      ]
     },
     "execution_count": 4,
     "metadata": {},
     "output_type": "execute_result"
    }
   ],
   "source": [
    "Solution().GetTranslationCount(12258)"
   ]
  },
  {
   "cell_type": "code",
   "execution_count": null,
   "metadata": {},
   "outputs": [],
   "source": []
  }
 ],
 "metadata": {
  "kernelspec": {
   "display_name": "Python 3",
   "language": "python",
   "name": "python3"
  },
  "language_info": {
   "codemirror_mode": {
    "name": "ipython",
    "version": 3
   },
   "file_extension": ".py",
   "mimetype": "text/x-python",
   "name": "python",
   "nbconvert_exporter": "python",
   "pygments_lexer": "ipython3",
   "version": "3.6.5"
  }
 },
 "nbformat": 4,
 "nbformat_minor": 2
}
