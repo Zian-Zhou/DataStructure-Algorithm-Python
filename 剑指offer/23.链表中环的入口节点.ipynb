{
 "cells": [
  {
   "cell_type": "markdown",
   "metadata": {},
   "source": [
    "# 题目：\n",
    "如果一个单向链表中包含环，如何找到环的入口节点？  \n",
    "例如，在链表$1->2->3->4->5->6->3->4-5->6->3->......$中，节点$3$就是环的入口节点。\n",
    "\n",
    "## 分析：\n",
    "解决这一个问题有两步，更具体来说，实现时有三步。  \n",
    "第一步就是如何确定一个链表中包含环：  \n",
    "解决这一步，我们可以采用两个指针。两个指针同时从头节点出发，一个指针一次走一步，一个指针一次走两步，如果走得快的指针和走得慢的指针相遇，说明链表中含有环；否则，知道走得快的指针走到了链表末端，两个指针都没有相遇，则链表中没有环。\n",
    "\n",
    "第二步就是如何找到环的入口：\n",
    "还是用两个指针来解决。两个指针都从头节点出发。如果链表中环有n个结点，则指针$P_1$现出发向前$n$步，然后两个指针以相同速度向前移动，当第二个指针指向环的入口节点时，第一个指针已经围绕环走了一圈，又回到了入口节点，此时两个指针相遇，也就找到了入口节点了。  \n",
    "这个算法可以证明其正确性：先出法n个结点，也就是说，当先出发的指针处于环入口的位置时，后出发的指针距离入口还有n步。此时继续前进n步，两个指针必然相遇在入口（先出发指针刚好转了一圈，而后出发的指针刚好走到入口）。\n",
    "\n",
    "第三步就是如何确定环的长度：  \n",
    "继续第一步的过程（如果存在环，两个指针相遇一定是在环中）。任意一个指针继续向前移动，并计数，直到指针又回到原来的位置，计数完毕。"
   ]
  },
  {
   "cell_type": "code",
   "execution_count": 5,
   "metadata": {},
   "outputs": [],
   "source": [
    "#定义结点\n",
    "class ListNode:\n",
    "    def __init__(self,value):\n",
    "        self.value = value\n",
    "        self.next = None\n",
    "\n",
    "#定义单项链表\n",
    "#不考虑头结点尾节点两个哨兵\n",
    "class LinkList:\n",
    "    def __init__(self,data):\n",
    "        self.header=ListNode(None)\n",
    "        if data is None or len(data)==0:\n",
    "            return\n",
    "        thisNode = self.header\n",
    "        for i in range(len(data)):\n",
    "            newNode = ListNode(data[i])\n",
    "            thisNode.next = newNode\n",
    "            thisNode = newNode\n",
    "        self.tailer = thisNode#单向链表中是不能告诉尾节点的，这里只是为了写测试例子方便"
   ]
  },
  {
   "cell_type": "code",
   "execution_count": 6,
   "metadata": {},
   "outputs": [],
   "source": [
    "class Solution:\n",
    "    def EntryNodeOfLoop(self,header):\n",
    "        meetingNode = self.meetingNode(header)\n",
    "        if meetingNode is None:\n",
    "            return None\n",
    "        \n",
    "        #环节点的计数\n",
    "        count = 1\n",
    "        thisNode = meetingNode\n",
    "        while(thisNode.next!=meetingNode):\n",
    "            thisNode = thisNode.next\n",
    "            count+=1\n",
    "        #确定完环的长度之后即可从头开始，定义两个指针，一个先走count步，另一个不动。\n",
    "        #同时向前移动，直到两个指针首次相遇，就找到了入口节点\n",
    "        thisNode = header\n",
    "        for i in range(count):\n",
    "            thisNode = thisNode.next\n",
    "            \n",
    "        behindNode = header\n",
    "        while(behindNode!=thisNode):\n",
    "            thisNode = thisNode.next\n",
    "            behindNode = behindNode.next\n",
    "            \n",
    "        return thisNode\n",
    "\n",
    "    #从pNode开始，找到两个指针相遇的节点\n",
    "    def meetingNode(self,pNode):\n",
    "        if pNode is None:\n",
    "            print('Ivalid Input. Node is None. Return None.')\n",
    "            return None\n",
    "        slowNode = pNode.next\n",
    "        if slowNode is None:\n",
    "            print('This LinkList is empty, so there is not Loop. Return None.')\n",
    "            return None\n",
    "        \n",
    "        fastNode = slowNode.next\n",
    "        while(fastNode is not None and slowNode is not None):\n",
    "            if fastNode==slowNode:\n",
    "                return fastNode\n",
    "            \n",
    "            slowNode = slowNode.next\n",
    "            fastNode = fastNode.next\n",
    "            if fastNode is not None:\n",
    "                fastNode = fastNode.next#多走一步\n",
    "        \n",
    "        print('There is not Loop is this LinkList. Return None.')\n",
    "        return None"
   ]
  },
  {
   "cell_type": "markdown",
   "metadata": {},
   "source": [
    "## 测试"
   ]
  },
  {
   "cell_type": "code",
   "execution_count": 16,
   "metadata": {},
   "outputs": [
    {
     "data": {
      "text/plain": [
       "True"
      ]
     },
     "execution_count": 16,
     "metadata": {},
     "output_type": "execute_result"
    }
   ],
   "source": [
    "#初始化一个单向链表\n",
    "testLinkList = LinkList([1,2,3,4,5,6])\n",
    "testLinkList.tailer.next == None"
   ]
  },
  {
   "cell_type": "code",
   "execution_count": 17,
   "metadata": {},
   "outputs": [
    {
     "data": {
      "text/plain": [
       "3"
      ]
     },
     "execution_count": 17,
     "metadata": {},
     "output_type": "execute_result"
    }
   ],
   "source": [
    "#设置环，对应位置数值为3（入口）\n",
    "testLinkList.tailer.next = testLinkList.header.next.next.next\n",
    "testLinkList.header.next.next.next.value"
   ]
  },
  {
   "cell_type": "code",
   "execution_count": 18,
   "metadata": {},
   "outputs": [
    {
     "data": {
      "text/plain": [
       "3"
      ]
     },
     "execution_count": 18,
     "metadata": {},
     "output_type": "execute_result"
    }
   ],
   "source": [
    "#寻找入口节点\n",
    "Solution().EntryNodeOfLoop(testLinkList.header).value"
   ]
  },
  {
   "cell_type": "code",
   "execution_count": null,
   "metadata": {},
   "outputs": [],
   "source": []
  }
 ],
 "metadata": {
  "kernelspec": {
   "display_name": "Python 3",
   "language": "python",
   "name": "python3"
  },
  "language_info": {
   "codemirror_mode": {
    "name": "ipython",
    "version": 3
   },
   "file_extension": ".py",
   "mimetype": "text/x-python",
   "name": "python",
   "nbconvert_exporter": "python",
   "pygments_lexer": "ipython3",
   "version": "3.6.5"
  }
 },
 "nbformat": 4,
 "nbformat_minor": 2
}
