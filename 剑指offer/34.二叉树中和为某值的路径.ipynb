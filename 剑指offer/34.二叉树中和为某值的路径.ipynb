{
 "cells": [
  {
   "cell_type": "markdown",
   "metadata": {},
   "source": [
    "# 题目：二叉树中和为某一值的路径\n",
    "输入一个二叉树和一个整数，打印出二叉树中节点值的和为输入整数的所有路径。从树的根节点开始往下一直到叶节点所经过的节点行程一条路径。  \n",
    "注意：二叉树节点定义没有指向父亲的指针。  \n",
    "\n",
    "## 思路：\n",
    "显然应该是个前序遍历的过程，先遍历节点的值，再向下遍历。当遍历到叶子节点时，就得到一条路径，我们将路径的元素求和（实际上应该是在遍历的时候就求和一次，而不是到最后再求和），如果等于预期的值，就打印出这条路径；如果不等于，就向根节点回溯，再遍历右子树等等。这个过程其实就是个栈后进先出的过程（参考前序遍历的迭代实现），因此我们考虑用栈来实现。  \n",
    "不过这里我们不是用简单的栈来实现，因为真正的栈每次只能访问栈顶一个元素，而我们打印路径的时候需要从栈底打印到栈顶，因此我们还是需要采用列表（或者说向量）的数据结构来实现，而在遍历的过程中，我们又将其看成栈，只对列表末端位置进行操作。"
   ]
  },
  {
   "cell_type": "code",
   "execution_count": 14,
   "metadata": {},
   "outputs": [],
   "source": [
    "#采用递归实现，递归和栈同理\n",
    "class Solution:\n",
    "    def FindPath(self,root,target):\n",
    "        if root is None:\n",
    "            return\n",
    "        path = []\n",
    "        currentSum = 0\n",
    "        self._FindPath(root,target,path,currentSum)\n",
    "        \n",
    "    def _FindPath(self,root,target,path,currentSum):\n",
    "        currentSum+=root.value#这里的currentSum不会修改递归上一层的currentSum，因此最后不需要自减\n",
    "        path.append(root.value)\n",
    "        \n",
    "        if root.left is None and root.right is None and currentSum==target:\n",
    "            print('A path is found:',path)\n",
    "        \n",
    "        if currentSum<target:#如果当前路径总和已经超过了目标值，没必要向下遍历了（假设路径值都是正数）\n",
    "            if root.left is not None:\n",
    "                self._FindPath(root.left,target,path,currentSum)\n",
    "            if root.right is not None:\n",
    "                self._FindPath(root.right,target,path,currentSum)\n",
    "            \n",
    "        path.pop()"
   ]
  },
  {
   "cell_type": "markdown",
   "metadata": {},
   "source": [
    "## 测试："
   ]
  },
  {
   "cell_type": "code",
   "execution_count": 15,
   "metadata": {},
   "outputs": [],
   "source": [
    "class BinNode:\n",
    "    def __init__(self,value,left = None, right = None):\n",
    "        self.value = value\n",
    "        self.left = left\n",
    "        self.right = right\n",
    "\n",
    "class BinTree:\n",
    "    def __init__(self):\n",
    "        self.root = None\n",
    "        self.left = None\n",
    "        self.right = None\n",
    "    \n",
    "    #根据先序遍历和中序遍历序列重构二叉树，方便后面写测试用例\n",
    "    def reConstructBinTree(self,preOderList,inOrderList):\n",
    "        if not preOderList or not inOrderList:\n",
    "            print('one of the inputs:preOrderList or inOrderList is empty.' )\n",
    "        if len(preOderList)!=len(inOrderList):\n",
    "            print('Cannot build BinTree, since: the two list have different length.')\n",
    "            \n",
    "        self.root = self._reConstrucBinTree(preOderList,inOrderList)\n",
    "        self.left = self.root.left\n",
    "        self.right = self.root.right\n",
    "        \n",
    "    def _reConstrucBinTree(self,preOderList,inOrderList):\n",
    "        if not preOderList or not inOrderList:\n",
    "            return None\n",
    "        root = BinNode(preOderList[0],None,None)\n",
    "        val = inOrderList.index(preOderList[0])\n",
    "        \n",
    "        root.left = self._reConstrucBinTree(preOderList[1:val+1],inOrderList[:val])\n",
    "        root.right = self._reConstrucBinTree(preOderList[val+1:],inOrderList[val+1:])\n",
    "        \n",
    "        return root"
   ]
  },
  {
   "cell_type": "code",
   "execution_count": 16,
   "metadata": {},
   "outputs": [
    {
     "name": "stdout",
     "output_type": "stream",
     "text": [
      "A path is found: [10, 5, 7]\n",
      "A path is found: [10, 12]\n"
     ]
    }
   ],
   "source": [
    "tree1 = BinTree()\n",
    "tree1.reConstructBinTree([10,5,4,7,12],[4,5,7,10,12])\n",
    "Solution().FindPath(tree1.root,22)"
   ]
  },
  {
   "cell_type": "code",
   "execution_count": null,
   "metadata": {},
   "outputs": [],
   "source": []
  }
 ],
 "metadata": {
  "kernelspec": {
   "display_name": "Python 3",
   "language": "python",
   "name": "python3"
  },
  "language_info": {
   "codemirror_mode": {
    "name": "ipython",
    "version": 3
   },
   "file_extension": ".py",
   "mimetype": "text/x-python",
   "name": "python",
   "nbconvert_exporter": "python",
   "pygments_lexer": "ipython3",
   "version": "3.6.5"
  }
 },
 "nbformat": 4,
 "nbformat_minor": 2
}
