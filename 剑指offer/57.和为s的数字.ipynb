{
 "cells": [
  {
   "cell_type": "markdown",
   "metadata": {},
   "source": [
    "# 题目：和为s的数字\n",
    "\n",
    "## 题目一：和为s的两个数字\n",
    "输入一个递增排序的数组和一个数字s，在数组中查找两个数，使得他们的和正好是s。如果有多对数字的和等于s，则输出任意一对即可。\n",
    "\n",
    "## 题目二：和为s的连续正数序列\n",
    "输入一个正数s，打印出所有和为s的连续正数序列（至少含有两个数）。  \n",
    "例如，输入$15$，由于$15=1+2+3+4+5=4+5+6=7+8$，所以打印出三个连续序列。"
   ]
  },
  {
   "cell_type": "markdown",
   "metadata": {},
   "source": [
    "=========================================================================\n",
    "# 解答：\n"
   ]
  },
  {
   "cell_type": "markdown",
   "metadata": {},
   "source": [
    "## 题目一：和为s的两个数字\n",
    "\n",
    "### 分析：\n",
    "因为是已经递增排序好的数字，我们只需要找一个小的数字和一个大的数字相加，和目标值比较即可。  \n",
    "设置两个指针，一个从前向后遍历，一个从后向前遍历。每次将两个指针指向的数字之和和目标值比较，如果相等，我们就找到了这两个数字，返回即可；  \n",
    "如果比目标值小，那么我们希望找个比小数字更大的数字，那么左指针向右移动；如果比目标值大，那么我们希望找个比大数字更小的数字，那么右指针向左移动。  \n",
    "遍历结束于两个指针相遇。  \n",
    "由于算法是两头向中间遍历，时间复杂度自然是$O(n)$."
   ]
  },
  {
   "cell_type": "code",
   "execution_count": 1,
   "metadata": {},
   "outputs": [],
   "source": [
    "class Solution:\n",
    "    def FindNumbersWithSum(self,data,target):\n",
    "        if len(data)<1:\n",
    "            return None\n",
    "        left = 0\n",
    "        right = len(data)-1\n",
    "        while left<right:\n",
    "            curSum = data[left]+data[right]\n",
    "            if curSum==target:\n",
    "                return [data[left],data[right]]\n",
    "            elif curSum>target:\n",
    "                right-=1\n",
    "            else:\n",
    "                left+=1\n",
    "        return None"
   ]
  },
  {
   "cell_type": "code",
   "execution_count": 2,
   "metadata": {},
   "outputs": [
    {
     "data": {
      "text/plain": [
       "[4, 11]"
      ]
     },
     "execution_count": 2,
     "metadata": {},
     "output_type": "execute_result"
    }
   ],
   "source": [
    "Solution().FindNumbersWithSum([1,2,4,7,11,15],15)"
   ]
  },
  {
   "cell_type": "markdown",
   "metadata": {},
   "source": [
    "## 题目二：和为s的连续正数序列\n",
    "\n",
    "### 分析：\n",
    "有了题目一的分析，这里我们也用两个指针。不过我们使用small和big表示序列的最小值和最大值，首先初始化small=1，big=2.如果从small到big的序列和大于目标值，则可以从序列中去掉较小的值，也就是增大small的值；如果序列和小于s，则可以增大big，让这个序列包含更多的数字。因为要求序列至少要有两个数字，我们一直增加small到$(1+s)/2$为止（这是因为两个数加起来为目标值的话，那么这两个数最大也只能到目标值的一半，不可能超过）；如果找到了符合题目要求的序列，打印出来，然后增大big，然后继续前面的操作。"
   ]
  },
  {
   "cell_type": "code",
   "execution_count": 3,
   "metadata": {},
   "outputs": [],
   "source": [
    "class Solution:\n",
    "    def FindContinueSequence(self,s):\n",
    "        if s<3:\n",
    "            return\n",
    "        small = 1\n",
    "        big = 2\n",
    "        mid = (1+s)//2\n",
    "        curSum = small+big\n",
    "        res = []\n",
    "        while small<mid:\n",
    "            if curSum==s:\n",
    "                res.append([i for i in range(small,big+1)])\n",
    "            while curSum>s and small<mid:\n",
    "                curSum-=small\n",
    "                small+=1\n",
    "                if curSum==s:\n",
    "                    res.append([i for i in range(small,big+1)])\n",
    "            big+=1\n",
    "            curSum+=big\n",
    "            \n",
    "        return res"
   ]
  },
  {
   "cell_type": "code",
   "execution_count": 5,
   "metadata": {},
   "outputs": [
    {
     "data": {
      "text/plain": [
       "[[1, 2, 3, 4, 5], [4, 5, 6], [7, 8]]"
      ]
     },
     "execution_count": 5,
     "metadata": {},
     "output_type": "execute_result"
    }
   ],
   "source": [
    "Solution().FindContinueSequence(15)"
   ]
  },
  {
   "cell_type": "code",
   "execution_count": 6,
   "metadata": {},
   "outputs": [
    {
     "data": {
      "text/plain": [
       "[]"
      ]
     },
     "execution_count": 6,
     "metadata": {},
     "output_type": "execute_result"
    }
   ],
   "source": [
    "Solution().FindContinueSequence(4)"
   ]
  },
  {
   "cell_type": "code",
   "execution_count": 7,
   "metadata": {},
   "outputs": [
    {
     "data": {
      "text/plain": [
       "[[1, 2]]"
      ]
     },
     "execution_count": 7,
     "metadata": {},
     "output_type": "execute_result"
    }
   ],
   "source": [
    "Solution().FindContinueSequence(3)"
   ]
  },
  {
   "cell_type": "code",
   "execution_count": null,
   "metadata": {},
   "outputs": [],
   "source": []
  }
 ],
 "metadata": {
  "kernelspec": {
   "display_name": "Python 3",
   "language": "python",
   "name": "python3"
  },
  "language_info": {
   "codemirror_mode": {
    "name": "ipython",
    "version": 3
   },
   "file_extension": ".py",
   "mimetype": "text/x-python",
   "name": "python",
   "nbconvert_exporter": "python",
   "pygments_lexer": "ipython3",
   "version": "3.6.5"
  }
 },
 "nbformat": 4,
 "nbformat_minor": 2
}
