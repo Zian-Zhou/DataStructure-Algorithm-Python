{
 "cells": [
  {
   "cell_type": "markdown",
   "metadata": {},
   "source": [
    "# 题目：\n",
    "地上有一个m行和n列的方格。一个机器人从坐标0,0的格子开始移动，每一次只能向左，右，上，下四个方向移动一格，但是不能进入行坐标和列坐标的数位之和大于k的格子。 例如，当k为18时，机器人能够进入方格（35,37），因为3+5+3+7 = 18。但是，它不能进入方格（35,38），因为3+5+3+8 = 19。请问该机器人能够达到多少个格子？"
   ]
  },
  {
   "cell_type": "code",
   "execution_count": 9,
   "metadata": {},
   "outputs": [],
   "source": [
    "def getDigitNum(num):\n",
    "    sum = 0\n",
    "    while(num>0):\n",
    "        sum += num%10\n",
    "        num = num//10\n",
    "    return sum\n",
    "\n",
    "def movingCount(threshold, rows, cols):\n",
    "    if threshold<0 or rows<1 or cols<1:\n",
    "        return 0\n",
    "    visited = [False]*(rows*cols)\n",
    "    count = movingCountCore(threshold, rows, cols, 0, 0, visited)\n",
    "    \n",
    "    return count\n",
    "    \n",
    "def movingCountCore(threshold, rows, cols, row, col, visited):\n",
    "    value = 0\n",
    "    if check(threshold, rows, cols, row, col, visited):\n",
    "        matrixIndex = row*cols+col\n",
    "        visited[matrixIndex]=True\n",
    "        value = 1 + movingCountCore(threshold, rows, cols, row+1, col, visited) +\\\n",
    "                    movingCountCore(threshold, rows, cols, row-1, col, visited) +\\\n",
    "                    movingCountCore(threshold, rows, cols, row, col+1, visited) +\\\n",
    "                    movingCountCore(threshold, rows, cols, row, col-1, visited)\n",
    "    return value\n",
    "    \n",
    "def check(threshold, rows, cols, row, col, visited):\n",
    "    if row>=0 and row<rows and col>=0 and col<cols and (getDigitNum(row)+getDigitNum(col))<=threshold and not visited[row*cols+col]:\n",
    "        return True\n",
    "    return False"
   ]
  },
  {
   "cell_type": "code",
   "execution_count": 33,
   "metadata": {},
   "outputs": [
    {
     "data": {
      "text/plain": [
       "2916"
      ]
     },
     "execution_count": 33,
     "metadata": {},
     "output_type": "execute_result"
    }
   ],
   "source": [
    "movingCount(50,54,54)#54是极限了。。。"
   ]
  },
  {
   "cell_type": "code",
   "execution_count": 34,
   "metadata": {},
   "outputs": [],
   "source": [
    "#https://www.cnblogs.com/yanmk/p/9193711.html\n",
    "\n",
    "class Solution:\n",
    "    def movingCount(self, threshold, rows, cols):\n",
    "        # write code here\n",
    "        if threshold<0 or rows<1 or cols<1:\n",
    "            return 0\n",
    "        markmatrix=[False]*(rows*cols)\n",
    "        count=self.movingCountCore(threshold,rows,cols,0,0,markmatrix)\n",
    "        return count\n",
    "    \n",
    "    def movingCountCore(self,threshold,rows,cols,row,col,markmatrix):\n",
    "        value=0\n",
    "        if self.check(threshold,rows,cols,row,col,markmatrix):\n",
    "            markmatrix[row*cols+col]=True\n",
    "            value = 1+ self.movingCountCore(threshold, rows, cols, row-1, col, markmatrix)+ \\\n",
    "                self.movingCountCore(threshold, rows, cols, row+1, col, markmatrix) + \\\n",
    "                self.movingCountCore(threshold, rows, cols, row, col-1, markmatrix) + \\\n",
    "                self.movingCountCore(threshold, rows, cols, row, col+1, markmatrix)\n",
    "        return value\n",
    "        \n",
    "    \n",
    "    def check(self,threshold,rows,cols,row,col,markmatrix):\n",
    "        if row >= 0 and row < rows and col >= 0 and col < cols and \\\n",
    "            self.getDigitNum(row)+self.getDigitNum(col)<=threshold and not markmatrix[row*cols+col]:\n",
    "            return True\n",
    "        return False\n",
    "    \n",
    "    def getDigitNum(self,number):\n",
    "        sum=0\n",
    "        while(number>0):\n",
    "            sum+=number%10\n",
    "            number=number//10\n",
    "        return sum"
   ]
  },
  {
   "cell_type": "code",
   "execution_count": 23,
   "metadata": {},
   "outputs": [
    {
     "data": {
      "text/plain": [
       "2500"
      ]
     },
     "execution_count": 23,
     "metadata": {},
     "output_type": "execute_result"
    }
   ],
   "source": [
    "Solution().movingCount(50,50,50)"
   ]
  },
  {
   "cell_type": "code",
   "execution_count": null,
   "metadata": {},
   "outputs": [],
   "source": []
  }
 ],
 "metadata": {
  "kernelspec": {
   "display_name": "Python 3",
   "language": "python",
   "name": "python3"
  },
  "language_info": {
   "codemirror_mode": {
    "name": "ipython",
    "version": 3
   },
   "file_extension": ".py",
   "mimetype": "text/x-python",
   "name": "python",
   "nbconvert_exporter": "python",
   "pygments_lexer": "ipython3",
   "version": "3.6.5"
  }
 },
 "nbformat": 4,
 "nbformat_minor": 2
}
