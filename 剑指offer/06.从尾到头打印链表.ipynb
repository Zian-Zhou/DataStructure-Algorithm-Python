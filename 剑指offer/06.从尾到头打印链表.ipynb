{
 "cells": [
  {
   "cell_type": "markdown",
   "metadata": {},
   "source": [
    "# 题目：\n",
    "输入一个链表的头结点，从尾到头反过来打印出每个节点的值。\n",
    "\n",
    "## 思路：后进先出——栈\n",
    "python中栈和队列的实现：http://www.cnblogs.com/yupeng/p/3413852.html  \n",
    "都是由List完成的，其中栈有两个接口：append(v)，pop(),栈顶为List的最后一个元素"
   ]
  },
  {
   "cell_type": "code",
   "execution_count": 10,
   "metadata": {},
   "outputs": [],
   "source": [
    "#链表创建\n",
    "class ListNode:\n",
    "    def __init__(self,x):\n",
    "        self.val = x\n",
    "        self.next = None\n",
    "        \n",
    "class Solution:\n",
    "    def __init__(self):\n",
    "        pass\n",
    "    def printListFromTailToHead(self, listNode):\n",
    "        if not listNode:\n",
    "            return []\n",
    "        res = []\n",
    "        while(listNode.next is not None):\n",
    "            res.append(listNode.val)\n",
    "            listNode = listNode.next\n",
    "        res.append(listNode.next)\n",
    "        return res[::-1]\n",
    "    \n",
    "    def printListFromTailToHead_python(self,list_):\n",
    "        for _ in range(len(list_)):\n",
    "            print(list_.pop())"
   ]
  },
  {
   "cell_type": "code",
   "execution_count": 8,
   "metadata": {},
   "outputs": [
    {
     "name": "stdout",
     "output_type": "stream",
     "text": [
      "4\n",
      "3\n"
     ]
    }
   ],
   "source": [
    "#python stack\n",
    "x = [1,2,3,4]\n",
    "print(x.pop())\n",
    "print(x.pop())"
   ]
  },
  {
   "cell_type": "code",
   "execution_count": 12,
   "metadata": {},
   "outputs": [
    {
     "name": "stdout",
     "output_type": "stream",
     "text": [
      "7\n",
      "6\n",
      "5\n",
      "4\n",
      "3\n",
      "2\n",
      "1\n"
     ]
    }
   ],
   "source": [
    "Solution().printListFromTailToHead_python([1,2,3,4,5,6,7])"
   ]
  },
  {
   "cell_type": "code",
   "execution_count": null,
   "metadata": {},
   "outputs": [],
   "source": []
  }
 ],
 "metadata": {
  "kernelspec": {
   "display_name": "Python 3",
   "language": "python",
   "name": "python3"
  },
  "language_info": {
   "codemirror_mode": {
    "name": "ipython",
    "version": 3
   },
   "file_extension": ".py",
   "mimetype": "text/x-python",
   "name": "python",
   "nbconvert_exporter": "python",
   "pygments_lexer": "ipython3",
   "version": "3.6.5"
  }
 },
 "nbformat": 4,
 "nbformat_minor": 2
}
