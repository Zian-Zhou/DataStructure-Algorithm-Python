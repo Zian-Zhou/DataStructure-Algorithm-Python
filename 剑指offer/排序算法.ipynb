{
 "cells": [
  {
   "cell_type": "markdown",
   "metadata": {},
   "source": [
    "# 各种排序算法比较"
   ]
  },
  {
   "cell_type": "markdown",
   "metadata": {},
   "source": [
    "## 1. 快速排序 QuickSort\n",
    "随机快速排序,属于交换排序。\n",
    "\n",
    "### 算法思路：递归实现\n",
    "#### partition函数：\n",
    "关键在于现在数组中选择一个数字，接下来把数组中数字分为两部分，比选择的数字小的数字移到数组的左边，比选择的数字大的数字移到数组的右边。\n",
    "接下来递归实现，每次对选中数字的左右两边排序，直到数组长度为1.这一部分可以用$Partition$函数实现，注意这个函数的功能：给定好一个分界点之后，它可以将数组中比这个数小的都移动到其左侧，比这个数大的都移动到其右侧，最后分割好这个数组，但会对数组本身修改。这个函数在之后的其他算法里面都可以借鉴，非常重要。  \n",
    "网上关于$Partition$函数有两个版本，一个是单向扫描版本，另一个是双向扫描版本。https://www.cnblogs.com/sdlwlxf/p/5131793.html 这篇博客里说双向扫描算法存在越界的可能，因此在实现过程中还要多加注意越界条件判断，认为单向扫描更优。这里我们采用单向扫描方法的版本（借鉴冒泡排序思想）。  \n",
    "注意返回值是分界点的位置。（这里我们采用随机快排）\n",
    "#### QuickSort函数：\n",
    "利用上面写好的函数就可以递归实现。每次选好一个分界点，就修改数组使得分界点两边的数字，一边大一边小。然后分别对两边再做递归深入，递归到需要分界的数组只有一个元素的时候即可。\n",
    "\n",
    "### 算法复杂度：\n",
    "·平均性能 $O(nlogn)$  \n",
    "·最差情况 $O(n^2) $\n",
    "·最好情况 $O(nlogn)$\n",
    "·不稳定\n",
    "·空间复杂度$O(logn)$\n"
   ]
  },
  {
   "cell_type": "markdown",
   "metadata": {},
   "source": [
    "=======================================================================\n",
    "## 2.归并排序 MergeSort\n",
    "\n",
    "### 算法思路：分治策略\n",
    "https://www.cnblogs.com/chengxiao/p/6194356.html\n",
    "将问题分解为一些小问题然后递归求解。归并排序，采用二路归并，先将序列一分为二，然后子序列递归排序，一直到不可分，然后再依次合并有序序列。  \n",
    "这个算法的关键在于怎么合并，也就是$merge$函数怎么实现。注意到两个序列已经是有序的了，因此我们可以设置两个指针，分别指向两个序列的起始位置，并且利用一个辅助数组，来复制所有的数值。然后我们比较两个指针指向的数值，取更小的那个数值复制到辅助数组对应的位置上，以此反复，最后我们就会复制完所有的数值，也就完成了排序了。（算法思路是如此，实现可以不需要两个序列长度之和的辅助数组，只需要大小和第一个序列长度相同的辅助数组，并且我们可以在待排序的数组上完成复制操作，具体实现看代码实现部分）\n",
    "\n",
    "### 算法复杂度：\n",
    "·平均性能$O(nlogn)$\n",
    "·最差情况$O(nlogn)$\n",
    "·最好情况$O(nlogn)$\n",
    "·稳定\n",
    "·空间复杂度$O(n)$"
   ]
  },
  {
   "cell_type": "markdown",
   "metadata": {},
   "source": [
    "=======================================================================\n",
    "##  3.冒泡排序 BubbleSort\n",
    "属于交换排序的算法。\n",
    "\n",
    "### 算法思路:\n",
    "1、将待排序的序列分成有序段和无序段，初始时有序段为空，无序区包括序列所有元素。   \n",
    "2、对无序区，从前向后遍历，一次将相邻记录进行比较，如果反序则交换，这样数值大的元素就会向后移，数值小的元素就会向前移，就像水中的气泡一样，体积大的先浮上来。  \n",
    "3、重复执行第二步，直到无序段变空。"
   ]
  },
  {
   "cell_type": "code",
   "execution_count": 12,
   "metadata": {},
   "outputs": [],
   "source": [
    "import random\n",
    "class SortAl:\n",
    "    #============================1.快速排序=======================\n",
    "    def QuickSort(self,data):\n",
    "        assert (data is not None), 'Invalid Input'\n",
    "        if len(data)==0:\n",
    "            return\n",
    "        self._quicksort(data,0,len(data)-1)\n",
    "        \n",
    "    def _quicksort(self,data,start,end):\n",
    "        #递归结束\n",
    "        if start==end:\n",
    "            return\n",
    "        index = self.partition(data,start,end)\n",
    "        if index>start:\n",
    "            self._quicksort(data,start,index-1)\n",
    "        if index<end:\n",
    "            self._quicksort(data,index+1,end)\n",
    "        \n",
    "    def partition(self,data,start,end):\n",
    "        if data is None or len(data)==0 or start<0 or end>=len(data):\n",
    "            return None\n",
    "        #随机快排：随机选择数组中start到end的任意元素\n",
    "        index = random.randint(start,end)\n",
    "        self.swap(data,index,end)#把选中的数值和最后一个元素交换，接下来遍历前面的元素，把小的元素冒泡放在前面即可（借助冒泡思想）\n",
    "        small = start-1#指针，算法保证在这个指针之前的元素数值都小于分界的元素数值（不变性）\n",
    "        \n",
    "        for index in range(start,end):#遍历整个序列（算法单调性）\n",
    "            if data[index]<data[end]:\n",
    "                small+=1\n",
    "                if small!=index:#相等就没必要交换了\n",
    "                    self.swap(data,index,small)\n",
    "        small+=1\n",
    "        self.swap(data,small,end)\n",
    "        return small#返回分界点        \n",
    "                \n",
    "    def swap(self,data,i,j):\n",
    "        #temp = data[i]\n",
    "        #data[i]=data[j]\n",
    "        #data[j]=temp\n",
    "        data[i],data[j]=data[j],data[i]\n",
    "        \n",
    "    #============================2.归并排序=======================\n",
    "    def MergeSort(self,data):\n",
    "        assert (data is not None), 'Invalid Input'\n",
    "        if len(data)==0:\n",
    "            return\n",
    "        self._mergeSort(data,0,len(data))\n",
    "    \n",
    "    def _mergeSort(self,data,left,right):\n",
    "        '''\n",
    "        left:待排序序列起始位置\n",
    "        right：待排序序列最末位置+1（哨兵位置）\n",
    "        比如说，起始位置在index=0，若序列长为1，那么right在index=1；序列长为2，那么right在index=2\n",
    "        '''\n",
    "        if right-left<2:#递归结束，此时序列长度为1\n",
    "            return\n",
    "        mid = (left+right)//2\n",
    "        self._mergeSort(data,left,mid)#前半段递归排序\n",
    "        self._mergeSort(data,mid,right)#后半段递归排序\n",
    "        self.merge(data,left,mid,right)#两个有序序列合并——归并\n",
    "        \n",
    "    def merge(self,data,left,mid,right):\n",
    "        '''\n",
    "        归并两个有序序列：A=B+C\n",
    "        A：这里指的是data序列\n",
    "        B：这里指的是第一段有序序列\n",
    "        C：这里指的是第二段有序序列\n",
    "        '''\n",
    "        B = data[left:mid].copy()#需要一个辅助数组（注意这里我们不需要那么长的数组，只需要和第一段序列一样长的序列）\n",
    "        #C = data[mid:right]#分析的时候我们把后面一段序列当做C序列，但实际上不需要创建一个新数组来存储这段序列\n",
    "        i=0#指针i指向合并后的数组的第一位\n",
    "        j=0#指针j指向辅助数组B的第一位\n",
    "        k=0#指针k指向C数组（第二段有序序列）\n",
    "        lb = mid-left#B序列的长度\n",
    "        lc = right-mid#C序列的长度\n",
    "        while j<lb:#当j遍历到超过B数组的长度，说明B序列复制完毕\n",
    "            #如果k还没遍历完C序列，并且C序列对应位置的元素比B元素更小，那么将小的元素复制到A序列对应位置上\n",
    "            if k<lc and data[mid+k]<B[j]:\n",
    "                data[left+i]=data[mid+k]\n",
    "                i+=1\n",
    "                k+=1\n",
    "            #如果k遍历C序列超过序列长度了，说明C序列已经复制完毕，接下来把B序列依次复制即可\n",
    "            #或者C序列还没复制完，如果B序列当前元素比C序列当前元素小，就把小的元素复制到A序列对应位置上\n",
    "            if lc<=k or B[j]<=data[mid+k]:\n",
    "                data[left+i]=B[j]\n",
    "                i+=1\n",
    "                j+=1\n",
    "            #上面两个if不能调换顺序，因为如果调换，第二个if中的j+=1会导致第一个if判断时出现越界情况，这样要多加一个越界判断\n",
    "        del B\n",
    "    #============================3.冒泡排序=======================    \n",
    "    def BubbleSort(self, data):\n",
    "        assert (data is not None), 'Invalid Input'\n",
    "        if len(data)<=1:\n",
    "            return\n",
    "        exchange=len(data)-1#算法中交换的最后一个位置，之后的元素没发生交换说明已经有序了\n",
    "        while exchange>0:\n",
    "            bound = exchange#bound为无序段与有序段分界点\n",
    "            #bound之后的序列有序，以bound位置结尾的序列还没排序\n",
    "            exchange = 0\n",
    "            for j in range(bound):\n",
    "                if data[j]>data[j+1]:\n",
    "                    data[j],data[j+1]=data[j+1],data[j]\n",
    "                    exchange=j"
   ]
  },
  {
   "cell_type": "code",
   "execution_count": 13,
   "metadata": {},
   "outputs": [
    {
     "name": "stdout",
     "output_type": "stream",
     "text": [
      "[1, 2, 4, 5]\n"
     ]
    }
   ],
   "source": [
    "input_list=[1,4,2,5]\n",
    "SortAl().BubbleSort(input_list)\n",
    "print(input_list)"
   ]
  },
  {
   "cell_type": "code",
   "execution_count": 14,
   "metadata": {},
   "outputs": [
    {
     "name": "stdout",
     "output_type": "stream",
     "text": [
      "[0, 1, 2, 2, 2, 4, 5, 6, 6, 8, 10, 11]\n"
     ]
    }
   ],
   "source": [
    "input_list=[1,4,5,2,6,8,2,6,10,11,0,2]\n",
    "SortAl().BubbleSort(input_list)\n",
    "print(input_list)"
   ]
  },
  {
   "cell_type": "code",
   "execution_count": null,
   "metadata": {},
   "outputs": [],
   "source": []
  }
 ],
 "metadata": {
  "kernelspec": {
   "display_name": "Python 3",
   "language": "python",
   "name": "python3"
  },
  "language_info": {
   "codemirror_mode": {
    "name": "ipython",
    "version": 3
   },
   "file_extension": ".py",
   "mimetype": "text/x-python",
   "name": "python",
   "nbconvert_exporter": "python",
   "pygments_lexer": "ipython3",
   "version": "3.6.5"
  }
 },
 "nbformat": 4,
 "nbformat_minor": 2
}
