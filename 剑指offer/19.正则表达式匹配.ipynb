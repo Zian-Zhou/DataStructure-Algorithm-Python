{
 "cells": [
  {
   "cell_type": "markdown",
   "metadata": {},
   "source": [
    "# 题目：正则表达式匹配\n",
    "实现一个函数，用来匹配包含$'.'$和$'*'$的正则表达式。模式中的字符$'.'$表示任意一个字符，而$'*'$表示它前面的字符可以出现任意次（含0次）。  \n",
    "在本题中，匹配是指字符串的所有字符匹配整个模式。例如，字符串$\"aaa\"$与模式$'a.a'$和$'ab*ac*a'$匹配，但与$'aa.a'$和$'ab*a'$均不匹配。"
   ]
  },
  {
   "cell_type": "code",
   "execution_count": 36,
   "metadata": {},
   "outputs": [],
   "source": [
    "class Solution:\n",
    "    def match(self,s='',pattern=''):\n",
    "        '''\n",
    "        递归算法，要先考虑递归基\n",
    "        '''\n",
    "        if len(s)==0 and len(pattern)==0:\n",
    "            return True\n",
    "        if len(s)>0 and  len(pattern)==0:\n",
    "            return False\n",
    "        \n",
    "        if len(pattern)>1 and pattern[1]=='*':#如果pattern的第二词是'*'\n",
    "            if len(s)>0 and (s[0]==pattern[0] or pattern[0]=='.'):#'x*','.*'\n",
    "                #并且字符串第一位和patter第一位相同 或者 pattern第一位是'.'（对应任意字符）\n",
    "                #则要考虑三种可能匹配方式：\n",
    "                            #1.pattern[0,1]可以看做匹配0次，继续匹配模式后两位\n",
    "                            #2.'x*'只匹配一次就匹配完毕，继续匹配后一位以及模式的后两位\n",
    "                            #3.'x*'可能要匹配多次，所以先匹配一次，继续匹配后一位\n",
    "                return self.match(s, pattern[2:]) or self.match(s[1:],pattern[2:]) or self.match(s[1:],pattern)\n",
    "            else:\n",
    "                #否则，patter[0,1]一定是'x*',而字符串的第一位不是'x',此时看做匹配0次，继续匹配模式后两位\n",
    "                return self.match(s,pattern[2:])\n",
    "        \n",
    "        #如果进行到这，说明patter第二个词不是'*'，没有匹配任意次的可能，必须匹配一次\n",
    "        if len(s)>0 and (s[0]==pattern[0] or pattern[0]=='.'):\n",
    "            return self.match(s[1:],pattern[1:])\n",
    "        else:\n",
    "            return False"
   ]
  },
  {
   "cell_type": "code",
   "execution_count": 38,
   "metadata": {},
   "outputs": [],
   "source": [
    "re = Solution()"
   ]
  },
  {
   "cell_type": "code",
   "execution_count": 39,
   "metadata": {},
   "outputs": [
    {
     "data": {
      "text/plain": [
       "True"
      ]
     },
     "execution_count": 39,
     "metadata": {},
     "output_type": "execute_result"
    }
   ],
   "source": [
    "test1 = re.match(s='aaa',pattern='a.a')\n",
    "test1"
   ]
  },
  {
   "cell_type": "code",
   "execution_count": 42,
   "metadata": {},
   "outputs": [
    {
     "data": {
      "text/plain": [
       "False"
      ]
     },
     "execution_count": 42,
     "metadata": {},
     "output_type": "execute_result"
    }
   ],
   "source": [
    "test2 = re.match(s='aaa',pattern='aa.a')\n",
    "test2"
   ]
  },
  {
   "cell_type": "code",
   "execution_count": null,
   "metadata": {},
   "outputs": [],
   "source": []
  }
 ],
 "metadata": {
  "kernelspec": {
   "display_name": "Python 3",
   "language": "python",
   "name": "python3"
  },
  "language_info": {
   "codemirror_mode": {
    "name": "ipython",
    "version": 3
   },
   "file_extension": ".py",
   "mimetype": "text/x-python",
   "name": "python",
   "nbconvert_exporter": "python",
   "pygments_lexer": "ipython3",
   "version": "3.6.5"
  }
 },
 "nbformat": 4,
 "nbformat_minor": 2
}
