{
 "cells": [
  {
   "cell_type": "markdown",
   "metadata": {},
   "source": [
    "# 题目一：找出数组中重复的数字"
   ]
  },
  {
   "cell_type": "markdown",
   "metadata": {},
   "source": [
    "在一个长度为n的数组里的所有数字都在0到n-1范围内。数组中某些数字是重复的，但不知道有几个数字重复了，也不知道每个数字重复了几次。请找出数组中任意一个重复的数字。例如，如果输入长度为7的数组{2,3,1,0,2,5,3}，那么输出的应该是2,或者3"
   ]
  },
  {
   "cell_type": "markdown",
   "metadata": {},
   "source": [
    "## 解法一：哈希表\n",
    "\n",
    "时间复杂度$O(n)$,空间复杂度$O(n)$"
   ]
  },
  {
   "cell_type": "code",
   "execution_count": 9,
   "metadata": {},
   "outputs": [],
   "source": [
    "class Solution:\n",
    "    #找到任意重复的数字存到duplication中\n",
    "    def duplicate(self, num, duplication):\n",
    "        if num==None or len(num)<1:\n",
    "            return False\n",
    "        \n",
    "        userDict = set()\n",
    "        for i in range(len(num)):\n",
    "            if num[i]<0 or num[i]>len(num)-1:\n",
    "                return Fasle\n",
    "            if num[i] not in userDict:\n",
    "                userDict.add(num[i])\n",
    "            else:\n",
    "                duplication[0]=num[i]\n",
    "                return True\n",
    "        return False"
   ]
  },
  {
   "cell_type": "markdown",
   "metadata": {},
   "source": [
    "## 解法二： 排序后遍历\n",
    "时间复杂度$O(nlogn)$"
   ]
  },
  {
   "cell_type": "code",
   "execution_count": 4,
   "metadata": {},
   "outputs": [],
   "source": [
    "class Solution:\n",
    "    def duplicate(self, num, duplication):\n",
    "        if num==None or len(num)<=1:\n",
    "            return False\n",
    "        for i in range(len(num)):\n",
    "            if num[i]<0 or num[i]>len(num)-1:\n",
    "                return False\n",
    "        \n",
    "        num.sort()#O(nlogn)\n",
    "        for i in range(len(num)-1):\n",
    "            if num[i]==nums[i+1]:\n",
    "                duplication[0] = num[i]\n",
    "                return True\n",
    "            \n",
    "        return False\n",
    "        "
   ]
  },
  {
   "cell_type": "markdown",
   "metadata": {},
   "source": [
    "### 解法三：重排数组\n",
    "从头到尾扫描数组的每个数字，当扫描到下标为i的数字时，首先比较这个数字（假设为m）是否等于i,如果是，接着扫描下一个数字；如果不是，那么再将它和下标为m的数字对比，如果两者不相等，就把它和第m个数字交换，把m放到属于它的位置，如果两者相等，那么就找到了一个重复的数字。重复这个过程，知道发现一个重复的数字。\n",
    "\n",
    "时间复杂度：$O(n)$； 空间复杂度：$O(1)$\n",
    "\n",
    "所有操作都在数组上进行，因此不需要额外分配空间；同时，每个数字最多只需要交换两次就可以找到它自己的位置，因此总时间复杂度为线性时间。\n"
   ]
  },
  {
   "cell_type": "code",
   "execution_count": 5,
   "metadata": {},
   "outputs": [],
   "source": [
    "class Solution(object):\n",
    "    \n",
    "    def duplicate(self, num, duplication):\n",
    "        if num==None or num<=1:\n",
    "            return False\n",
    "        for i in range(len(num)):\n",
    "            if num[i]<0 or num[i]>len(num)-1:\n",
    "                return False\n",
    "            while(nums[i]!=i):\n",
    "                if num[i]==num[num[i]]:\n",
    "                    duplication[0]=num[i]\n",
    "                    return True\n",
    "                else:\n",
    "                    temp = num[i]\n",
    "                    num[i] = num[temp]\n",
    "                    num[temp] = temp\n",
    "        return False\n",
    "            "
   ]
  },
  {
   "cell_type": "markdown",
   "metadata": {},
   "source": [
    "# 题目二：不修改数组找出重复的数字\n",
    "相当于题目一限制了不能使用修改数组的解法\n",
    "\n",
    "解法一：同题目一中的哈希表；\n",
    "\n",
    "解法二：二分查找的变形，如下，时间复杂度为$O(nlogn)$，空间复杂度为$O(1)$\n",
    "\n",
    "注意到数组中数字的范围：如果数组中有重复的数字，那么在1到n的范围内一定包含了超过n个数字"
   ]
  },
  {
   "cell_type": "code",
   "execution_count": 13,
   "metadata": {},
   "outputs": [
    {
     "name": "stdout",
     "output_type": "stream",
     "text": [
      "6\n"
     ]
    }
   ],
   "source": [
    "class Solution:\n",
    "    def duplicate(self, num):\n",
    "        if not num or len(num)<=0:\n",
    "            return -1\n",
    "        start = 1\n",
    "        end = len(num)-1\n",
    "        \n",
    "        while start<=end:\n",
    "            mid = (end-start) // 2 +start\n",
    "            count = self.countRange(num, len(num), start, mid)\n",
    "            if end == start:\n",
    "                if count>1:\n",
    "                    return start\n",
    "                else:\n",
    "                    break\n",
    "            if count>mid-start+1:\n",
    "                end = mid\n",
    "            else:\n",
    "                start = mid+1\n",
    "        return -1\n",
    "    \n",
    "    def countRange(self, num, length, start, end):\n",
    "        '''\n",
    "        计算数组中大于等于start，小于等于end的元素的个数\n",
    "        '''\n",
    "        if not num:\n",
    "            return 0\n",
    "        count = 0\n",
    "        for i in range(length):\n",
    "            if num[i]>=start and num[i]<=end:\n",
    "                count+=1\n",
    "        return count\n",
    "    \n",
    "print(Solution().duplicate([2,3,4,3,5,6,6]))"
   ]
  },
  {
   "cell_type": "markdown",
   "metadata": {},
   "source": [
    "该解法不能保证找出所有重复的数字。\n",
    "\n",
    "## 小结\n",
    "不同的功能要求：找出任意一个、找出所有重复的数字；\n",
    "不同的性能要求：时间效率优先、空间效率优先\n",
    "\n",
    "面试前一定要弄清楚面试官的需求"
   ]
  },
  {
   "cell_type": "code",
   "execution_count": null,
   "metadata": {},
   "outputs": [],
   "source": []
  }
 ],
 "metadata": {
  "kernelspec": {
   "display_name": "Python 3",
   "language": "python",
   "name": "python3"
  },
  "language_info": {
   "codemirror_mode": {
    "name": "ipython",
    "version": 3
   },
   "file_extension": ".py",
   "mimetype": "text/x-python",
   "name": "python",
   "nbconvert_exporter": "python",
   "pygments_lexer": "ipython3",
   "version": "3.6.5"
  }
 },
 "nbformat": 4,
 "nbformat_minor": 2
}
