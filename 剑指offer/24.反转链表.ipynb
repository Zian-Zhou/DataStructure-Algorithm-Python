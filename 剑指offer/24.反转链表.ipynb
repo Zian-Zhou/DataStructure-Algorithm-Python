{
 "cells": [
  {
   "cell_type": "markdown",
   "metadata": {},
   "source": [
    "# 题目：反转链表\n",
    "定义一个函数，输入链表的头结点，反转该链表并输出反转后链表的头结点。注意链表为单向链表。  \n",
    "Tips:注意代码的鲁棒性，考虑几类测试用例：链表头指针为空，链表只有一个节点，链表有多个节点。\n",
    "\n",
    "## 分析：\n",
    "我第一次碰到这一题的时候，刚好在写栈，因此很自然联想到栈。单向链表只能向前访问，而我们反转链表恰好就满足先进后出的顺序，因此用栈存储第一次访问的节点信息，最后再依次弹出即可。  \n",
    "但是对于这一题其实有更好的做法：  \n",
    "依次遍历链表，每个节点的后继指向前一个节点即可。\n",
    "\n",
    "注意反转时出现断裂现象，定义3个指针，分别指向当前遍历到的节点pNode、它的前一个节点pPrev及后一个节点pNext。"
   ]
  },
  {
   "cell_type": "code",
   "execution_count": 110,
   "metadata": {},
   "outputs": [],
   "source": [
    "#定义结点\n",
    "class ListNode:\n",
    "    def __init__(self,value=None):\n",
    "        self.value = value\n",
    "        self.next = None\n",
    "\n",
    "#定义单项链表\n",
    "#不考虑头结点尾节点两个哨兵\n",
    "class LinkList:\n",
    "    def __init__(self,data):\n",
    "        self.header=ListNode(None)\n",
    "        if data is None or len(data)==0:\n",
    "            return\n",
    "        thisNode = self.header\n",
    "        for i in range(len(data)):\n",
    "            newNode = ListNode(data[i])\n",
    "            thisNode.next = newNode\n",
    "            thisNode = newNode\n",
    "        self.tailer = thisNode#单向链表中是不能告诉尾节点的，这里只是为了写测试例子方便"
   ]
  },
  {
   "cell_type": "code",
   "execution_count": 111,
   "metadata": {},
   "outputs": [],
   "source": [
    "class Solution:\n",
    "    def ReverseList(self,header):   \n",
    "        pNode = header \n",
    "        reverserHeader = None\n",
    "        prevNode = None\n",
    "        if header is None:\n",
    "            print('Invalid Input. Return None.')\n",
    "            return None\n",
    "        if pNode.next is None:\n",
    "            print('This LinkList is empty. Return None.')\n",
    "            return None\n",
    "        \n",
    "        while pNode:\n",
    "            nextNode = pNode.next\n",
    "            if not nextNode:#说明当前结点是链表最后一个节点\n",
    "                reverserHeader = pNode\n",
    "            pNode.next = prevNode\n",
    "            prevNode = pNode\n",
    "            pNode = nextNode\n",
    "        newHeader = ListNode()\n",
    "        newHeader.next = prevNode\n",
    "        return newHeader"
   ]
  },
  {
   "cell_type": "markdown",
   "metadata": {},
   "source": [
    "## 测试："
   ]
  },
  {
   "cell_type": "code",
   "execution_count": 112,
   "metadata": {},
   "outputs": [
    {
     "data": {
      "text/plain": [
       "1"
      ]
     },
     "execution_count": 112,
     "metadata": {},
     "output_type": "execute_result"
    }
   ],
   "source": [
    "test = LinkList([1,2,3,4,5,6])\n",
    "test.header.next.value#首节点"
   ]
  },
  {
   "cell_type": "code",
   "execution_count": 113,
   "metadata": {},
   "outputs": [],
   "source": [
    "newHeader = Solution().ReverseList(test.header)"
   ]
  },
  {
   "cell_type": "code",
   "execution_count": 114,
   "metadata": {},
   "outputs": [],
   "source": [
    "newHeader.value"
   ]
  },
  {
   "cell_type": "code",
   "execution_count": 117,
   "metadata": {},
   "outputs": [
    {
     "name": "stdout",
     "output_type": "stream",
     "text": [
      "[6, 5, 4, 3, 2, 1]\n"
     ]
    }
   ],
   "source": [
    "thisNode = newHeader.next\n",
    "res = []\n",
    "while thisNode.next is not None:\n",
    "    res.append(thisNode.value)\n",
    "    thisNode = thisNode.next\n",
    "print(res)"
   ]
  },
  {
   "cell_type": "code",
   "execution_count": null,
   "metadata": {},
   "outputs": [],
   "source": []
  }
 ],
 "metadata": {
  "kernelspec": {
   "display_name": "Python 3",
   "language": "python",
   "name": "python3"
  },
  "language_info": {
   "codemirror_mode": {
    "name": "ipython",
    "version": 3
   },
   "file_extension": ".py",
   "mimetype": "text/x-python",
   "name": "python",
   "nbconvert_exporter": "python",
   "pygments_lexer": "ipython3",
   "version": "3.6.5"
  }
 },
 "nbformat": 4,
 "nbformat_minor": 2
}
