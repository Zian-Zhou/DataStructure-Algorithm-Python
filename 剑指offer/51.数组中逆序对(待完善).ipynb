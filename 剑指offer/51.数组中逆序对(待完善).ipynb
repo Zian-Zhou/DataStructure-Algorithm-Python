{
 "cells": [
  {
   "cell_type": "markdown",
   "metadata": {},
   "source": [
    "# 题目：数组中的逆序对\n",
    "在数组中的两个数字，如果前面一个数字大于后面的数字，则这两个数字组成一个逆序对。输入一个数组，求出这个数组中的逆序对的总数。  \n",
    "例如，在数组${7,5,6,4}$中，一共存在5个逆序对，分别为$(7,6)$、$(7,5)$、$(7,4)$、$(6,4)$、$(5,4)$.  \n",
    "\n",
    "## 思路：\n",
    "其实可以发现这和归并排序存在着本质上的联系。因为都是通过调整逆序对来实现。因此仿照归并排序来实现，只需要多加一个count变量记录逆序对数目，每次合并的时候，如果左边的序列的值比右边序列的值大，说明存在逆序对，并且逆序对的数量就是右边序列还未复制的元素数量。前面自己实现排序算法的时候，merge函数在合并序列的时候，是从小的元素开始复制，这里要从大的元素开始复制，算法是一样的。  \n",
    "\n",
    "相关连接：  \n",
    "https://www.cnblogs.com/yanmk/p/9232547.html  \n",
    "https://www.cnblogs.com/chengxiao/p/6194356.html"
   ]
  },
  {
   "cell_type": "code",
   "execution_count": 1,
   "metadata": {},
   "outputs": [],
   "source": [
    "class Solution:\n",
    "    count=0\n",
    "    def InversePairs(self,data):\n",
    "        assert data is not None, 'Invalid Input'\n",
    "        if len(data)<=1:\n",
    "            return 0\n",
    "        self.count=0#reset\n",
    "        self._inversePairs(data,0,len(data))\n",
    "        return self.count\n",
    "    \n",
    "    def _inversePairs(self,data,left,right):\n",
    "        if right-left<2:\n",
    "            return \n",
    "        mid = (left+right)//2\n",
    "        self._inversePairs(data,left,mid)\n",
    "        self._inversePairs(data,mid,right)\n",
    "        self.merge(data,left,mid,right)\n",
    "        \n",
    "    def merge(self,data,left,mid,right):\n",
    "        C = data[mid:right].copy()\n",
    "        lb = mid-left\n",
    "        lc = right-mid\n",
    "        i=0#从合并后的序列末尾开始\n",
    "        j=0#从左序列的末尾开始\n",
    "        k=0#从C序列的末尾开始\n",
    "        while k<lc:\n",
    "            if j<lb and C[lc-1-k]<data[mid-1-j]:\n",
    "                data[right-1-i]=data[mid-1-j]\n",
    "                self.count+=lc-k\n",
    "                i+=1\n",
    "                j+=1\n",
    "            if j>-lb or C[lc-1-k]>=data[mid-1-j]:\n",
    "                data[right-1-i]=C[lc-1-k]\n",
    "                i+=1\n",
    "                k+=1\n",
    "    \n",
    "        "
   ]
  },
  {
   "cell_type": "code",
   "execution_count": 2,
   "metadata": {},
   "outputs": [
    {
     "data": {
      "text/plain": [
       "5"
      ]
     },
     "execution_count": 2,
     "metadata": {},
     "output_type": "execute_result"
    }
   ],
   "source": [
    "Solution().InversePairs([7,5,6,4])"
   ]
  },
  {
   "cell_type": "markdown",
   "metadata": {},
   "source": [
    "#### 还有一些其他的方法："
   ]
  },
  {
   "cell_type": "code",
   "execution_count": 13,
   "metadata": {},
   "outputs": [],
   "source": [
    "class Solution2:\n",
    "    #比较巧妙，不过还没看懂。。。\n",
    "    def InversePairs(self, data):\n",
    "        if len(data) <= 0:\n",
    "            return 0\n",
    "        count = 0\n",
    "        copy = []\n",
    "        for i in range(len(data)):\n",
    "            copy.append(data[i])\n",
    "        copy.sort()\n",
    "        i = 0\n",
    "        while len(copy) > i:\n",
    "            count += data.index(copy[i])\n",
    "            data.remove(copy[i])\n",
    "            i += 1\n",
    "        return count%1000000007\n",
    "    \n",
    "    #暴力法\n",
    "    def InversePairs_2(self,data):\n",
    "        if len(data)<=0:\n",
    "            return 0\n",
    "        count = 0\n",
    "        length = len(data)\n",
    "        for i in range(length-1):\n",
    "            for j in range(i+1,length):\n",
    "                if data[i]>data[j]:\n",
    "                    count+=1\n",
    "                    \n",
    "        return count %1000000007"
   ]
  },
  {
   "cell_type": "code",
   "execution_count": 14,
   "metadata": {},
   "outputs": [
    {
     "data": {
      "text/plain": [
       "5"
      ]
     },
     "execution_count": 14,
     "metadata": {},
     "output_type": "execute_result"
    }
   ],
   "source": [
    "Solution2().InversePairs_2([7,5,6,4])"
   ]
  },
  {
   "cell_type": "code",
   "execution_count": 15,
   "metadata": {},
   "outputs": [
    {
     "data": {
      "text/plain": [
       "5"
      ]
     },
     "execution_count": 15,
     "metadata": {},
     "output_type": "execute_result"
    }
   ],
   "source": [
    "Solution2().InversePairs([7,5,6,4])"
   ]
  },
  {
   "cell_type": "code",
   "execution_count": null,
   "metadata": {},
   "outputs": [],
   "source": []
  }
 ],
 "metadata": {
  "kernelspec": {
   "display_name": "Python 3",
   "language": "python",
   "name": "python3"
  },
  "language_info": {
   "codemirror_mode": {
    "name": "ipython",
    "version": 3
   },
   "file_extension": ".py",
   "mimetype": "text/x-python",
   "name": "python",
   "nbconvert_exporter": "python",
   "pygments_lexer": "ipython3",
   "version": "3.6.5"
  }
 },
 "nbformat": 4,
 "nbformat_minor": 2
}
