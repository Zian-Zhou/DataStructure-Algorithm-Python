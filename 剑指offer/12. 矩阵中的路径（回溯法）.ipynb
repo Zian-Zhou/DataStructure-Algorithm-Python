{
 "cells": [
  {
   "cell_type": "markdown",
   "metadata": {},
   "source": [
    "# 题目\n",
    "请设计一个函数，用来判断在一个矩阵中是否存在一条包含某字符串所有字符的路径。路径可以从矩阵中的任意一个格子开始，每一步可以在矩阵中向左，向右，向上，向下移动一个格子。如果一条路径经过了矩阵中的某一个格子，则该路径不能再进入该格子。 \n",
    "例如   \n",
    "\n",
    "|        |        |        |        |\n",
    "| ------ | ------ | ------ | ------ |\n",
    "| a      | b      | t      | g      |\n",
    "| c      | f      | c      | s      |\n",
    "| j      | d      | e      | h      |\n",
    "\n",
    "矩阵中包含一条字符串\"bfced\"的路径，但是矩阵中不包含\"abfb\"路径，因为字符串的第一个字符b占据了矩阵中的第一行第二个格子之后，路径不能再次进入该格子。题目矩阵用数组表示，因此要指定行数列数。"
   ]
  },
  {
   "cell_type": "code",
   "execution_count": 22,
   "metadata": {},
   "outputs": [],
   "source": [
    "def hasPath(strMatrix, rows, cols, strPath):\n",
    "    if not strMatrix or rows<0 or cols<0 or strPath==None:\n",
    "        return False\n",
    "    \n",
    "    visited = [0]*(rows*cols)\n",
    "    pathIndex = 0#标记路径当前匹配的位置\n",
    "    for row in range(rows):\n",
    "        for col in range(cols):\n",
    "            if (hasPathCore(strMatrix,rows,cols,row,col,strPath,pathIndex,visited)):\n",
    "                return True\n",
    "    return False\n",
    "\n",
    "def hasPathCore(strMatrix, rows, cols, row, col, strPath, pathIndex, visited):\n",
    "    if pathIndex==len(strPath):#已经成功匹配了路径上所有字符\n",
    "        return True\n",
    "    hasPath = False\n",
    "    matrixIndex = row*cols+col\n",
    "    if row>=0 and row<rows and col>=0 and col<cols \\\n",
    "        and strMatrix[matrixIndex]==strPath[pathIndex]\\\n",
    "        and not visited[matrixIndex]:\n",
    "        pathIndex+=1\n",
    "        visited[matrixIndex]=True\n",
    "    \n",
    "        hasPath = hasPathCore(strMatrix, rows, cols, row-1,col,strPath, pathIndex, visited)\\\n",
    "               or hasPathCore(strMatrix, rows, cols, row+1,col,strPath, pathIndex, visited)\\\n",
    "               or hasPathCore(strMatrix, rows, cols, row,col-1,strPath, pathIndex, visited)\\\n",
    "               or hasPathCore(strMatrix, rows, cols, row,col+1,strPath, pathIndex, visited)\\\n",
    "    \n",
    "        if not hasPath:\n",
    "            pathIndex-=1\n",
    "            visited[matrixIndex]=False\n",
    "    \n",
    "    return hasPath"
   ]
  },
  {
   "cell_type": "code",
   "execution_count": 23,
   "metadata": {},
   "outputs": [
    {
     "data": {
      "text/plain": [
       "True"
      ]
     },
     "execution_count": 23,
     "metadata": {},
     "output_type": "execute_result"
    }
   ],
   "source": [
    "hasPath(['a','b','t','g','c','f','c','s','j','d','e','h'],3,4,['b','f','c','e','d'])"
   ]
  },
  {
   "cell_type": "code",
   "execution_count": 24,
   "metadata": {},
   "outputs": [
    {
     "data": {
      "text/plain": [
       "False"
      ]
     },
     "execution_count": 24,
     "metadata": {},
     "output_type": "execute_result"
    }
   ],
   "source": [
    "hasPath(['a','b','t','g','c','f','c','s','j','d','e','h'],3,4,['a','b','f','b'])"
   ]
  },
  {
   "cell_type": "code",
   "execution_count": null,
   "metadata": {},
   "outputs": [],
   "source": []
  },
  {
   "cell_type": "code",
   "execution_count": null,
   "metadata": {},
   "outputs": [],
   "source": []
  }
 ],
 "metadata": {
  "kernelspec": {
   "display_name": "Python 3",
   "language": "python",
   "name": "python3"
  },
  "language_info": {
   "codemirror_mode": {
    "name": "ipython",
    "version": 3
   },
   "file_extension": ".py",
   "mimetype": "text/x-python",
   "name": "python",
   "nbconvert_exporter": "python",
   "pygments_lexer": "ipython3",
   "version": "3.6.5"
  }
 },
 "nbformat": 4,
 "nbformat_minor": 2
}
