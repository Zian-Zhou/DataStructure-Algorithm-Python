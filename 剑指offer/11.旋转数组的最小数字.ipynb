{
 "cells": [
  {
   "cell_type": "markdown",
   "metadata": {},
   "source": [
    "# 题目：\n",
    "把一个数组最开始的若干个元素搬到数组的末尾，我们称之为数组的旋转。输入一个非递减排序的数组的一个旋转，输出旋转数组的最小元素。  \n",
    "例如数组{3,4,5,1,2}为{1,2,3,4,5}的一个旋转，该数组的最小值为1。  \n",
    "NOTE：给出的所有元素都大于0，若数组大小为0，请返回0\n",
    "\n",
    "## 思路：二分查找法\n",
    "利用旋转数组的特性：两段有序数组拼接而成（注意有序数组自身也是旋转数组）  \n",
    "只要找到最小元素的位置，就可以找到两个子数组的分界线了。  \n",
    "难点在于分情况讨论！！！！"
   ]
  },
  {
   "cell_type": "code",
   "execution_count": 10,
   "metadata": {},
   "outputs": [],
   "source": [
    "def minInOrder(data, index1, index2):\n",
    "    '''\n",
    "    应对两个指针的值和中间的值三个全相同的时候：\n",
    "    比如[1,0,1,1,1]或者[1,1,1,0,1]\n",
    "    只能执行顺序查找了\n",
    "    '''\n",
    "    result = data[index1]\n",
    "    for i in range(index1+1,index2+1):\n",
    "        if result>data[index1]:\n",
    "            result = data[i]\n",
    "    return result\n",
    "            \n",
    "def minNumberInRotateArray(data):\n",
    "    if not data:\n",
    "        return\n",
    "    if len(data)==0:\n",
    "        return 0\n",
    "    \n",
    "    index1 = 0\n",
    "    index2 = len(data)-1\n",
    "    indexMid = index1\n",
    "    while(data[index1]>=data[index2]):\n",
    "        if (index2-index1)==1:\n",
    "            #如果两个指针相邻还没停止循环，说明已经到了边界，\n",
    "            #并且左边的大于右边的，因此右边的指针就是要找的\n",
    "            #最小值的位置\n",
    "            indexMid = index2\n",
    "            break\n",
    "        indexMid = (index1+index2)//2\n",
    "        \n",
    "        if data[index1]==data[index2] and data[index1]==data[indexMid]:\n",
    "            #如果三者相等，那么只能顺序查找\n",
    "            return minInOrder(data, index1, index2)\n",
    "        \n",
    "        if data[indexMid]>=data[index1]:\n",
    "            index1 = indexMid\n",
    "        if data[indexMid]<=data[index2]:\n",
    "            index2 = indexMid\n",
    "            \n",
    "    return data[indexMid]\n",
    "        \n",
    "    "
   ]
  },
  {
   "cell_type": "code",
   "execution_count": 11,
   "metadata": {},
   "outputs": [
    {
     "data": {
      "text/plain": [
       "1"
      ]
     },
     "execution_count": 11,
     "metadata": {},
     "output_type": "execute_result"
    }
   ],
   "source": [
    "minNumberInRotateArray([3,4,5,1,2])"
   ]
  },
  {
   "cell_type": "code",
   "execution_count": 12,
   "metadata": {},
   "outputs": [
    {
     "data": {
      "text/plain": [
       "1"
      ]
     },
     "execution_count": 12,
     "metadata": {},
     "output_type": "execute_result"
    }
   ],
   "source": [
    "minNumberInRotateArray([1,0,1,1,1])"
   ]
  },
  {
   "cell_type": "code",
   "execution_count": null,
   "metadata": {},
   "outputs": [],
   "source": []
  }
 ],
 "metadata": {
  "kernelspec": {
   "display_name": "Python 3",
   "language": "python",
   "name": "python3"
  },
  "language_info": {
   "codemirror_mode": {
    "name": "ipython",
    "version": 3
   },
   "file_extension": ".py",
   "mimetype": "text/x-python",
   "name": "python",
   "nbconvert_exporter": "python",
   "pygments_lexer": "ipython3",
   "version": "3.6.5"
  }
 },
 "nbformat": 4,
 "nbformat_minor": 2
}
