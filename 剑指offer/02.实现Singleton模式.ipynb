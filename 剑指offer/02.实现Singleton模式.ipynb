{
 "cells": [
  {
   "cell_type": "markdown",
   "metadata": {},
   "source": [
    "# 题目：\n",
    "## 设计一个类，我们只能生成该类的一个实例\n",
    "### 闭包模式&元类模式\n",
    "\n",
    "参考：http://www.cnblogs.com/yssjun/p/9858420.html"
   ]
  },
  {
   "cell_type": "markdown",
   "metadata": {},
   "source": [
    "### 1. 闭包模式\n",
    "先理解python闭包概念：\n",
    "\n",
    "先看一个例子："
   ]
  },
  {
   "cell_type": "code",
   "execution_count": 7,
   "metadata": {},
   "outputs": [
    {
     "name": "stdout",
     "output_type": "stream",
     "text": [
      "clo_func_0 loc_list = [1]\n",
      "clo_func_0 loc_list = [1, 2]\n",
      "clo_func_0 loc_list = [1, 2, 3]\n",
      "clo_func_1 loc_list = [1]\n",
      "clo_func_0 loc_list = [1, 2, 3, 4]\n"
     ]
    }
   ],
   "source": [
    "#outer_func内嵌inner_function，注意到inner_func外部函数的返回值\n",
    "#inner_function也称为闭包函数，outer_function称为闭包函数引用的父函数\n",
    "#称loc_list为闭包函数的一个自由变量，这一local variable既不具有C++中的全局变量的性质也没有static变量的行为\n",
    "def outer_func():\n",
    "     loc_list = []\n",
    "     def inner_func(name):\n",
    "         loc_list.append(len(loc_list) + 1)\n",
    "         print ('%s loc_list = %s' %(name, loc_list))\n",
    "     return inner_func\n",
    "\n",
    "clo_func_0 = outer_func()\n",
    "clo_func_0('clo_func_0')\n",
    "clo_func_0('clo_func_0')\n",
    "clo_func_0('clo_func_0')\n",
    "\n",
    "clo_func_1 = outer_func()\n",
    "clo_func_1('clo_func_1')\n",
    "clo_func_0('clo_func_0')\n",
    "clo_func_1()"
   ]
  },
  {
   "cell_type": "markdown",
   "metadata": {},
   "source": [
    "在这个例子中我们至少可以对闭包中引用的自由变量有如下的认识：\n",
    "\n",
    "①闭包中的引用的自由变量只和具体的闭包有关联，闭包的每个实例引用的自由变量互不干扰。\n",
    "\n",
    "    -比如说clo_func_0和clo_func_1两个的闭包函数不同，所以闭包引用的自由变量互不干扰\n",
    "\n",
    "②一个闭包实例对其自由变量的修改会被传递到下一次该闭包实例的调用。\n",
    "\n",
    "值得注意的一条经验！\n",
    "\n",
    "    - 返回闭包中不要引用任何循环变量，或者后续会发生变化的变量。"
   ]
  },
  {
   "cell_type": "code",
   "execution_count": 12,
   "metadata": {},
   "outputs": [
    {
     "name": "stdout",
     "output_type": "stream",
     "text": [
      "<__main__.my_cls object at 0x0000020FF8D48EB8> <__main__.my_cls object at 0x0000020FF8D48EB8>\n"
     ]
    }
   ],
   "source": [
    "def singleton(cls, *args, **kwargs):\n",
    "    instances = {}\n",
    "    def get_instance(*args, **kwargs):\n",
    "        if cls not in instances:\n",
    "            instances[cls] = cls(*args, **kwargs)\n",
    "        return instances[cls]\n",
    "    return get_instance\n",
    "\n",
    "@singleton\n",
    "class my_cls(object):\n",
    "    pass\n",
    "\n",
    "t1 = my_cls()\n",
    "t2 = my_cls()\n",
    "\n",
    "print(t1,t2)\n",
    "#t1，t2是同个类，这就实现了单类模式"
   ]
  },
  {
   "cell_type": "markdown",
   "metadata": {},
   "source": [
    "### 2. 元类模式\n",
    "所谓单例模式，即我们需要控制类实例的生成过程，并且保证全局只可能存在一个唯一的实例。\n",
    "\n",
    "既然需要在创建类的对象过程中做些什么，应该很容易想到元类metaclass。"
   ]
  },
  {
   "cell_type": "code",
   "execution_count": 13,
   "metadata": {},
   "outputs": [],
   "source": [
    "class Singleton(type):\n",
    "    def __init__(cls, name, bases, dic):\n",
    "        super(Singleton, cls).__init__(names, bases, dic)\n",
    "        cls._instance = None\n",
    "    \n",
    "    def __call__(cls, *args, **kwargs):\n",
    "        if cls._instance is None:\n",
    "            cls._instance = super(Singleton, cls).__call__(*args, **kwargs)\n",
    "        return cls._instance\n",
    "    \n",
    "class my_cls(object):\n",
    "    __metaclass__ = Singleton"
   ]
  },
  {
   "cell_type": "markdown",
   "metadata": {},
   "source": [
    "这个例子中我们使用元类Singleton替代默认使用type方式创建类my_cls。可以将类my_cls看做是元类Singleton的一个对象，当我们使用my_cls(...)的方式创建类my_cls的对象时，实际上是在调用元类Singleton的对象my_cls。\n",
    "\n",
    "对象可以以函数的方式被调用，那么要求类中定义\\__call\\__函数。不过此处被调用的是类，因此我们在元类中定义函数__call__来控制类my_cls对象创建的唯一性。\n",
    "\n",
    "这种方式的弊端之一就是类唯一的对象被存放在类的一个静态数据成员中，外部可以通过class_name._instance的方式修改甚至删除这个实例(该例中my_cls._instance = None完全合法)。"
   ]
  },
  {
   "cell_type": "code",
   "execution_count": null,
   "metadata": {},
   "outputs": [],
   "source": []
  }
 ],
 "metadata": {
  "kernelspec": {
   "display_name": "Python 3",
   "language": "python",
   "name": "python3"
  },
  "language_info": {
   "codemirror_mode": {
    "name": "ipython",
    "version": 3
   },
   "file_extension": ".py",
   "mimetype": "text/x-python",
   "name": "python",
   "nbconvert_exporter": "python",
   "pygments_lexer": "ipython3",
   "version": "3.6.5"
  }
 },
 "nbformat": 4,
 "nbformat_minor": 2
}
