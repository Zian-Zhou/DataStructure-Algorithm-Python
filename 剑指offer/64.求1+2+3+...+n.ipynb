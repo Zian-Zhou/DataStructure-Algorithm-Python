{
 "cells": [
  {
   "cell_type": "markdown",
   "metadata": {},
   "source": [
    "# 题目：\n",
    "求1+2+3+...+n，要求不能使用乘除法、for、while、if、else、switch、case等关键字及条件判断语句（A?B:C）。\n",
    "\n",
    "## 思路：\n",
    "除了用高斯写出的求和公式，无外乎循环和递归两个思路。由于已经明确了不能使用for和while，循环已经不能再用了。递归函数也需要if语句或者条件判断语句来判断终止递归，但现在题目已经不允许使用这两种语句了。因此要发散的思考解决方法。  \n",
    "我们还是采用递归方法来求解，但终止条件应该考虑别的方式。两种方式，一种对n连续进行两次反运算，那么非零的n转换为True，0转换为False；另一种采用逻辑与的短路特性。"
   ]
  },
  {
   "cell_type": "code",
   "execution_count": 1,
   "metadata": {},
   "outputs": [],
   "source": [
    "class Solution:\n",
    "    #解法一：\n",
    "    def Sum_Solution1(self,n):\n",
    "        return self.sum(n)\n",
    "    \n",
    "    def sum0(self,n):\n",
    "        return 0\n",
    "    \n",
    "    def sum(self,n):\n",
    "        func = {False:self.sum0,True:self.sum}\n",
    "        return n+func[not not n](n-1)\n",
    "    \n",
    "    #解法二：\n",
    "    def Sum_Solution2(self,n):\n",
    "        return n and n+self.Sum_Solution2(n-1)\n",
    "        #根据逻辑与的短路特性，当逻辑与前面的为真的时候，上面函数不返回n，而是返回逻辑与之后的值"
   ]
  },
  {
   "cell_type": "code",
   "execution_count": 2,
   "metadata": {},
   "outputs": [
    {
     "data": {
      "text/plain": [
       "5050"
      ]
     },
     "execution_count": 2,
     "metadata": {},
     "output_type": "execute_result"
    }
   ],
   "source": [
    "Solution().Sum_Solution1(100)"
   ]
  },
  {
   "cell_type": "code",
   "execution_count": 3,
   "metadata": {},
   "outputs": [
    {
     "data": {
      "text/plain": [
       "5050"
      ]
     },
     "execution_count": 3,
     "metadata": {},
     "output_type": "execute_result"
    }
   ],
   "source": [
    "Solution().Sum_Solution2(100)"
   ]
  },
  {
   "cell_type": "code",
   "execution_count": null,
   "metadata": {},
   "outputs": [],
   "source": []
  }
 ],
 "metadata": {
  "kernelspec": {
   "display_name": "Python 3",
   "language": "python",
   "name": "python3"
  },
  "language_info": {
   "codemirror_mode": {
    "name": "ipython",
    "version": 3
   },
   "file_extension": ".py",
   "mimetype": "text/x-python",
   "name": "python",
   "nbconvert_exporter": "python",
   "pygments_lexer": "ipython3",
   "version": "3.6.5"
  }
 },
 "nbformat": 4,
 "nbformat_minor": 2
}
