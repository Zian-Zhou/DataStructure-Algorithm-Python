{
 "cells": [
  {
   "cell_type": "markdown",
   "metadata": {},
   "source": [
    "# 题目：连续子数组的最大和\n",
    "输入一个整数数组，有正有负。数组中的一个或者连续多个整数组成一个子数组。求所有子数组的和的最大值。要求时间复杂度为$O(n)$.\n",
    "\n",
    "## 思路:\n",
    "1.分析数组的规律：  \n",
    "试着从头到尾逐个累加数组中的每个数字。初始化为0。我们会发现，要得到最大和，那么这个数组的开头一定不是负数，并且数组的末尾一定不是负数。并且如果我们得到了一个连续子数组，当我们碰到一个负数的时候，我们尝试继续向后累加，如果碰到一个整数恰好将这部分的负数抵消掉（大于负数部分的绝对值），那我们一定会把这部分数组保留下来；否则我们一定会从新的正数开始，寻找是否有更大的和。\n",
    "\n",
    "2.动态规划法：\n",
    "如果用函数$f(i)$表示以第i个数字结尾的子数组的最大和，那么我们需要求出$max[f(i)]$。我们可以用如下递归公式求$f(i)$：  \n",
    "$$\n",
    "f(i)=data[i],\\  \\ if\\ i=0\\ or\\ f(i-1)<=0;\\\\\n",
    "f(i)=f(i-1)+data[i],\\ \\ if\\ i!=0\\ and\\ f(i-1)>0. \n",
    "$$\n",
    "这个递归公式的意义为：当以第$i-1$个数字结尾的子数组中所有的数字的和小于$0$时，如果吧这个负数与第$i$个数字累加，则得到的结果比第i个数字本身还要小，这种情况下子数组就是第$i$个数字本身。如果以第$i-1$个数字结尾的子数组中所有的数字之和大于$0$，则与第$i$个数字累加就得到以第i个数字结尾的子数组中所有数字的和。  \n",
    "\n",
    "两个思路最终写成迭代的形式，其实就是一样的。"
   ]
  },
  {
   "cell_type": "code",
   "execution_count": 16,
   "metadata": {},
   "outputs": [],
   "source": [
    "class Solution:\n",
    "    def FindGreatestSumOfSubArray(self,data):\n",
    "        assert data is not  None,'Invalid Input'\n",
    "        if len(data)==0:\n",
    "            return 0\n",
    "        if len(data)==1:\n",
    "            return data[0]\n",
    "        \n",
    "        curSum = 0\n",
    "        GreatestSum = float('-inf')\n",
    "        for num in data:\n",
    "            if curSum<=0:\n",
    "                curSum=num\n",
    "            else:\n",
    "                curSum+=num\n",
    "            if curSum>GreatestSum:\n",
    "                GreatestSum=curSum\n",
    "                \n",
    "        return GreatestSum"
   ]
  },
  {
   "cell_type": "markdown",
   "metadata": {},
   "source": [
    "### test:"
   ]
  },
  {
   "cell_type": "code",
   "execution_count": 17,
   "metadata": {},
   "outputs": [
    {
     "data": {
      "text/plain": [
       "18"
      ]
     },
     "execution_count": 17,
     "metadata": {},
     "output_type": "execute_result"
    }
   ],
   "source": [
    "Solution().FindGreatestSumOfSubArray([1,-2,3,10,-4,7,2,-5])"
   ]
  },
  {
   "cell_type": "code",
   "execution_count": null,
   "metadata": {},
   "outputs": [],
   "source": []
  }
 ],
 "metadata": {
  "kernelspec": {
   "display_name": "Python 3",
   "language": "python",
   "name": "python3"
  },
  "language_info": {
   "codemirror_mode": {
    "name": "ipython",
    "version": 3
   },
   "file_extension": ".py",
   "mimetype": "text/x-python",
   "name": "python",
   "nbconvert_exporter": "python",
   "pygments_lexer": "ipython3",
   "version": "3.6.5"
  }
 },
 "nbformat": 4,
 "nbformat_minor": 2
}
