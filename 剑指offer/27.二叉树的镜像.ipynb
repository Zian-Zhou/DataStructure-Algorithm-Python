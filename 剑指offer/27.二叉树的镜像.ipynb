{
 "cells": [
  {
   "cell_type": "markdown",
   "metadata": {},
   "source": [
    "# 题目：二叉树的镜像\n",
    "实现一个函数，输入一个二叉树，输出它的镜像。二叉树的镜像其实就是交换左右字结点，以先序遍历顺序进行，直到最后非叶子结点都进行了交换即可。  \n",
    "\n",
    "## 解答：\n",
    "参照前序遍历的顺序，每访问一个结点，就交换左右孩子即可。递归实现非常自然，一个扩展问题就是如何写成迭代算法的形式，而不采用递归？\n"
   ]
  },
  {
   "cell_type": "code",
   "execution_count": 1,
   "metadata": {},
   "outputs": [],
   "source": [
    "class BinNode:\n",
    "    def __init__(self,value,left = None, right = None):\n",
    "        self.value = value\n",
    "        self.left = left\n",
    "        self.right = right\n",
    "\n",
    "class BinTree:\n",
    "    def __init__(self):\n",
    "        self.root = None\n",
    "        self.left = None\n",
    "        self.right = None\n",
    "    \n",
    "    #根据先序遍历和中序遍历序列重构二叉树，方便后面写测试用例\n",
    "    def reConstructBinTree(self,preOderList,inOrderList):\n",
    "        if not preOderList or not inOrderList:\n",
    "            print('one of the inputs:preOrderList or inOrderList is empty.' )\n",
    "        if len(preOderList)!=len(inOrderList):\n",
    "            print('Cannot build BinTree, since: the two list have different length.')\n",
    "            \n",
    "        self.root = self._reConstrucBinTree(preOderList,inOrderList)\n",
    "        self.left = self.root.left\n",
    "        self.right = self.root.right\n",
    "        \n",
    "    def _reConstrucBinTree(self,preOderList,inOrderList):\n",
    "        if not preOderList or not inOrderList:\n",
    "            return None\n",
    "        root = BinNode(preOderList[0],None,None)\n",
    "        val = inOrderList.index(preOderList[0])\n",
    "        \n",
    "        root.left = self._reConstrucBinTree(preOderList[1:val+1],inOrderList[:val])\n",
    "        root.right = self._reConstrucBinTree(preOderList[val+1:],inOrderList[val+1:])\n",
    "        \n",
    "        return root"
   ]
  },
  {
   "cell_type": "code",
   "execution_count": 29,
   "metadata": {},
   "outputs": [],
   "source": [
    "class Solution:\n",
    "    def MirrorRecursively(self,root):\n",
    "        #假设叶子节点也有左右孩子，只是左右孩子是None\n",
    "        #这样当递归向下发现空节点的时候，回溯的第一步一定是叶子节点\n",
    "        if root is None:\n",
    "            return\n",
    "        \n",
    "        root.left, root.right = root.right, root.left\n",
    "        \n",
    "        self.MirrorRecursively(root.left)\n",
    "        self.MirrorRecursively(root.right)"
   ]
  },
  {
   "cell_type": "markdown",
   "metadata": {},
   "source": [
    "# 测试"
   ]
  },
  {
   "cell_type": "code",
   "execution_count": 20,
   "metadata": {},
   "outputs": [
    {
     "name": "stdout",
     "output_type": "stream",
     "text": [
      "[9, 8, 2]\n"
     ]
    }
   ],
   "source": [
    "tree = BinTree()\n",
    "tree.reConstructBinTree([8,9,2],[9,8,2])\n",
    "print([tree.root.left.value,tree.root.value,tree.root.right.value])"
   ]
  },
  {
   "cell_type": "code",
   "execution_count": 21,
   "metadata": {},
   "outputs": [
    {
     "name": "stdout",
     "output_type": "stream",
     "text": [
      "[2, 8, 9]\n"
     ]
    }
   ],
   "source": [
    "#镜像\n",
    "Solution().MirrorRecursively(tree.root)\n",
    "print([tree.root.left.value,tree.root.value,tree.root.right.value])"
   ]
  },
  {
   "cell_type": "code",
   "execution_count": null,
   "metadata": {},
   "outputs": [],
   "source": []
  },
  {
   "cell_type": "code",
   "execution_count": 27,
   "metadata": {},
   "outputs": [
    {
     "name": "stdout",
     "output_type": "stream",
     "text": [
      "[None, 8, None]\n"
     ]
    }
   ],
   "source": [
    "tree1 = BinTree()\n",
    "tree1.reConstructBinTree([8],[8])\n",
    "print([tree1.root.left,tree1.root.value,tree1.root.right])"
   ]
  },
  {
   "cell_type": "code",
   "execution_count": 28,
   "metadata": {},
   "outputs": [
    {
     "name": "stdout",
     "output_type": "stream",
     "text": [
      "[None, 8, None]\n"
     ]
    }
   ],
   "source": [
    "#镜像\n",
    "Solution().MirrorRecursively(tree1.root)\n",
    "print([tree1.root.left,tree1.root.value,tree1.root.right])"
   ]
  },
  {
   "cell_type": "code",
   "execution_count": null,
   "metadata": {},
   "outputs": [],
   "source": []
  }
 ],
 "metadata": {
  "kernelspec": {
   "display_name": "Python 3",
   "language": "python",
   "name": "python3"
  },
  "language_info": {
   "codemirror_mode": {
    "name": "ipython",
    "version": 3
   },
   "file_extension": ".py",
   "mimetype": "text/x-python",
   "name": "python",
   "nbconvert_exporter": "python",
   "pygments_lexer": "ipython3",
   "version": "3.6.5"
  }
 },
 "nbformat": 4,
 "nbformat_minor": 2
}
