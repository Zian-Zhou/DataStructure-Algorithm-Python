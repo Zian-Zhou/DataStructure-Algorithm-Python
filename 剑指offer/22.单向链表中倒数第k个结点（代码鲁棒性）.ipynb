{
 "cells": [
  {
   "cell_type": "markdown",
   "metadata": {},
   "source": [
    "# 鲁棒性：\n",
    "所谓代码的鲁棒性，就是指程序能够判断输入是否合乎规范要求，并对不符合要求的输入予以合理的处理。比如本题，就需要判断如果输入的k不符合规范时会发生什么。\n",
    "\n",
    "# 题目：单向链表总倒数第k个结点\n",
    "输入一个链表，输出该链表中倒数第k个结点。为符合大多数人的习惯，从1开始计数，即链表的最后一个节点是倒数第一个节点。  \n",
    "例如一个链表中有6个节点，从头节点开始，它们的值依次是1,2,3,4,5,6。这个链表的倒数第3个节点是值为4的节点。  \n",
    "有三点要注意的：  \n",
    "-1.本题是单项链表；  \n",
    "-2.其次要求算法只遍历一遍链表就得到所要的答案；  \n",
    "-3.注意代码的鲁棒性！  \n",
    "Tips：当我们用一个指针遍历链表不能解决问题的时候，可以尝试用两个指针来遍历链表。可以让一个指针走的快一些（比如一次在链表中走两步），或者让它先在链表上走若干步。"
   ]
  },
  {
   "cell_type": "code",
   "execution_count": 6,
   "metadata": {},
   "outputs": [],
   "source": [
    "#定义结点\n",
    "class ListNode:\n",
    "    def __init__(self,value):\n",
    "        self.value = value\n",
    "        self.next = None\n",
    "\n",
    "#定义单项链表\n",
    "#不考虑头结点尾节点两个哨兵\n",
    "class LinkList:\n",
    "    def __init__(self,data):\n",
    "        self.header=ListNode(None)\n",
    "        if data is None or len(data)==0:\n",
    "            return\n",
    "        thisNode = self.header\n",
    "        for i in range(len(data)):\n",
    "            newNode = ListNode(data[i])\n",
    "            thisNode.next = newNode\n",
    "            thisNode = newNode"
   ]
  },
  {
   "cell_type": "markdown",
   "metadata": {},
   "source": [
    "## 代码"
   ]
  },
  {
   "cell_type": "code",
   "execution_count": 7,
   "metadata": {},
   "outputs": [],
   "source": [
    "class Solution:\n",
    "    def FindKthToTail(self,header,k):\n",
    "        '''\n",
    "        header - ListNode，输入链表的头结点\n",
    "        return - ListNode，返回链表倒数第k个结点\n",
    "        '''\n",
    "        if header is None or k<=0:\n",
    "            print('Invalid Input. Return None node.')\n",
    "            return None\n",
    "        beforeNode = header#先出发指针\n",
    "        #先出发k-1位\n",
    "        for i in range(k-1):\n",
    "            if beforeNode.next is not None:\n",
    "                beforeNode = beforeNode.next\n",
    "            else:\n",
    "                print('Error: There are not k nodes is this LinkList. Return None node.')\n",
    "                return None\n",
    "        afterNode = header#后出发指针\n",
    "        while (beforeNode.next!=None):#同时移动两个指针，直到先出发指针找到链表最后一个节点\n",
    "            afterNode = afterNode.next\n",
    "            beforeNode = beforeNode.next\n",
    "            \n",
    "        return afterNode"
   ]
  },
  {
   "cell_type": "markdown",
   "metadata": {},
   "source": [
    "## 功能测试"
   ]
  },
  {
   "cell_type": "code",
   "execution_count": 8,
   "metadata": {},
   "outputs": [],
   "source": [
    "testLinkList = LinkList([6,5,4,3,2,1])"
   ]
  },
  {
   "cell_type": "code",
   "execution_count": 11,
   "metadata": {},
   "outputs": [
    {
     "data": {
      "text/plain": [
       "6"
      ]
     },
     "execution_count": 11,
     "metadata": {},
     "output_type": "execute_result"
    }
   ],
   "source": [
    "(Solution().FindKthToTail(testLinkList.header,6)).value"
   ]
  },
  {
   "cell_type": "code",
   "execution_count": 12,
   "metadata": {
    "scrolled": true
   },
   "outputs": [
    {
     "data": {
      "text/plain": [
       "5"
      ]
     },
     "execution_count": 12,
     "metadata": {},
     "output_type": "execute_result"
    }
   ],
   "source": [
    "(Solution().FindKthToTail(testLinkList.header,5)).value"
   ]
  },
  {
   "cell_type": "markdown",
   "metadata": {},
   "source": [
    "## 代码鲁棒性测试："
   ]
  },
  {
   "cell_type": "code",
   "execution_count": 13,
   "metadata": {},
   "outputs": [
    {
     "name": "stdout",
     "output_type": "stream",
     "text": [
      "Error: There are not k nodes is this LinkList. Return None node.\n"
     ]
    },
    {
     "ename": "AttributeError",
     "evalue": "'NoneType' object has no attribute 'value'",
     "output_type": "error",
     "traceback": [
      "\u001b[1;31m---------------------------------------------------------------------------\u001b[0m",
      "\u001b[1;31mAttributeError\u001b[0m                            Traceback (most recent call last)",
      "\u001b[1;32m<ipython-input-13-3f2c9c9fd9ad>\u001b[0m in \u001b[0;36m<module>\u001b[1;34m()\u001b[0m\n\u001b[1;32m----> 1\u001b[1;33m \u001b[1;33m(\u001b[0m\u001b[0mSolution\u001b[0m\u001b[1;33m(\u001b[0m\u001b[1;33m)\u001b[0m\u001b[1;33m.\u001b[0m\u001b[0mFindKthToTail\u001b[0m\u001b[1;33m(\u001b[0m\u001b[0mtestLinkList\u001b[0m\u001b[1;33m.\u001b[0m\u001b[0mheader\u001b[0m\u001b[1;33m,\u001b[0m\u001b[1;36m10\u001b[0m\u001b[1;33m)\u001b[0m\u001b[1;33m)\u001b[0m\u001b[1;33m.\u001b[0m\u001b[0mvalue\u001b[0m\u001b[1;33m\u001b[0m\u001b[0m\n\u001b[0m",
      "\u001b[1;31mAttributeError\u001b[0m: 'NoneType' object has no attribute 'value'"
     ]
    }
   ],
   "source": [
    "(Solution().FindKthToTail(testLinkList.header,10)).value"
   ]
  },
  {
   "cell_type": "code",
   "execution_count": 14,
   "metadata": {},
   "outputs": [
    {
     "name": "stdout",
     "output_type": "stream",
     "text": [
      "Invalid Input. Return None node.\n"
     ]
    },
    {
     "ename": "AttributeError",
     "evalue": "'NoneType' object has no attribute 'value'",
     "output_type": "error",
     "traceback": [
      "\u001b[1;31m---------------------------------------------------------------------------\u001b[0m",
      "\u001b[1;31mAttributeError\u001b[0m                            Traceback (most recent call last)",
      "\u001b[1;32m<ipython-input-14-6b6699998015>\u001b[0m in \u001b[0;36m<module>\u001b[1;34m()\u001b[0m\n\u001b[1;32m----> 1\u001b[1;33m \u001b[1;33m(\u001b[0m\u001b[0mSolution\u001b[0m\u001b[1;33m(\u001b[0m\u001b[1;33m)\u001b[0m\u001b[1;33m.\u001b[0m\u001b[0mFindKthToTail\u001b[0m\u001b[1;33m(\u001b[0m\u001b[1;32mNone\u001b[0m\u001b[1;33m,\u001b[0m\u001b[1;36m6\u001b[0m\u001b[1;33m)\u001b[0m\u001b[1;33m)\u001b[0m\u001b[1;33m.\u001b[0m\u001b[0mvalue\u001b[0m\u001b[1;33m\u001b[0m\u001b[0m\n\u001b[0m",
      "\u001b[1;31mAttributeError\u001b[0m: 'NoneType' object has no attribute 'value'"
     ]
    }
   ],
   "source": [
    "(Solution().FindKthToTail(None,6)).value"
   ]
  },
  {
   "cell_type": "markdown",
   "metadata": {},
   "source": [
    "# 类似题目：\n",
    "求链表的中间节点。如果链表的节点总数为奇数，则返回中间节点；如果为偶数，则返回中间两个节点中的任意一个。\n",
    "## 思路：\n",
    "为了解决这个问题，并且在一次遍历的前提下实现，我们可以设置两个指针。并且都同时从头节点出发，而其中一个指针走的更快一些，一次走两步，另一个指针一次只走一步。此时走得快的指针访问到链表最后一个节点的时候，走得慢的指针就正好在链表的中间。"
   ]
  },
  {
   "cell_type": "code",
   "execution_count": 15,
   "metadata": {},
   "outputs": [],
   "source": [
    "#代码实现略"
   ]
  },
  {
   "cell_type": "code",
   "execution_count": null,
   "metadata": {},
   "outputs": [],
   "source": []
  }
 ],
 "metadata": {
  "kernelspec": {
   "display_name": "Python 3",
   "language": "python",
   "name": "python3"
  },
  "language_info": {
   "codemirror_mode": {
    "name": "ipython",
    "version": 3
   },
   "file_extension": ".py",
   "mimetype": "text/x-python",
   "name": "python",
   "nbconvert_exporter": "python",
   "pygments_lexer": "ipython3",
   "version": "3.6.5"
  }
 },
 "nbformat": 4,
 "nbformat_minor": 2
}
