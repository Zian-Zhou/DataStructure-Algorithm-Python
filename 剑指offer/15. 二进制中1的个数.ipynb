{
 "cells": [
  {
   "cell_type": "markdown",
   "metadata": {},
   "source": [
    "# 题目：二进制中1的个数\n",
    "输入一个整数，输出该数二进制表示中1的个数。其中负数用补码表示。\n",
    "\n",
    "## 相似题目：\n",
    "### ·1.用一条语句判断一个整数是不是2的整数次方\n",
    "### ·2.输入两个整数m和n，计算需要改变m的二进制表示中的多少位才能得到n\n",
    "\n",
    "## 思路：位运算&\n",
    "考虑二进制数：1001，将其减去1，只有右边的1变为0，而其他位不变，得到1000，两者取与运算，也就得到了1000，此时二进制数去掉了最右边的1\n",
    "          而对1100，将其减去1，只有最右边的1及其右边的所有位发生变化，而左边不发生变化，取与运算后得到1000，发现二进制数去掉了最右边的1\n",
    "          \n",
    "总结一下就是：每做一次运算：$(n-1)&n$，n的二进制数中就会去掉最右边的1，直到没有1，这个数就变成了0\n",
    "\n"
   ]
  },
  {
   "cell_type": "markdown",
   "metadata": {},
   "source": [
    "## 总结：关于与运算\n",
    "把一个整数减去1之后再和原来的整数做位与运算，得到的结果相当于把整数的二进制表示中最右边的1变成0"
   ]
  },
  {
   "cell_type": "code",
   "execution_count": 3,
   "metadata": {},
   "outputs": [],
   "source": [
    "def numberOf1(n):\n",
    "    count = 0\n",
    "    while(n):#循环直到n变为0\n",
    "        n  = (n-1)&n\n",
    "        count+=1\n",
    "    return count"
   ]
  },
  {
   "cell_type": "code",
   "execution_count": 4,
   "metadata": {},
   "outputs": [
    {
     "data": {
      "text/plain": [
       "2"
      ]
     },
     "execution_count": 4,
     "metadata": {},
     "output_type": "execute_result"
    }
   ],
   "source": [
    "numberOf1(10)"
   ]
  },
  {
   "cell_type": "markdown",
   "metadata": {},
   "source": [
    "### 1.用一条语句判断一个整数是不是2的整数次方"
   ]
  },
  {
   "cell_type": "code",
   "execution_count": 6,
   "metadata": {},
   "outputs": [],
   "source": [
    "def powerOf2(n):\n",
    "    if n<=0:\n",
    "        return False\n",
    "    \n",
    "    return not (n-1)&n"
   ]
  },
  {
   "cell_type": "code",
   "execution_count": 9,
   "metadata": {},
   "outputs": [
    {
     "name": "stdout",
     "output_type": "stream",
     "text": [
      "False True\n"
     ]
    }
   ],
   "source": [
    "print(powerOf2(3),powerOf2(4))"
   ]
  },
  {
   "cell_type": "markdown",
   "metadata": {},
   "source": [
    "### 2.输入两个整数m和n，计算需要改变m的二进制表示中的多少位才能得到n"
   ]
  },
  {
   "cell_type": "code",
   "execution_count": 10,
   "metadata": {},
   "outputs": [],
   "source": [
    "def changeCount(m,n):\n",
    "    count = 0\n",
    "    #先求异或，得到两个数不同的位的数\n",
    "    x = m^n\n",
    "    #问题转化为二进制数中有几个1\n",
    "    while(x):\n",
    "        count+=1\n",
    "        x = (x-1)&x\n",
    "    return count"
   ]
  },
  {
   "cell_type": "code",
   "execution_count": 12,
   "metadata": {},
   "outputs": [
    {
     "data": {
      "text/plain": [
       "3"
      ]
     },
     "execution_count": 12,
     "metadata": {},
     "output_type": "execute_result"
    }
   ],
   "source": [
    "changeCount(10,13)#10=(1010) 13=(1101) 需要改变3位"
   ]
  },
  {
   "cell_type": "code",
   "execution_count": null,
   "metadata": {},
   "outputs": [],
   "source": []
  }
 ],
 "metadata": {
  "kernelspec": {
   "display_name": "Python 3",
   "language": "python",
   "name": "python3"
  },
  "language_info": {
   "codemirror_mode": {
    "name": "ipython",
    "version": 3
   },
   "file_extension": ".py",
   "mimetype": "text/x-python",
   "name": "python",
   "nbconvert_exporter": "python",
   "pygments_lexer": "ipython3",
   "version": "3.6.5"
  }
 },
 "nbformat": 4,
 "nbformat_minor": 2
}
