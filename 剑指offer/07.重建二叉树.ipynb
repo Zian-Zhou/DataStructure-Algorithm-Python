{
 "cells": [
  {
   "cell_type": "markdown",
   "metadata": {},
   "source": [
    "# 题目：\n",
    "输入某二叉树的前序遍历和中序遍历的结果，重建出该二叉树。  \n",
    "假设输入的前序遍历和中序遍历的结果中都不含重复的数字。  \n",
    "例如输入前序遍历序列{1,2,4,7,3,5,6,8}和中序遍历序列{4,7,2,1,5,3,8,6}，则重建二叉树并返回。\n",
    "\n",
    "## 思路：\n",
    "前序遍历的第一个对应树的根节点 ，在根据这个根节点与中序遍历序列则可以得到左右子树。递归实现，直到？？？"
   ]
  },
  {
   "cell_type": "markdown",
   "metadata": {},
   "source": [
    "## Tree in Python：\n",
    "Python中树的实现：https://www.cnblogs.com/bjwu/p/9016566.html  \n",
    "其实是list of lists：['q',[],[]]  'q'为根节点， 对于二叉树来说，之后的两个list就对应左右子树\n",
    "\n"
   ]
  },
  {
   "cell_type": "code",
   "execution_count": 2,
   "metadata": {},
   "outputs": [],
   "source": [
    "class TreeNode:\n",
    "    def __init__(self, x):\n",
    "        self.val = x\n",
    "        self.left = None\n",
    "        self.right = None"
   ]
  },
  {
   "cell_type": "code",
   "execution_count": 13,
   "metadata": {},
   "outputs": [],
   "source": [
    "class Solution:\n",
    "    def __init__(self):\n",
    "        pass\n",
    "\n",
    "    def reConstructBinaryTree(self, pre, tin):\n",
    "        '''\n",
    "        pre:先序遍历序列\n",
    "        tin:中序遍历序列\n",
    "        '''\n",
    "        if not pre or not tin:\n",
    "            return None\n",
    "        \n",
    "        root = TreeNode(pre[0])\n",
    "        val = tin.index(pre[0])#找到中序遍历序列中对应找到的根节点的位置index，这样左右分别为左右子树\n",
    "        \n",
    "        root.left = self.reConstructBinaryTree(pre[1:val+1],tin[:val])\n",
    "        root.right = self.reConstructBinaryTree(pre[val+1:],tin[val+1:])\n",
    "        \n",
    "        return root#TreeNode: val, left, right"
   ]
  },
  {
   "cell_type": "markdown",
   "metadata": {},
   "source": [
    "测试："
   ]
  },
  {
   "cell_type": "code",
   "execution_count": 92,
   "metadata": {},
   "outputs": [],
   "source": [
    "'''\n",
    "class TreeNode:\n",
    "    def __init__(self, x):\n",
    "        self.val = x\n",
    "        self.left = None\n",
    "        self.right = None\n",
    "'''\n",
    "\n",
    "class BinaryTree(TreeNode):\n",
    "    def __init__(self,rootNode):\n",
    "        self.root = rootNode       #存储根节点,为一个结点类\n",
    "        self.left = rootNode.left     #存储左孩子，为一个结点类\n",
    "        self.right = rootNode.right  #同self.left\n",
    "    \n",
    "    def preOrder(self):\n",
    "        pass\n",
    "        \n",
    "    \n",
    "    def tree_list(self):\n",
    "        return self._tree_list(self.root)\n",
    "    \n",
    "    def _tree_list(self,root):\n",
    "        if root.left is None and root.right is None:\n",
    "            return [root.val,[None],[None]]\n",
    "        elif root.left is None:#没有左孩子，但是有右孩子\n",
    "            return [root.val,[None],[self._tree_list(root.right)]]\n",
    "        elif root.right is None:\n",
    "            return [root.val,[self._tree_list(root.left)],[None]]\n",
    "        else:\n",
    "            return [root.val,[self._tree_list(root.left)],[self._tree_list(root.right)]]        "
   ]
  },
  {
   "cell_type": "code",
   "execution_count": 93,
   "metadata": {},
   "outputs": [],
   "source": [
    "root = Solution().reConstructBinaryTree([1,2,4,7,3,5,6,8],[4,7,2,1,5,3,8,6])"
   ]
  },
  {
   "cell_type": "code",
   "execution_count": 94,
   "metadata": {},
   "outputs": [
    {
     "data": {
      "text/plain": [
       "[1,\n",
       " [[2, [[4, [None], [[7, [None], [None]]]]], [None]]],\n",
       " [[3, [[5, [None], [None]]], [[6, [[8, [None], [None]]], [None]]]]]]"
      ]
     },
     "execution_count": 94,
     "metadata": {},
     "output_type": "execute_result"
    }
   ],
   "source": [
    "tree = BinaryTree(root)\n",
    "tree.tree_list()"
   ]
  },
  {
   "cell_type": "code",
   "execution_count": 76,
   "metadata": {},
   "outputs": [
    {
     "data": {
      "text/plain": [
       "[1, [None], [None]]"
      ]
     },
     "execution_count": 76,
     "metadata": {},
     "output_type": "execute_result"
    }
   ],
   "source": [
    "root = TreeNode(1)\n",
    "tree = BinaryTree(root).tree_list()\n",
    "tree"
   ]
  },
  {
   "cell_type": "code",
   "execution_count": 82,
   "metadata": {},
   "outputs": [
    {
     "data": {
      "text/plain": [
       "[1, [[2, [None], [None]]], [[3, [None], [None]]]]"
      ]
     },
     "execution_count": 82,
     "metadata": {},
     "output_type": "execute_result"
    }
   ],
   "source": [
    "root = Solution().reConstructBinaryTree([1,2,3],[2,1,3])\n",
    "tree = BinaryTree(root)\n",
    "tree.tree_list(root)"
   ]
  },
  {
   "cell_type": "code",
   "execution_count": null,
   "metadata": {},
   "outputs": [],
   "source": []
  }
 ],
 "metadata": {
  "kernelspec": {
   "display_name": "Python 3",
   "language": "python",
   "name": "python3"
  },
  "language_info": {
   "codemirror_mode": {
    "name": "ipython",
    "version": 3
   },
   "file_extension": ".py",
   "mimetype": "text/x-python",
   "name": "python",
   "nbconvert_exporter": "python",
   "pygments_lexer": "ipython3",
   "version": "3.6.5"
  }
 },
 "nbformat": 4,
 "nbformat_minor": 2
}
