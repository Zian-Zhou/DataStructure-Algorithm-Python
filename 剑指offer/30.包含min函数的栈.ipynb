{
 "cells": [
  {
   "cell_type": "markdown",
   "metadata": {},
   "source": [
    "# 题目：包含min函数的栈\n",
    "定义栈的数据结构，在该类型中实现一个能够得到栈的最小元素的min函数。在该栈中，调用min、push以及pop的时间复杂度都是$O(1)$.\n",
    "\n",
    "## 分析思路：\n",
    "第一想法：每次push一个元素入栈的时候，就对栈进行排序。显然这个想法不对，毕竟排序之后就不符合先进后出的栈的要求了。  \n",
    "第二想法：用一个成员变量存放最小元素。每次push一个新元素的时候，如果新元素比最小元素还要小，就更新最小元素。但这样存在一个问题，就是如果栈中最小元素出栈之后，次小元素找不到了，没法在常数时间内找到它。  \n",
    "分析到这我们可以发现了，仅仅用一个成员变量存放最小元素是不够的，我们需要在压如最小元素之前，把次小的元素保存起来。  \n",
    "综上所述，我们采用一个辅助栈来存储最小元素。并相应的，出栈入栈的操作也要在辅助栈上进行，以更新最小元素。"
   ]
  },
  {
   "cell_type": "code",
   "execution_count": 1,
   "metadata": {},
   "outputs": [],
   "source": [
    "class StackWithMin:\n",
    "    def __init__(self):\n",
    "        self.stack = []\n",
    "        self.stackMin = []\n",
    "    \n",
    "    def top(self):\n",
    "        if self.stack == []:\n",
    "            print('Satack is empty. Return None.')\n",
    "            return None\n",
    "        return self.stack[-1]\n",
    "        \n",
    "    def pop(self):\n",
    "        if self.stack == []:\n",
    "            print('Satack is empty. Return None.')\n",
    "            return None\n",
    "        if self.top()==self.stackMin[-1]:\n",
    "            self.stackMin.pop()\n",
    "            return self.stack.pop()\n",
    "        else:\n",
    "            return self.stack.pop()\n",
    "        \n",
    "    def push(self,value):\n",
    "        self.stack.append(value)\n",
    "        if len(self.stackMin)==0 or value<self.stackMin[-1]:\n",
    "            self.stackMin.append(value)\n",
    "        else:\n",
    "            self.stackMin.append(self.stackMin[-1])\n",
    "            \n",
    "    def min(self):\n",
    "        if self.stack==[]:\n",
    "            print('Stack is empty. Return None')\n",
    "            return None\n",
    "        return self.stackMin[-1]"
   ]
  },
  {
   "cell_type": "markdown",
   "metadata": {},
   "source": [
    "# 测试"
   ]
  },
  {
   "cell_type": "code",
   "execution_count": 3,
   "metadata": {},
   "outputs": [],
   "source": [
    "S = StackWithMin()"
   ]
  },
  {
   "cell_type": "code",
   "execution_count": 4,
   "metadata": {},
   "outputs": [
    {
     "name": "stdout",
     "output_type": "stream",
     "text": [
      "Stack is empty. Return None\n"
     ]
    }
   ],
   "source": [
    "S.min()"
   ]
  },
  {
   "cell_type": "code",
   "execution_count": 5,
   "metadata": {},
   "outputs": [
    {
     "name": "stdout",
     "output_type": "stream",
     "text": [
      "Satack is empty. Return None.\n"
     ]
    }
   ],
   "source": [
    "S.top()"
   ]
  },
  {
   "cell_type": "code",
   "execution_count": 6,
   "metadata": {},
   "outputs": [
    {
     "name": "stdout",
     "output_type": "stream",
     "text": [
      "Satack is empty. Return None.\n"
     ]
    }
   ],
   "source": [
    "S.pop()"
   ]
  },
  {
   "cell_type": "code",
   "execution_count": 7,
   "metadata": {},
   "outputs": [],
   "source": [
    "S.push(1)#[1]"
   ]
  },
  {
   "cell_type": "code",
   "execution_count": 8,
   "metadata": {},
   "outputs": [],
   "source": [
    "S.push(2)#[1,2]"
   ]
  },
  {
   "cell_type": "code",
   "execution_count": 10,
   "metadata": {},
   "outputs": [
    {
     "data": {
      "text/plain": [
       "1"
      ]
     },
     "execution_count": 10,
     "metadata": {},
     "output_type": "execute_result"
    }
   ],
   "source": [
    "S.min()#[1,2]"
   ]
  },
  {
   "cell_type": "code",
   "execution_count": 11,
   "metadata": {},
   "outputs": [],
   "source": [
    "S.push(0)#[1,2,0]"
   ]
  },
  {
   "cell_type": "code",
   "execution_count": 12,
   "metadata": {},
   "outputs": [
    {
     "data": {
      "text/plain": [
       "0"
      ]
     },
     "execution_count": 12,
     "metadata": {},
     "output_type": "execute_result"
    }
   ],
   "source": [
    "S.min()"
   ]
  },
  {
   "cell_type": "code",
   "execution_count": 13,
   "metadata": {},
   "outputs": [
    {
     "data": {
      "text/plain": [
       "0"
      ]
     },
     "execution_count": 13,
     "metadata": {},
     "output_type": "execute_result"
    }
   ],
   "source": [
    "S.pop()#[1,2]"
   ]
  },
  {
   "cell_type": "code",
   "execution_count": 14,
   "metadata": {},
   "outputs": [
    {
     "data": {
      "text/plain": [
       "1"
      ]
     },
     "execution_count": 14,
     "metadata": {},
     "output_type": "execute_result"
    }
   ],
   "source": [
    "S.min()"
   ]
  },
  {
   "cell_type": "code",
   "execution_count": 15,
   "metadata": {},
   "outputs": [
    {
     "data": {
      "text/plain": [
       "2"
      ]
     },
     "execution_count": 15,
     "metadata": {},
     "output_type": "execute_result"
    }
   ],
   "source": [
    "S.pop()#[1]"
   ]
  },
  {
   "cell_type": "code",
   "execution_count": 16,
   "metadata": {},
   "outputs": [
    {
     "data": {
      "text/plain": [
       "1"
      ]
     },
     "execution_count": 16,
     "metadata": {},
     "output_type": "execute_result"
    }
   ],
   "source": [
    "S.min()"
   ]
  },
  {
   "cell_type": "code",
   "execution_count": 17,
   "metadata": {},
   "outputs": [
    {
     "data": {
      "text/plain": [
       "1"
      ]
     },
     "execution_count": 17,
     "metadata": {},
     "output_type": "execute_result"
    }
   ],
   "source": [
    "S.pop()"
   ]
  },
  {
   "cell_type": "code",
   "execution_count": 18,
   "metadata": {},
   "outputs": [
    {
     "name": "stdout",
     "output_type": "stream",
     "text": [
      "Stack is empty. Return None\n"
     ]
    }
   ],
   "source": [
    "S.min()"
   ]
  },
  {
   "cell_type": "code",
   "execution_count": null,
   "metadata": {},
   "outputs": [],
   "source": []
  }
 ],
 "metadata": {
  "kernelspec": {
   "display_name": "Python 3",
   "language": "python",
   "name": "python3"
  },
  "language_info": {
   "codemirror_mode": {
    "name": "ipython",
    "version": 3
   },
   "file_extension": ".py",
   "mimetype": "text/x-python",
   "name": "python",
   "nbconvert_exporter": "python",
   "pygments_lexer": "ipython3",
   "version": "3.6.5"
  }
 },
 "nbformat": 4,
 "nbformat_minor": 2
}
