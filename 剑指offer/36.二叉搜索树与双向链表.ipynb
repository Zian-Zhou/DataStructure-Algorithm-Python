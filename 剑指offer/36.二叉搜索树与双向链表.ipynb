{
 "cells": [
  {
   "cell_type": "markdown",
   "metadata": {},
   "source": [
    "# 题目：二叉搜索树与双向链表\n",
    "输入一颗BST，将其转换成一个排序的双向链表。  \n",
    "要求不能创建任何新的节点，只能调整树中节点指针的指向。  \n",
    "\n",
    "## 分析：\n",
    "二叉搜索树自带有序性：其中序遍历序列为一个递增序列。而这恰好是我们要得到的双向链表的顺序。  \n",
    "双向链表中的节点有前驱和后继两个指针，恰好又对应BST中节点的左右孩子。并且BST中，左孩子小于根节点小于右节点。  \n",
    "因此我们只需要参考中序遍历的顺序，重新修改每个节点两个指针的指向即可。接下来要考虑的就是怎么修改每个节点的指针指向。"
   ]
  },
  {
   "cell_type": "code",
   "execution_count": 1,
   "metadata": {},
   "outputs": [],
   "source": [
    "class BinNode:\n",
    "    def __init__(self,value=None,left=None,right=None):\n",
    "        self.value = value\n",
    "        self.left = left\n",
    "        self.right = right"
   ]
  },
  {
   "cell_type": "code",
   "execution_count": 34,
   "metadata": {},
   "outputs": [],
   "source": [
    "class Solution:\n",
    "    def Convert(self,treeRoot):\n",
    "        if not treeRoot:\n",
    "            print('Invalid Input. Return None.')\n",
    "            return None\n",
    "        root=treeRoot#中序遍历开始的根节点\n",
    "        header=treeRoot#双向链表的头结点（首节点，这里忽略头结点哨兵）\n",
    "        while header.left:\n",
    "            header=header.left#沿左侧链一直下行，直到叶子节点，在BST中这一定是最小的值\n",
    "        self.core(root)\n",
    "        \n",
    "        return header\n",
    "    \n",
    "    def core(self,root):\n",
    "        #如果当前结点左右孩子都不存在，则返回\n",
    "        #即递归到叶子节点则返回\n",
    "        #因此这里递归函数是对遍历过的每个节点，都找到对应在双向链表中的前驱后继结点并链接\n",
    "        if not root.left and not root.right:\n",
    "            return\n",
    "        #中序遍历顺序\n",
    "        #1.先左\n",
    "        if root.left:#如果左子树存在\n",
    "            preRoot = root.left\n",
    "            self.core(root.left)\n",
    "            while preRoot.right:#找到左子树中最大的节点（只需沿着左孩子的右侧链下行到叶子节点即可）\n",
    "                preRoot = preRoot.right\n",
    "            preRoot.right=root\n",
    "            root.left = preRoot\n",
    "        #2.接着根节点：不做任何操作\n",
    "        #3.最后右\n",
    "        if root.right:#如果右子树存在\n",
    "            succRoot = root.right\n",
    "            self.core(root.right)\n",
    "            while succRoot.left:#找到右子树中最小的节点（只需沿着右孩子的左侧链下行到叶子节点即可）\n",
    "                succRoot = succRoot.left\n",
    "            succRoot.left = root\n",
    "            root.right = succRoot\n",
    "            \n",
    "        #上述算法是否有重复操作的地方？\n",
    "        #我的看法是有，但没必要改(#^.^#)。。比如说递归到了叶子节点（假设是左孩子L）的父亲节点P，在上述算法中，先判断P的左孩子存在\n",
    "        #就找左子树中最大的元素，实际上并不不能继续向右下行了，此时preRoot其实就是原来的叶子节点L，并且他们已经存在有\n",
    "        #L是P的前驱的指针了，只是L的后继没有指向父亲P而已。\n",
    "        #但是，如果往递归函数中加入一个这样的判断，对于整体BST遍历的时候，又多了很多不必要的判断，也就是对整体性能有所影响，\n",
    "        #因此没必要在单独判断这种情况了。"
   ]
  },
  {
   "cell_type": "markdown",
   "metadata": {},
   "source": [
    "### 测试："
   ]
  },
  {
   "cell_type": "code",
   "execution_count": 35,
   "metadata": {},
   "outputs": [],
   "source": [
    "class BinNode:\n",
    "    def __init__(self,value,left = None, right = None):\n",
    "        self.value = value\n",
    "        self.left = left\n",
    "        self.right = right\n",
    "\n",
    "class BinTree:\n",
    "    def __init__(self):\n",
    "        self.root = None\n",
    "        self.left = None\n",
    "        self.right = None\n",
    "    \n",
    "    #根据先序遍历和中序遍历序列重构二叉树，方便后面写测试用例\n",
    "    def reConstructBinTree(self,preOderList,inOrderList):\n",
    "        if not preOderList or not inOrderList:\n",
    "            print('one of the inputs:preOrderList or inOrderList is empty.' )\n",
    "        if len(preOderList)!=len(inOrderList):\n",
    "            print('Cannot build BinTree, since: the two list have different length.')\n",
    "            \n",
    "        self.root = self._reConstrucBinTree(preOderList,inOrderList)\n",
    "        self.left = self.root.left\n",
    "        self.right = self.root.right\n",
    "        \n",
    "    def _reConstrucBinTree(self,preOderList,inOrderList):\n",
    "        if not preOderList or not inOrderList:\n",
    "            return None\n",
    "        root = BinNode(preOderList[0],None,None)\n",
    "        val = inOrderList.index(preOderList[0])\n",
    "        \n",
    "        root.left = self._reConstrucBinTree(preOderList[1:val+1],inOrderList[:val])\n",
    "        root.right = self._reConstrucBinTree(preOderList[val+1:],inOrderList[val+1:])\n",
    "        \n",
    "        return root\n",
    "\n",
    "def printLinkList(head):\n",
    "    if head is None:\n",
    "        return []\n",
    "    res = []\n",
    "    thisNode = head\n",
    "    while thisNode is not None:\n",
    "        res.append(thisNode.value)\n",
    "        thisNode = thisNode.right\n",
    "    print(res)"
   ]
  },
  {
   "cell_type": "code",
   "execution_count": 36,
   "metadata": {},
   "outputs": [
    {
     "name": "stdout",
     "output_type": "stream",
     "text": [
      "[4, 6, 8, 10, 12, 14, 16]\n"
     ]
    }
   ],
   "source": [
    "tree1 = BinTree()\n",
    "tree1.reConstructBinTree(preOderList=[10,6,4,8,14,12,16],inOrderList=[4,6,8,10,12,14,16])\n",
    "newHead = Solution().Convert(tree1.root)\n",
    "printLinkList(newHead)"
   ]
  },
  {
   "cell_type": "code",
   "execution_count": null,
   "metadata": {},
   "outputs": [],
   "source": []
  },
  {
   "cell_type": "code",
   "execution_count": 38,
   "metadata": {},
   "outputs": [
    {
     "name": "stdout",
     "output_type": "stream",
     "text": [
      "[1, 2, 3, 4, 5, 6]\n"
     ]
    }
   ],
   "source": [
    "tree3 = BinTree()\n",
    "tree3.reConstructBinTree(preOderList=[2,1,5,4,3,6],inOrderList=[1,2,3,4,5,6])\n",
    "newHead = Solution().Convert(tree3.root)\n",
    "printLinkList(newHead)"
   ]
  },
  {
   "cell_type": "code",
   "execution_count": null,
   "metadata": {},
   "outputs": [],
   "source": []
  },
  {
   "cell_type": "code",
   "execution_count": null,
   "metadata": {},
   "outputs": [],
   "source": []
  }
 ],
 "metadata": {
  "kernelspec": {
   "display_name": "Python 3",
   "language": "python",
   "name": "python3"
  },
  "language_info": {
   "codemirror_mode": {
    "name": "ipython",
    "version": 3
   },
   "file_extension": ".py",
   "mimetype": "text/x-python",
   "name": "python",
   "nbconvert_exporter": "python",
   "pygments_lexer": "ipython3",
   "version": "3.6.5"
  }
 },
 "nbformat": 4,
 "nbformat_minor": 2
}
