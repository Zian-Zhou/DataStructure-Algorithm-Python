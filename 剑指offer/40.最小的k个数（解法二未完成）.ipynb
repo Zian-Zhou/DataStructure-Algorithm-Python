{
 "cells": [
  {
   "cell_type": "markdown",
   "metadata": {},
   "source": [
    "# 题目：最小的k个数\n",
    "输入n个整数，找出其中最小的k个数。  \n",
    "\n",
    "## 思路：\n",
    "最简单的做法就是先将输入的n个整数排序，排序之后最前面的k个数就是最小的k个数，自然算法复杂度就是$O(nlogn)$。但这不是最优的算法。  \n",
    "接下来介绍两个效率要求不同的两个解法。  \n",
    "\n",
    "### 解法一：时间复杂度$O(n)$，但要求可以修改输入的数组\n",
    "同样可以基于$Partition$函数来解决这个问题。如果基于数组的第k个数字来调整，则使得比第k个数字小的所有数字都位于数组的左边，比第k个数字大的所有数字都位于数组的右边。这样调整之后，位于数组中左边的k个数字就是最小的k个数字（这k个数字不一定是有序的）。  \n",
    "这一题充分利用了快速排序的思想，并且采用$Partition$函数这一利器，很多算法都可以考虑这个函数来实现，但有个问题就是这个函数会对数组进行修改，所以采用前还是要确定一下可不可以对数组进行修改。  \n",
    "$Partition$函数的实现介绍可以看notebook中排序算法介绍快速排序的部分。\n",
    "\n",
    "\n",
    "### 解法二：时间复杂度$O(nlogk)$，适合处理海量数据（未完成）\n",
    "先创建一个大小为k的数据容器来存储最小的k个数字，接下来每次从输入的n个整数读入一个数。如果容器中已有的数字少于k个，则直接把这次读入的整数放入容器之中；如果容器中已有k个数字了，就是说容器满了，因此这次只能替换容器中已有的数字。  \n",
    "找出这k个数字中的最大值，然后拿这次待插入的整数和最大值进行比较，如果要插入的数字比容器中最大的数字小，说明最大的那个数字不应该在容器中，因此将两者交换；反之，如果比最大值还要大，自然也没必要加入到容器中。  \n",
    "总的来说，当容器满了之后，我们要做3件事情：第一是在k个整数中找到最大数，第二是有可能在这个容器中删除最大数，第三是有可能要插入一个新的数字。如果用一棵二叉树来实现这个数据容器，我们就能在$O(logk)$时间内来实现这3步操作。因此对n个输入数字来说，总的时间效率就是$O(nlogk)$。  \n",
    "这里的二叉树，我们可以选择红黑树或者最大堆来实现。  \n",
    "https://www.cnblogs.com/yanmk/p/9222971.html  \n",
    "这个算法的实现依赖于红黑树、最大堆的构造，从头到尾构造这样的数据结构还是要花一定时间的，python有包可以实现，如果可以用，直接用，否则就就从头搭建。因为我还没完整学号最大堆和红黑树的数据结构，等学完了再来补充。"
   ]
  },
  {
   "cell_type": "markdown",
   "metadata": {},
   "source": [
    "#### 解法一：利用$Parition$函数"
   ]
  },
  {
   "cell_type": "code",
   "execution_count": 55,
   "metadata": {},
   "outputs": [],
   "source": [
    "import random\n",
    "class Solution1:\n",
    "    def GetLeastNumbers(self,data,k):\n",
    "        #assert (data is None or k<=0 or k>len(data)),'Invalid Input'\n",
    "        start = 0\n",
    "        end = len(data)-1\n",
    "        index = self.partition(data,start,end)\n",
    "        #index左边的元素都小于index位置上的元素\n",
    "        \n",
    "        if index is None:\n",
    "            print('asfasfa')\n",
    "            \n",
    "        while index!=k-1:#如果刚好index在k-1位置上，index的元素正好符合题目的要求\n",
    "            if index>k-1:\n",
    "                end=index\n",
    "                index = self.partition(data,start,end)\n",
    "            else:\n",
    "                start=index\n",
    "                index = self.partition(data,start,end)\n",
    "                \n",
    "        res = [None]*k\n",
    "        for i in range(k):\n",
    "            res[i]=data[i]\n",
    "        return res\n",
    "        \n",
    "    def partition(self,data,start,end):\n",
    "        if data is None or len(data)==0 or start<0 or end>=len(data):\n",
    "            print('Invalid Input.')\n",
    "            return 0\n",
    "        index = random.randint(start,end)\n",
    "        data[index],data[end]=data[end],data[index]\n",
    "        small = start-1\n",
    "        for index in range(start,end):\n",
    "            if data[index]<data[end]:\n",
    "                small+=1\n",
    "                if small!=index:\n",
    "                    self.swap(data,index,small)\n",
    "        small+=1\n",
    "        self.swap(data,small,end)\n",
    "        return small\n",
    "    \n",
    "    def swap(self,data,i,j):\n",
    "        data[i],data[j]=data[j],data[i]"
   ]
  },
  {
   "cell_type": "markdown",
   "metadata": {},
   "source": [
    "##### test:"
   ]
  },
  {
   "cell_type": "code",
   "execution_count": 59,
   "metadata": {},
   "outputs": [
    {
     "data": {
      "text/plain": [
       "[1, 2, 0, 3, 4]"
      ]
     },
     "execution_count": 59,
     "metadata": {},
     "output_type": "execute_result"
    }
   ],
   "source": [
    "Solution1().GetLeastNumbers(data=[1,2,3,10,20,15,0,4,5,6,7],k=5)"
   ]
  },
  {
   "cell_type": "code",
   "execution_count": null,
   "metadata": {},
   "outputs": [],
   "source": []
  },
  {
   "cell_type": "markdown",
   "metadata": {},
   "source": [
    "#### 解法二：利用最大堆或者红黑树\n",
    "待完成"
   ]
  },
  {
   "cell_type": "code",
   "execution_count": null,
   "metadata": {},
   "outputs": [],
   "source": []
  },
  {
   "cell_type": "code",
   "execution_count": null,
   "metadata": {},
   "outputs": [],
   "source": []
  }
 ],
 "metadata": {
  "kernelspec": {
   "display_name": "Python 3",
   "language": "python",
   "name": "python3"
  },
  "language_info": {
   "codemirror_mode": {
    "name": "ipython",
    "version": 3
   },
   "file_extension": ".py",
   "mimetype": "text/x-python",
   "name": "python",
   "nbconvert_exporter": "python",
   "pygments_lexer": "ipython3",
   "version": "3.6.5"
  }
 },
 "nbformat": 4,
 "nbformat_minor": 2
}
