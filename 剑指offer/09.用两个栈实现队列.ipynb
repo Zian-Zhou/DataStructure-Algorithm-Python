{
 "cells": [
  {
   "cell_type": "markdown",
   "metadata": {},
   "source": [
    "# 题目：两个栈实现队列\n",
    "用两个栈来实现一个队列，完成队列的enqueue入队和dequeue出队操作。 队列中的元素为int类型。\n",
    "\n",
    "## 思路：\n",
    "用两个栈stackA,stackB，A负责解决入队，B负责解决出队。  \n",
    "入栈时，直接进入A即可，出栈时，先判断B中是否有元素，如果没有肯定不能pop()，应将A中所有元素倒压在B里面，再pop()最上面（后面）的元素，如果有，直接pop()就可以了。两个栈各自先进后出，在一起又实现了队列的新进先出。\n",
    "\n",
    "## 记忆：\n",
    "两栈A,B，入队A，出队B；出队时，若栈B为空，栈A弹出所有并以此入栈B"
   ]
  },
  {
   "cell_type": "code",
   "execution_count": 29,
   "metadata": {},
   "outputs": [],
   "source": [
    "class Queue:\n",
    "    def __init__(self,myList):\n",
    "        self.S1 = myList\n",
    "        self.S2 = []\n",
    "        self._length = len(myList)\n",
    "         \n",
    "    def enqueue(self,intValue):\n",
    "        if isinstance(intValue,int):\n",
    "            self._length += 1\n",
    "            self.S1.append(intValue)\n",
    "        else:\n",
    "            print('cannot enqueue since type of input is not int.')\n",
    "            \n",
    "    def dequeue(self):\n",
    "        if self._length==0:\n",
    "            print('cannot dequeue since queue is empty! Return None')\n",
    "            return None\n",
    "        if len(self.S2)==0:\n",
    "            while(len(self.S1)!=0):\n",
    "                self.S2.append(self.S1.pop())\n",
    "        self._length -= 1\n",
    "        return self.S2.pop()"
   ]
  },
  {
   "cell_type": "code",
   "execution_count": 30,
   "metadata": {},
   "outputs": [],
   "source": [
    "Q = Queue([1,2,3,4,5])#入队顺序 1,2,3,4,5,"
   ]
  },
  {
   "cell_type": "code",
   "execution_count": 31,
   "metadata": {},
   "outputs": [
    {
     "data": {
      "text/plain": [
       "1"
      ]
     },
     "execution_count": 31,
     "metadata": {},
     "output_type": "execute_result"
    }
   ],
   "source": [
    "Q.dequeue()#[2,3,4,5]"
   ]
  },
  {
   "cell_type": "code",
   "execution_count": 32,
   "metadata": {},
   "outputs": [
    {
     "data": {
      "text/plain": [
       "2"
      ]
     },
     "execution_count": 32,
     "metadata": {},
     "output_type": "execute_result"
    }
   ],
   "source": [
    "Q.dequeue()#[3,4,5]"
   ]
  },
  {
   "cell_type": "code",
   "execution_count": 33,
   "metadata": {},
   "outputs": [],
   "source": [
    "Q.enqueue(3)#[3,4,5,3]"
   ]
  },
  {
   "cell_type": "code",
   "execution_count": 34,
   "metadata": {},
   "outputs": [
    {
     "data": {
      "text/plain": [
       "3"
      ]
     },
     "execution_count": 34,
     "metadata": {},
     "output_type": "execute_result"
    }
   ],
   "source": [
    "Q.dequeue()#[4,5,3]"
   ]
  },
  {
   "cell_type": "code",
   "execution_count": 35,
   "metadata": {},
   "outputs": [
    {
     "data": {
      "text/plain": [
       "4"
      ]
     },
     "execution_count": 35,
     "metadata": {},
     "output_type": "execute_result"
    }
   ],
   "source": [
    "Q.dequeue()#[5,3]"
   ]
  },
  {
   "cell_type": "code",
   "execution_count": 36,
   "metadata": {},
   "outputs": [
    {
     "data": {
      "text/plain": [
       "5"
      ]
     },
     "execution_count": 36,
     "metadata": {},
     "output_type": "execute_result"
    }
   ],
   "source": [
    "Q.dequeue()#[3]"
   ]
  },
  {
   "cell_type": "code",
   "execution_count": 37,
   "metadata": {},
   "outputs": [
    {
     "data": {
      "text/plain": [
       "3"
      ]
     },
     "execution_count": 37,
     "metadata": {},
     "output_type": "execute_result"
    }
   ],
   "source": [
    "Q.dequeue()#[]"
   ]
  },
  {
   "cell_type": "code",
   "execution_count": 38,
   "metadata": {},
   "outputs": [
    {
     "name": "stdout",
     "output_type": "stream",
     "text": [
      "cannot dequeue since queue is empty! Return None\n"
     ]
    }
   ],
   "source": [
    "Q.dequeue()#[]"
   ]
  },
  {
   "cell_type": "code",
   "execution_count": 39,
   "metadata": {},
   "outputs": [
    {
     "name": "stdout",
     "output_type": "stream",
     "text": [
      "cannot enqueue since type of input is not int.\n"
     ]
    }
   ],
   "source": [
    "Q.enqueue('a')"
   ]
  },
  {
   "cell_type": "markdown",
   "metadata": {},
   "source": [
    "# 相似题目：两个队列实现栈\n",
    "用两个队列实现栈，完成栈的push()和pop()接口\n",
    "\n",
    "# 思路：\n",
    "用两个辅助队列A、B，两个队列都有可能负责出队或者入队，但每个时刻负责不同，保证其中一个队列为空。执行入栈操作的时候，找非空队列入队；\n",
    "如果两个都为空队列，入队队列A。执行出栈操作的时候，找非空队列出队，由于此时要弹出的是队列末端的元素，因此要先将非空队列的所有元素出队并\n",
    "入队到空队列中，直到最后一个元素，不入队，此时直接出队。\n",
    "\n",
    "# 记忆：\n",
    "两队列，入栈空队列，出栈非空队列最末元素。当出栈时，将非空队列元素全部出队并入队到空队列中，除了非空队列的最末端元素，出队返回。"
   ]
  },
  {
   "cell_type": "code",
   "execution_count": 48,
   "metadata": {},
   "outputs": [],
   "source": [
    "class Stack():\n",
    "    def __init__(self,myList):\n",
    "        #List看做队列，出队就是list.pop(0),入队就是list.append(value)\n",
    "        self.Queue1 = myList#队列\n",
    "        self.Queue2 = []#队列\n",
    "        self._length = len(myList)\n",
    "        \n",
    "    def push(self,intValue):\n",
    "        if isinstance(intValue, int):\n",
    "            if self._length == 0:\n",
    "                self._length+=1\n",
    "                self.Queue1.append(intValue)\n",
    "            elif len(self.Queue1) == 0:\n",
    "                self._length+=1\n",
    "                self.Queue2.append(intValue)\n",
    "            else:\n",
    "                self._length+=1\n",
    "                self.Queue1.append(intValue)\n",
    "        else:\n",
    "            print('cannot enqueue since type of input is not int.')\n",
    "            \n",
    "    def pop(self):\n",
    "        if self._length == 0:\n",
    "            print('cannot dequeue since queue is empty! Return None')\n",
    "            return None\n",
    "        l1,l2 = len(self.Queue1), len(self.Queue2)\n",
    "        if l1!=0:#队列1非空,而队列2为空\n",
    "            while(l1>1):\n",
    "                self.Queue2.append(self.Queue1.pop(0))\n",
    "                l1-=1\n",
    "            self._length -= 1\n",
    "            return self.Queue1.pop(0)\n",
    "        else:\n",
    "            while(l2>1):\n",
    "                self.Queue1.append(self.Queue2.pop(0))\n",
    "                l2-=1\n",
    "            self._length -= 1\n",
    "            return self.Queue2.pop(0)\n",
    "            "
   ]
  },
  {
   "cell_type": "code",
   "execution_count": 49,
   "metadata": {},
   "outputs": [],
   "source": [
    "S = Stack([1,2,3])#右边为栈顶"
   ]
  },
  {
   "cell_type": "code",
   "execution_count": 50,
   "metadata": {},
   "outputs": [
    {
     "data": {
      "text/plain": [
       "3"
      ]
     },
     "execution_count": 50,
     "metadata": {},
     "output_type": "execute_result"
    }
   ],
   "source": [
    "S.pop()#[1,2]->3"
   ]
  },
  {
   "cell_type": "code",
   "execution_count": 51,
   "metadata": {},
   "outputs": [],
   "source": [
    "S.push(10)#[1,2,10]"
   ]
  },
  {
   "cell_type": "code",
   "execution_count": 52,
   "metadata": {},
   "outputs": [
    {
     "data": {
      "text/plain": [
       "10"
      ]
     },
     "execution_count": 52,
     "metadata": {},
     "output_type": "execute_result"
    }
   ],
   "source": [
    "S.pop()#[1,2]->10"
   ]
  },
  {
   "cell_type": "code",
   "execution_count": 53,
   "metadata": {},
   "outputs": [
    {
     "name": "stdout",
     "output_type": "stream",
     "text": [
      "cannot enqueue since type of input is not int.\n"
     ]
    }
   ],
   "source": [
    "S.push('a')"
   ]
  },
  {
   "cell_type": "code",
   "execution_count": 54,
   "metadata": {},
   "outputs": [
    {
     "data": {
      "text/plain": [
       "2"
      ]
     },
     "execution_count": 54,
     "metadata": {},
     "output_type": "execute_result"
    }
   ],
   "source": [
    "S.pop()#[1]->2"
   ]
  },
  {
   "cell_type": "code",
   "execution_count": 55,
   "metadata": {},
   "outputs": [
    {
     "data": {
      "text/plain": [
       "1"
      ]
     },
     "execution_count": 55,
     "metadata": {},
     "output_type": "execute_result"
    }
   ],
   "source": [
    "S.pop()#[]->1"
   ]
  },
  {
   "cell_type": "code",
   "execution_count": 56,
   "metadata": {},
   "outputs": [
    {
     "name": "stdout",
     "output_type": "stream",
     "text": [
      "cannot dequeue since queue is empty! Return None\n"
     ]
    }
   ],
   "source": [
    "S.pop()"
   ]
  },
  {
   "cell_type": "code",
   "execution_count": null,
   "metadata": {},
   "outputs": [],
   "source": []
  }
 ],
 "metadata": {
  "kernelspec": {
   "display_name": "Python 3",
   "language": "python",
   "name": "python3"
  },
  "language_info": {
   "codemirror_mode": {
    "name": "ipython",
    "version": 3
   },
   "file_extension": ".py",
   "mimetype": "text/x-python",
   "name": "python",
   "nbconvert_exporter": "python",
   "pygments_lexer": "ipython3",
   "version": "3.6.5"
  }
 },
 "nbformat": 4,
 "nbformat_minor": 2
}
